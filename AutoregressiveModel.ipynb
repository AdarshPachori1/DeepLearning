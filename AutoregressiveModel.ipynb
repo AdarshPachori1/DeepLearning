{
 "cells": [
  {
   "cell_type": "markdown",
   "metadata": {},
   "source": [
    "## Autoregressive model\n",
    "#### Creating data points that follow a sin wave, and then building a model to forecast future values of the data"
   ]
  },
  {
   "cell_type": "code",
   "execution_count": 3,
   "metadata": {
    "colab": {},
    "colab_type": "code",
    "id": "CoocTl7lb4wx"
   },
   "outputs": [],
   "source": [
    "import tensorflow as tf"
   ]
  },
  {
   "cell_type": "code",
   "execution_count": 4,
   "metadata": {
    "colab": {},
    "colab_type": "code",
    "id": "AuCKef-Rb8AY"
   },
   "outputs": [],
   "source": [
    "import numpy as np\n",
    "import matplotlib.pyplot as plt\n",
    "import pandas as pd\n"
   ]
  },
  {
   "cell_type": "markdown",
   "metadata": {},
   "source": [
    "#### Creating sin wave data"
   ]
  },
  {
   "cell_type": "code",
   "execution_count": 5,
   "metadata": {
    "colab": {},
    "colab_type": "code",
    "id": "jMXBm6_OcE-r"
   },
   "outputs": [],
   "source": [
    "x_sin = np.sin(0.1*np.arange(200)) #+ 0.1*np.random.rand()"
   ]
  },
  {
   "cell_type": "code",
   "execution_count": null,
   "metadata": {
    "colab": {},
    "colab_type": "code",
    "id": "z9SBuQV9cRj9"
   },
   "outputs": [],
   "source": [
    "D = 10\n",
    "X = []\n",
    "Y = []\n",
    "for t in range(len(x_sin)-D):\n",
    "  X.append(x_sin[t:t+D])\n",
    "  Y.append(x_sin[t+D])"
   ]
  },
  {
   "cell_type": "code",
   "execution_count": null,
   "metadata": {
    "colab": {},
    "colab_type": "code",
    "id": "37C6QCxrcbo5"
   },
   "outputs": [],
   "source": [
    "X = np.array(X)"
   ]
  },
  {
   "cell_type": "code",
   "execution_count": null,
   "metadata": {
    "colab": {},
    "colab_type": "code",
    "id": "oPlpZXu_dZLT"
   },
   "outputs": [],
   "source": [
    "Y = np.array(Y)"
   ]
  },
  {
   "cell_type": "markdown",
   "metadata": {},
   "source": [
    "#### Splitting the data into training and testing"
   ]
  },
  {
   "cell_type": "code",
   "execution_count": null,
   "metadata": {
    "colab": {},
    "colab_type": "code",
    "id": "UsGWzgvNdvcj"
   },
   "outputs": [],
   "source": [
    "N = len(X)\n",
    "x_train = X[:-N//2]\n",
    "x_test = X[-N//2:]\n",
    "y_train = Y[:-N//2]\n",
    "y_test = Y[-N//2:]"
   ]
  },
  {
   "cell_type": "markdown",
   "metadata": {},
   "source": [
    "#### Building & Training the model"
   ]
  },
  {
   "cell_type": "code",
   "execution_count": null,
   "metadata": {
    "colab": {},
    "colab_type": "code",
    "id": "yaCuDITxeDRz"
   },
   "outputs": [],
   "source": [
    "i = tf.keras.layers.Input(shape = (D,))\n",
    "x = tf.keras.layers.Dense(1)(i)\n",
    "model = tf.keras.models.Model(i,x)"
   ]
  },
  {
   "cell_type": "code",
   "execution_count": null,
   "metadata": {
    "colab": {},
    "colab_type": "code",
    "id": "Vw3pD0KRfMCW"
   },
   "outputs": [],
   "source": [
    "model.compile(optimizer = tf.keras.optimizers.Adam(learning_rate=0.1), loss = \"mse\")"
   ]
  },
  {
   "cell_type": "code",
   "execution_count": 32,
   "metadata": {
    "colab": {
     "base_uri": "https://localhost:8080/",
     "height": 1000
    },
    "colab_type": "code",
    "executionInfo": {
     "elapsed": 2966,
     "status": "ok",
     "timestamp": 1591982500712,
     "user": {
      "displayName": "Adarsh Pachori",
      "photoUrl": "",
      "userId": "06453457984377806328"
     },
     "user_tz": 420
    },
    "id": "bByoqJZ3fxN-",
    "outputId": "c06e5714-da0e-470b-97e3-46ea6d67fc52"
   },
   "outputs": [
    {
     "name": "stdout",
     "output_type": "stream",
     "text": [
      "Epoch 1/50\n",
      "3/3 [==============================] - 0s 53ms/step - loss: 4.4344 - val_loss: 0.7974\n",
      "Epoch 2/50\n",
      "3/3 [==============================] - 0s 12ms/step - loss: 0.5648 - val_loss: 0.7375\n",
      "Epoch 3/50\n",
      "3/3 [==============================] - 0s 12ms/step - loss: 1.3410 - val_loss: 1.2501\n",
      "Epoch 4/50\n",
      "3/3 [==============================] - 0s 12ms/step - loss: 1.2045 - val_loss: 0.5178\n",
      "Epoch 5/50\n",
      "3/3 [==============================] - 0s 14ms/step - loss: 0.2968 - val_loss: 0.1107\n",
      "Epoch 6/50\n",
      "3/3 [==============================] - 0s 12ms/step - loss: 0.1778 - val_loss: 0.2871\n",
      "Epoch 7/50\n",
      "3/3 [==============================] - 0s 12ms/step - loss: 0.4120 - val_loss: 0.2774\n",
      "Epoch 8/50\n",
      "3/3 [==============================] - 0s 12ms/step - loss: 0.2778 - val_loss: 0.0619\n",
      "Epoch 9/50\n",
      "3/3 [==============================] - 0s 12ms/step - loss: 0.0442 - val_loss: 0.0520\n",
      "Epoch 10/50\n",
      "3/3 [==============================] - 0s 12ms/step - loss: 0.0685 - val_loss: 0.1297\n",
      "Epoch 11/50\n",
      "3/3 [==============================] - 0s 12ms/step - loss: 0.1192 - val_loss: 0.0655\n",
      "Epoch 12/50\n",
      "3/3 [==============================] - 0s 13ms/step - loss: 0.0414 - val_loss: 0.0013\n",
      "Epoch 13/50\n",
      "3/3 [==============================] - 0s 14ms/step - loss: 0.0091 - val_loss: 0.0399\n",
      "Epoch 14/50\n",
      "3/3 [==============================] - 0s 14ms/step - loss: 0.0462 - val_loss: 0.0515\n",
      "Epoch 15/50\n",
      "3/3 [==============================] - 0s 12ms/step - loss: 0.0314 - val_loss: 0.0129\n",
      "Epoch 16/50\n",
      "3/3 [==============================] - 0s 13ms/step - loss: 0.0061 - val_loss: 0.0090\n",
      "Epoch 17/50\n",
      "3/3 [==============================] - 0s 12ms/step - loss: 0.0163 - val_loss: 0.0167\n",
      "Epoch 18/50\n",
      "3/3 [==============================] - 0s 13ms/step - loss: 0.0161 - val_loss: 0.0049\n",
      "Epoch 19/50\n",
      "3/3 [==============================] - 0s 14ms/step - loss: 0.0031 - val_loss: 0.0026\n",
      "Epoch 20/50\n",
      "3/3 [==============================] - 0s 14ms/step - loss: 0.0054 - val_loss: 0.0061\n",
      "Epoch 21/50\n",
      "3/3 [==============================] - 0s 12ms/step - loss: 0.0067 - val_loss: 0.0014\n",
      "Epoch 22/50\n",
      "3/3 [==============================] - 0s 12ms/step - loss: 9.8688e-04 - val_loss: 0.0011\n",
      "Epoch 23/50\n",
      "3/3 [==============================] - 0s 12ms/step - loss: 0.0020 - val_loss: 0.0027\n",
      "Epoch 24/50\n",
      "3/3 [==============================] - 0s 14ms/step - loss: 0.0022 - val_loss: 4.0668e-04\n",
      "Epoch 25/50\n",
      "3/3 [==============================] - 0s 12ms/step - loss: 2.4418e-04 - val_loss: 5.9925e-04\n",
      "Epoch 26/50\n",
      "3/3 [==============================] - 0s 14ms/step - loss: 9.9501e-04 - val_loss: 0.0013\n",
      "Epoch 27/50\n",
      "3/3 [==============================] - 0s 12ms/step - loss: 9.2241e-04 - val_loss: 1.9265e-04\n",
      "Epoch 28/50\n",
      "3/3 [==============================] - 0s 13ms/step - loss: 1.7589e-04 - val_loss: 3.4546e-04\n",
      "Epoch 29/50\n",
      "3/3 [==============================] - 0s 12ms/step - loss: 5.3443e-04 - val_loss: 4.2056e-04\n",
      "Epoch 30/50\n",
      "3/3 [==============================] - 0s 12ms/step - loss: 2.7447e-04 - val_loss: 4.9794e-05\n",
      "Epoch 31/50\n",
      "3/3 [==============================] - 0s 12ms/step - loss: 9.3039e-05 - val_loss: 1.7658e-04\n",
      "Epoch 32/50\n",
      "3/3 [==============================] - 0s 12ms/step - loss: 2.2640e-04 - val_loss: 8.1101e-05\n",
      "Epoch 33/50\n",
      "3/3 [==============================] - 0s 15ms/step - loss: 5.0424e-05 - val_loss: 2.0296e-05\n",
      "Epoch 34/50\n",
      "3/3 [==============================] - 0s 12ms/step - loss: 4.8228e-05 - val_loss: 8.0829e-05\n",
      "Epoch 35/50\n",
      "3/3 [==============================] - 0s 12ms/step - loss: 7.0681e-05 - val_loss: 1.0841e-05\n",
      "Epoch 36/50\n",
      "3/3 [==============================] - 0s 13ms/step - loss: 7.8143e-06 - val_loss: 3.0409e-05\n",
      "Epoch 37/50\n",
      "3/3 [==============================] - 0s 12ms/step - loss: 3.6096e-05 - val_loss: 3.8155e-05\n",
      "Epoch 38/50\n",
      "3/3 [==============================] - 0s 12ms/step - loss: 2.1904e-05 - val_loss: 4.1563e-06\n",
      "Epoch 39/50\n",
      "3/3 [==============================] - 0s 12ms/step - loss: 8.7142e-06 - val_loss: 1.6658e-05\n",
      "Epoch 40/50\n",
      "3/3 [==============================] - 0s 13ms/step - loss: 1.6828e-05 - val_loss: 5.1466e-06\n",
      "Epoch 41/50\n",
      "3/3 [==============================] - 0s 13ms/step - loss: 2.7885e-06 - val_loss: 3.3510e-06\n",
      "Epoch 42/50\n",
      "3/3 [==============================] - 0s 13ms/step - loss: 6.6804e-06 - val_loss: 4.8051e-06\n",
      "Epoch 43/50\n",
      "3/3 [==============================] - 0s 16ms/step - loss: 3.5557e-06 - val_loss: 1.2304e-07\n",
      "Epoch 44/50\n",
      "3/3 [==============================] - 0s 12ms/step - loss: 1.2372e-06 - val_loss: 3.0658e-06\n",
      "Epoch 45/50\n",
      "3/3 [==============================] - 0s 13ms/step - loss: 2.9419e-06 - val_loss: 4.7346e-07\n",
      "Epoch 46/50\n",
      "3/3 [==============================] - 0s 13ms/step - loss: 4.1905e-07 - val_loss: 1.3235e-06\n",
      "Epoch 47/50\n",
      "3/3 [==============================] - 0s 13ms/step - loss: 1.5324e-06 - val_loss: 1.3805e-06\n",
      "Epoch 48/50\n",
      "3/3 [==============================] - 0s 12ms/step - loss: 7.5347e-07 - val_loss: 1.5161e-07\n",
      "Epoch 49/50\n",
      "3/3 [==============================] - 0s 12ms/step - loss: 4.3424e-07 - val_loss: 8.0068e-07\n",
      "Epoch 50/50\n",
      "3/3 [==============================] - 0s 12ms/step - loss: 6.2280e-07 - val_loss: 1.7318e-07\n"
     ]
    }
   ],
   "source": [
    "r = model.fit(x_train, y_train, epochs = 50, validation_data=(x_test, y_test))"
   ]
  },
  {
   "cell_type": "markdown",
   "metadata": {},
   "source": [
    "#### Evaluating the model"
   ]
  },
  {
   "cell_type": "code",
   "execution_count": null,
   "metadata": {
    "colab": {},
    "colab_type": "code",
    "id": "hlCgaYSlg46R"
   },
   "outputs": [],
   "source": [
    "model_predictions = []\n",
    "index = 0\n",
    "x_predictions = x_test[0]\n",
    "while len(y_test)> len(model_predictions):\n",
    "  prediction = model.predict(x_predictions.reshape(1, -1))[0][0]\n",
    "  model_predictions.append(prediction)\n",
    "  x_predictions = np.roll(x_predictions, -1)\n",
    "  x_predictions[-1] = prediction"
   ]
  },
  {
   "cell_type": "code",
   "execution_count": 45,
   "metadata": {
    "colab": {
     "base_uri": "https://localhost:8080/",
     "height": 282
    },
    "colab_type": "code",
    "executionInfo": {
     "elapsed": 721,
     "status": "ok",
     "timestamp": 1591983332662,
     "user": {
      "displayName": "Adarsh Pachori",
      "photoUrl": "",
      "userId": "06453457984377806328"
     },
     "user_tz": 420
    },
    "id": "9IjLOHo-hOfh",
    "outputId": "3f2d802f-4ab1-49dc-d8bc-de4f83dc75b7"
   },
   "outputs": [
    {
     "data": {
      "text/plain": [
       "<matplotlib.legend.Legend at 0x7f4de6707828>"
      ]
     },
     "execution_count": 45,
     "metadata": {
      "tags": []
     },
     "output_type": "execute_result"
    },
    {
     "data": {
      "image/png": "[encoded data removed]",
      "text/plain": [
       "<Figure size 432x288 with 1 Axes>"
      ]
     },
     "metadata": {
      "needs_background": "light",
      "tags": []
     },
     "output_type": "display_data"
    }
   ],
   "source": [
    "plt.plot(model_predictions, label = 'Prediction')\n",
    "plt.plot(y_test, label = 'Actual Value')\n",
    "plt.legend()"
   ]
  },
  {
   "cell_type": "code",
   "execution_count": null,
   "metadata": {
    "colab": {},
    "colab_type": "code",
    "id": "Zemb9d09lQH9"
   },
   "outputs": [],
   "source": []
  }
 ],
 "metadata": {
  "colab": {
   "authorship_tag": "ABX9TyOu31xwtQ+lFWX2ieT0VxzX",
   "collapsed_sections": [],
   "name": "AutoregressiveModel.ipynb",
   "provenance": []
  },
  "kernelspec": {
   "display_name": "Python 3",
   "language": "python",
   "name": "python3"
  },
  "language_info": {
   "codemirror_mode": {
    "name": "ipython",
    "version": 3
   },
   "file_extension": ".py",
   "mimetype": "text/x-python",
   "name": "python",
   "nbconvert_exporter": "python",
   "pygments_lexer": "ipython3",
   "version": "3.7.6"
  }
 },
 "nbformat": 4,
 "nbformat_minor": 4
}
