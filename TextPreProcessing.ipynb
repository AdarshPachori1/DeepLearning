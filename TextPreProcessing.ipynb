{
 "cells": [
  {
   "cell_type": "markdown",
   "metadata": {},
   "source": [
    "## Text preprocessing w/ TensorFlow"
   ]
  },
  {
   "cell_type": "code",
   "execution_count": null,
   "metadata": {
    "colab": {},
    "colab_type": "code",
    "id": "yFuqPvOTVNhn"
   },
   "outputs": [],
   "source": [
    "import tensorflow as tf"
   ]
  },
  {
   "cell_type": "code",
   "execution_count": null,
   "metadata": {
    "colab": {},
    "colab_type": "code",
    "id": "khOJZDHiVRFQ"
   },
   "outputs": [],
   "source": [
    "from tensorflow.keras.preprocessing.text import Tokenizer\n",
    "from tensorflow.keras.preprocessing.sequence import pad_sequences"
   ]
  },
  {
   "cell_type": "markdown",
   "metadata": {},
   "source": [
    "#### Tokenizing the given sentences and mapping the words to integers "
   ]
  },
  {
   "cell_type": "code",
   "execution_count": null,
   "metadata": {
    "colab": {},
    "colab_type": "code",
    "id": "4g32A5HGVnX4"
   },
   "outputs": [],
   "source": [
    "MAX_WORDS = 20000\n",
    "tokenizer = Tokenizer(num_words=MAX_WORDS)\n",
    "sentences = [\n",
    "             \"I like green eggs and ham.\",\n",
    "             \"I love chocolate and bunnies\", \n",
    "             \"I hate onions\"\n",
    "]\n"
   ]
  },
  {
   "cell_type": "code",
   "execution_count": null,
   "metadata": {
    "colab": {},
    "colab_type": "code",
    "id": "L9KFcmcTWAC6"
   },
   "outputs": [],
   "source": [
    "tokenizer.fit_on_texts(sentences)\n",
    "sequences = tokenizer.texts_to_sequences(sentences)\n"
   ]
  },
  {
   "cell_type": "code",
   "execution_count": 12,
   "metadata": {
    "colab": {
     "base_uri": "https://localhost:8080/",
     "height": 221
    },
    "colab_type": "code",
    "executionInfo": {
     "elapsed": 438,
     "status": "ok",
     "timestamp": 1592079968756,
     "user": {
      "displayName": "Adarsh Pachori",
      "photoUrl": "",
      "userId": "06453457984377806328"
     },
     "user_tz": 420
    },
    "id": "XQ2gCUo6Wj-q",
    "outputId": "a81b8f3a-c590-476f-c063-6bb0c89ef9c3"
   },
   "outputs": [
    {
     "name": "stdout",
     "output_type": "stream",
     "text": [
      "[[1, 3, 4, 5, 2, 6], [1, 7, 8, 2, 9], [1, 10, 11]]\n"
     ]
    },
    {
     "data": {
      "text/plain": [
       "{'and': 2,\n",
       " 'bunnies': 9,\n",
       " 'chocolate': 8,\n",
       " 'eggs': 5,\n",
       " 'green': 4,\n",
       " 'ham': 6,\n",
       " 'hate': 10,\n",
       " 'i': 1,\n",
       " 'like': 3,\n",
       " 'love': 7,\n",
       " 'onions': 11}"
      ]
     },
     "execution_count": 12,
     "metadata": {
      "tags": []
     },
     "output_type": "execute_result"
    }
   ],
   "source": [
    "print(sequences)\n",
    "tokenizer.word_index #contains the conversion between text and integers"
   ]
  },
  {
   "cell_type": "markdown",
   "metadata": {},
   "source": [
    "#### Padding shorter sentences with zeros"
   ]
  },
  {
   "cell_type": "code",
   "execution_count": 13,
   "metadata": {
    "colab": {
     "base_uri": "https://localhost:8080/",
     "height": 68
    },
    "colab_type": "code",
    "executionInfo": {
     "elapsed": 414,
     "status": "ok",
     "timestamp": 1592080069637,
     "user": {
      "displayName": "Adarsh Pachori",
      "photoUrl": "",
      "userId": "06453457984377806328"
     },
     "user_tz": 420
    },
    "id": "zd4NHwVpWnr5",
    "outputId": "356969ac-b8d2-43c0-a7ec-b667cdf12c74"
   },
   "outputs": [
    {
     "name": "stdout",
     "output_type": "stream",
     "text": [
      "[[ 1  3  4  5  2  6]\n",
      " [ 1  7  8  2  9  0]\n",
      " [ 1 10 11  0  0  0]]\n"
     ]
    }
   ],
   "source": [
    "data = pad_sequences(sequences, padding = \"post\")\n",
    "print(data)"
   ]
  }
 ],
 "metadata": {
  "colab": {
   "authorship_tag": "ABX9TyMTMHPrBkOtXTW4vxuJMQhL",
   "collapsed_sections": [],
   "name": "TextPreProcessing.ipynb",
   "provenance": []
  },
  "kernelspec": {
   "display_name": "Python 3",
   "language": "python",
   "name": "python3"
  },
  "language_info": {
   "codemirror_mode": {
    "name": "ipython",
    "version": 3
   },
   "file_extension": ".py",
   "mimetype": "text/x-python",
   "name": "python",
   "nbconvert_exporter": "python",
   "pygments_lexer": "ipython3",
   "version": "3.7.6"
  }
 },
 "nbformat": 4,
 "nbformat_minor": 4
}
