{
 "cells": [
  {
   "cell_type": "markdown",
   "metadata": {},
   "source": [
    "## Linear Classification ANN\n",
    "#### Developed a model to classify whether a tumor is malignant or benign based on various attributes"
   ]
  },
  {
   "cell_type": "code",
   "execution_count": null,
   "metadata": {
    "colab": {},
    "colab_type": "code",
    "id": "92O3IE7jAPq8"
   },
   "outputs": [],
   "source": [
    "import tensorflow as tf"
   ]
  },
  {
   "cell_type": "code",
   "execution_count": null,
   "metadata": {
    "colab": {},
    "colab_type": "code",
    "id": "Urfd-ACEAWdu"
   },
   "outputs": [],
   "source": [
    "from  sklearn.datasets import load_breast_cancer"
   ]
  },
  {
   "cell_type": "markdown",
   "metadata": {},
   "source": [
    "#### Loading and understanding the data"
   ]
  },
  {
   "cell_type": "code",
   "execution_count": null,
   "metadata": {
    "colab": {},
    "colab_type": "code",
    "id": "9jq2QfuxAbYu"
   },
   "outputs": [],
   "source": [
    "data = load_breast_cancer()"
   ]
  },
  {
   "cell_type": "code",
   "execution_count": 6,
   "metadata": {
    "colab": {
     "base_uri": "https://localhost:8080/",
     "height": 34
    },
    "colab_type": "code",
    "executionInfo": {
     "elapsed": 871,
     "status": "ok",
     "timestamp": 1591736323974,
     "user": {
      "displayName": "Adarsh Pachori",
      "photoUrl": "",
      "userId": "06453457984377806328"
     },
     "user_tz": 420
    },
    "id": "RD_SnZqWAiAZ",
    "outputId": "0300988c-19c5-4988-e723-6d193d0b09da"
   },
   "outputs": [
    {
     "data": {
      "text/plain": [
       "sklearn.utils.Bunch"
      ]
     },
     "execution_count": 6,
     "metadata": {
      "tags": []
     },
     "output_type": "execute_result"
    }
   ],
   "source": [
    "type(data)"
   ]
  },
  {
   "cell_type": "code",
   "execution_count": 7,
   "metadata": {
    "colab": {
     "base_uri": "https://localhost:8080/",
     "height": 1000
    },
    "colab_type": "code",
    "executionInfo": {
     "elapsed": 903,
     "status": "ok",
     "timestamp": 1591736324362,
     "user": {
      "displayName": "Adarsh Pachori",
      "photoUrl": "",
      "userId": "06453457984377806328"
     },
     "user_tz": 420
    },
    "id": "wsMJzms_AkNm",
    "outputId": "60bf6a36-1b72-4d97-e7a7-9840e8b34736"
   },
   "outputs": [
    {
     "name": "stdout",
     "output_type": "stream",
     "text": [
      ".. _breast_cancer_dataset:\n",
      "\n",
      "Breast cancer wisconsin (diagnostic) dataset\n",
      "--------------------------------------------\n",
      "\n",
      "**Data Set Characteristics:**\n",
      "\n",
      "    :Number of Instances: 569\n",
      "\n",
      "    :Number of Attributes: 30 numeric, predictive attributes and the class\n",
      "\n",
      "    :Attribute Information:\n",
      "        - radius (mean of distances from center to points on the perimeter)\n",
      "        - texture (standard deviation of gray-scale values)\n",
      "        - perimeter\n",
      "        - area\n",
      "        - smoothness (local variation in radius lengths)\n",
      "        - compactness (perimeter^2 / area - 1.0)\n",
      "        - concavity (severity of concave portions of the contour)\n",
      "        - concave points (number of concave portions of the contour)\n",
      "        - symmetry \n",
      "        - fractal dimension (\"coastline approximation\" - 1)\n",
      "\n",
      "        The mean, standard error, and \"worst\" or largest (mean of the three\n",
      "        largest values) of these features were computed for each image,\n",
      "        resulting in 30 features.  For instance, field 3 is Mean Radius, field\n",
      "        13 is Radius SE, field 23 is Worst Radius.\n",
      "\n",
      "        - class:\n",
      "                - WDBC-Malignant\n",
      "                - WDBC-Benign\n",
      "\n",
      "    :Summary Statistics:\n",
      "\n",
      "    ===================================== ====== ======\n",
      "                                           Min    Max\n",
      "    ===================================== ====== ======\n",
      "    radius (mean):                        6.981  28.11\n",
      "    texture (mean):                       9.71   39.28\n",
      "    perimeter (mean):                     43.79  188.5\n",
      "    area (mean):                          143.5  2501.0\n",
      "    smoothness (mean):                    0.053  0.163\n",
      "    compactness (mean):                   0.019  0.345\n",
      "    concavity (mean):                     0.0    0.427\n",
      "    concave points (mean):                0.0    0.201\n",
      "    symmetry (mean):                      0.106  0.304\n",
      "    fractal dimension (mean):             0.05   0.097\n",
      "    radius (standard error):              0.112  2.873\n",
      "    texture (standard error):             0.36   4.885\n",
      "    perimeter (standard error):           0.757  21.98\n",
      "    area (standard error):                6.802  542.2\n",
      "    smoothness (standard error):          0.002  0.031\n",
      "    compactness (standard error):         0.002  0.135\n",
      "    concavity (standard error):           0.0    0.396\n",
      "    concave points (standard error):      0.0    0.053\n",
      "    symmetry (standard error):            0.008  0.079\n",
      "    fractal dimension (standard error):   0.001  0.03\n",
      "    radius (worst):                       7.93   36.04\n",
      "    texture (worst):                      12.02  49.54\n",
      "    perimeter (worst):                    50.41  251.2\n",
      "    area (worst):                         185.2  4254.0\n",
      "    smoothness (worst):                   0.071  0.223\n",
      "    compactness (worst):                  0.027  1.058\n",
      "    concavity (worst):                    0.0    1.252\n",
      "    concave points (worst):               0.0    0.291\n",
      "    symmetry (worst):                     0.156  0.664\n",
      "    fractal dimension (worst):            0.055  0.208\n",
      "    ===================================== ====== ======\n",
      "\n",
      "    :Missing Attribute Values: None\n",
      "\n",
      "    :Class Distribution: 212 - Malignant, 357 - Benign\n",
      "\n",
      "    :Creator:  Dr. William H. Wolberg, W. Nick Street, Olvi L. Mangasarian\n",
      "\n",
      "    :Donor: Nick Street\n",
      "\n",
      "    :Date: November, 1995\n",
      "\n",
      "This is a copy of UCI ML Breast Cancer Wisconsin (Diagnostic) datasets.\n",
      "https://goo.gl/U2Uwz2\n",
      "\n",
      "Features are computed from a digitized image of a fine needle\n",
      "aspirate (FNA) of a breast mass.  They describe\n",
      "characteristics of the cell nuclei present in the image.\n",
      "\n",
      "Separating plane described above was obtained using\n",
      "Multisurface Method-Tree (MSM-T) [K. P. Bennett, \"Decision Tree\n",
      "Construction Via Linear Programming.\" Proceedings of the 4th\n",
      "Midwest Artificial Intelligence and Cognitive Science Society,\n",
      "pp. 97-101, 1992], a classification method which uses linear\n",
      "programming to construct a decision tree.  Relevant features\n",
      "were selected using an exhaustive search in the space of 1-4\n",
      "features and 1-3 separating planes.\n",
      "\n",
      "The actual linear program used to obtain the separating plane\n",
      "in the 3-dimensional space is that described in:\n",
      "[K. P. Bennett and O. L. Mangasarian: \"Robust Linear\n",
      "Programming Discrimination of Two Linearly Inseparable Sets\",\n",
      "Optimization Methods and Software 1, 1992, 23-34].\n",
      "\n",
      "This database is also available through the UW CS ftp server:\n",
      "\n",
      "ftp ftp.cs.wisc.edu\n",
      "cd math-prog/cpo-dataset/machine-learn/WDBC/\n",
      "\n",
      ".. topic:: References\n",
      "\n",
      "   - W.N. Street, W.H. Wolberg and O.L. Mangasarian. Nuclear feature extraction \n",
      "     for breast tumor diagnosis. IS&T/SPIE 1993 International Symposium on \n",
      "     Electronic Imaging: Science and Technology, volume 1905, pages 861-870,\n",
      "     San Jose, CA, 1993.\n",
      "   - O.L. Mangasarian, W.N. Street and W.H. Wolberg. Breast cancer diagnosis and \n",
      "     prognosis via linear programming. Operations Research, 43(4), pages 570-577, \n",
      "     July-August 1995.\n",
      "   - W.H. Wolberg, W.N. Street, and O.L. Mangasarian. Machine learning techniques\n",
      "     to diagnose breast cancer from fine-needle aspirates. Cancer Letters 77 (1994) \n",
      "     163-171.\n"
     ]
    }
   ],
   "source": [
    "print(data.DESCR)"
   ]
  },
  {
   "cell_type": "code",
   "execution_count": 8,
   "metadata": {
    "colab": {
     "base_uri": "https://localhost:8080/",
     "height": 34
    },
    "colab_type": "code",
    "executionInfo": {
     "elapsed": 645,
     "status": "ok",
     "timestamp": 1591736325414,
     "user": {
      "displayName": "Adarsh Pachori",
      "photoUrl": "",
      "userId": "06453457984377806328"
     },
     "user_tz": 420
    },
    "id": "824J6CUIAnAO",
    "outputId": "9552cd34-b7b9-4502-ff5c-d0da55dc15ce"
   },
   "outputs": [
    {
     "data": {
      "text/plain": [
       "array(['malignant', 'benign'], dtype='<U9')"
      ]
     },
     "execution_count": 8,
     "metadata": {
      "tags": []
     },
     "output_type": "execute_result"
    }
   ],
   "source": [
    "data.target_names"
   ]
  },
  {
   "cell_type": "code",
   "execution_count": 9,
   "metadata": {
    "colab": {
     "base_uri": "https://localhost:8080/",
     "height": 187
    },
    "colab_type": "code",
    "executionInfo": {
     "elapsed": 261,
     "status": "ok",
     "timestamp": 1591736326235,
     "user": {
      "displayName": "Adarsh Pachori",
      "photoUrl": "",
      "userId": "06453457984377806328"
     },
     "user_tz": 420
    },
    "id": "iGgCD_xZA8c3",
    "outputId": "6deda341-bcee-4f0e-8964-82a85a5b7f77"
   },
   "outputs": [
    {
     "data": {
      "text/plain": [
       "array(['mean radius', 'mean texture', 'mean perimeter', 'mean area',\n",
       "       'mean smoothness', 'mean compactness', 'mean concavity',\n",
       "       'mean concave points', 'mean symmetry', 'mean fractal dimension',\n",
       "       'radius error', 'texture error', 'perimeter error', 'area error',\n",
       "       'smoothness error', 'compactness error', 'concavity error',\n",
       "       'concave points error', 'symmetry error',\n",
       "       'fractal dimension error', 'worst radius', 'worst texture',\n",
       "       'worst perimeter', 'worst area', 'worst smoothness',\n",
       "       'worst compactness', 'worst concavity', 'worst concave points',\n",
       "       'worst symmetry', 'worst fractal dimension'], dtype='<U23')"
      ]
     },
     "execution_count": 9,
     "metadata": {
      "tags": []
     },
     "output_type": "execute_result"
    }
   ],
   "source": [
    "data.feature_names"
   ]
  },
  {
   "cell_type": "code",
   "execution_count": 10,
   "metadata": {
    "colab": {
     "base_uri": "https://localhost:8080/",
     "height": 238
    },
    "colab_type": "code",
    "executionInfo": {
     "elapsed": 767,
     "status": "ok",
     "timestamp": 1591736327328,
     "user": {
      "displayName": "Adarsh Pachori",
      "photoUrl": "",
      "userId": "06453457984377806328"
     },
     "user_tz": 420
    },
    "id": "fxboLZtLA9it",
    "outputId": "8ae617aa-c93e-4cae-bcc2-82d4fe02f51d"
   },
   "outputs": [
    {
     "data": {
      "text/plain": [
       "array([[1.799e+01, 1.038e+01, 1.228e+02, ..., 2.654e-01, 4.601e-01,\n",
       "        1.189e-01],\n",
       "       [2.057e+01, 1.777e+01, 1.329e+02, ..., 1.860e-01, 2.750e-01,\n",
       "        8.902e-02],\n",
       "       [1.969e+01, 2.125e+01, 1.300e+02, ..., 2.430e-01, 3.613e-01,\n",
       "        8.758e-02],\n",
       "       ...,\n",
       "       [1.660e+01, 2.808e+01, 1.083e+02, ..., 1.418e-01, 2.218e-01,\n",
       "        7.820e-02],\n",
       "       [2.060e+01, 2.933e+01, 1.401e+02, ..., 2.650e-01, 4.087e-01,\n",
       "        1.240e-01],\n",
       "       [7.760e+00, 2.454e+01, 4.792e+01, ..., 0.000e+00, 2.871e-01,\n",
       "        7.039e-02]])"
      ]
     },
     "execution_count": 10,
     "metadata": {
      "tags": []
     },
     "output_type": "execute_result"
    }
   ],
   "source": [
    "data.data"
   ]
  },
  {
   "cell_type": "code",
   "execution_count": null,
   "metadata": {
    "colab": {},
    "colab_type": "code",
    "id": "WFmhvL8DA_aT"
   },
   "outputs": [],
   "source": [
    "import pandas as pd"
   ]
  },
  {
   "cell_type": "code",
   "execution_count": null,
   "metadata": {
    "colab": {},
    "colab_type": "code",
    "id": "t7T_hFnwBCWY"
   },
   "outputs": [],
   "source": [
    "df = pd.DataFrame(data.data)"
   ]
  },
  {
   "cell_type": "code",
   "execution_count": null,
   "metadata": {
    "colab": {},
    "colab_type": "code",
    "id": "8UiJV6SeCViQ"
   },
   "outputs": [],
   "source": [
    "df['target'] = data.target"
   ]
  },
  {
   "cell_type": "code",
   "execution_count": 14,
   "metadata": {
    "colab": {
     "base_uri": "https://localhost:8080/",
     "height": 439
    },
    "colab_type": "code",
    "executionInfo": {
     "elapsed": 725,
     "status": "ok",
     "timestamp": 1591736329107,
     "user": {
      "displayName": "Adarsh Pachori",
      "photoUrl": "",
      "userId": "06453457984377806328"
     },
     "user_tz": 420
    },
    "id": "v4OrExYXCcyx",
    "outputId": "3e99f0a6-66cc-4935-dfe0-eb8578c7aadd"
   },
   "outputs": [
    {
     "data": {
      "text/html": [
       "<div>\n",
       "<style scoped>\n",
       "    .dataframe tbody tr th:only-of-type {\n",
       "        vertical-align: middle;\n",
       "    }\n",
       "\n",
       "    .dataframe tbody tr th {\n",
       "        vertical-align: top;\n",
       "    }\n",
       "\n",
       "    .dataframe thead th {\n",
       "        text-align: right;\n",
       "    }\n",
       "</style>\n",
       "<table border=\"1\" class=\"dataframe\">\n",
       "  <thead>\n",
       "    <tr style=\"text-align: right;\">\n",
       "      <th></th>\n",
       "      <th>0</th>\n",
       "      <th>1</th>\n",
       "      <th>2</th>\n",
       "      <th>3</th>\n",
       "      <th>4</th>\n",
       "      <th>5</th>\n",
       "      <th>6</th>\n",
       "      <th>7</th>\n",
       "      <th>8</th>\n",
       "      <th>9</th>\n",
       "      <th>10</th>\n",
       "      <th>11</th>\n",
       "      <th>12</th>\n",
       "      <th>13</th>\n",
       "      <th>14</th>\n",
       "      <th>15</th>\n",
       "      <th>16</th>\n",
       "      <th>17</th>\n",
       "      <th>18</th>\n",
       "      <th>19</th>\n",
       "      <th>20</th>\n",
       "      <th>21</th>\n",
       "      <th>22</th>\n",
       "      <th>23</th>\n",
       "      <th>24</th>\n",
       "      <th>25</th>\n",
       "      <th>26</th>\n",
       "      <th>27</th>\n",
       "      <th>28</th>\n",
       "      <th>29</th>\n",
       "      <th>target</th>\n",
       "    </tr>\n",
       "  </thead>\n",
       "  <tbody>\n",
       "    <tr>\n",
       "      <th>0</th>\n",
       "      <td>17.99</td>\n",
       "      <td>10.38</td>\n",
       "      <td>122.80</td>\n",
       "      <td>1001.0</td>\n",
       "      <td>0.11840</td>\n",
       "      <td>0.27760</td>\n",
       "      <td>0.30010</td>\n",
       "      <td>0.14710</td>\n",
       "      <td>0.2419</td>\n",
       "      <td>0.07871</td>\n",
       "      <td>1.0950</td>\n",
       "      <td>0.9053</td>\n",
       "      <td>8.589</td>\n",
       "      <td>153.40</td>\n",
       "      <td>0.006399</td>\n",
       "      <td>0.04904</td>\n",
       "      <td>0.05373</td>\n",
       "      <td>0.01587</td>\n",
       "      <td>0.03003</td>\n",
       "      <td>0.006193</td>\n",
       "      <td>25.380</td>\n",
       "      <td>17.33</td>\n",
       "      <td>184.60</td>\n",
       "      <td>2019.0</td>\n",
       "      <td>0.16220</td>\n",
       "      <td>0.66560</td>\n",
       "      <td>0.7119</td>\n",
       "      <td>0.2654</td>\n",
       "      <td>0.4601</td>\n",
       "      <td>0.11890</td>\n",
       "      <td>0</td>\n",
       "    </tr>\n",
       "    <tr>\n",
       "      <th>1</th>\n",
       "      <td>20.57</td>\n",
       "      <td>17.77</td>\n",
       "      <td>132.90</td>\n",
       "      <td>1326.0</td>\n",
       "      <td>0.08474</td>\n",
       "      <td>0.07864</td>\n",
       "      <td>0.08690</td>\n",
       "      <td>0.07017</td>\n",
       "      <td>0.1812</td>\n",
       "      <td>0.05667</td>\n",
       "      <td>0.5435</td>\n",
       "      <td>0.7339</td>\n",
       "      <td>3.398</td>\n",
       "      <td>74.08</td>\n",
       "      <td>0.005225</td>\n",
       "      <td>0.01308</td>\n",
       "      <td>0.01860</td>\n",
       "      <td>0.01340</td>\n",
       "      <td>0.01389</td>\n",
       "      <td>0.003532</td>\n",
       "      <td>24.990</td>\n",
       "      <td>23.41</td>\n",
       "      <td>158.80</td>\n",
       "      <td>1956.0</td>\n",
       "      <td>0.12380</td>\n",
       "      <td>0.18660</td>\n",
       "      <td>0.2416</td>\n",
       "      <td>0.1860</td>\n",
       "      <td>0.2750</td>\n",
       "      <td>0.08902</td>\n",
       "      <td>0</td>\n",
       "    </tr>\n",
       "    <tr>\n",
       "      <th>2</th>\n",
       "      <td>19.69</td>\n",
       "      <td>21.25</td>\n",
       "      <td>130.00</td>\n",
       "      <td>1203.0</td>\n",
       "      <td>0.10960</td>\n",
       "      <td>0.15990</td>\n",
       "      <td>0.19740</td>\n",
       "      <td>0.12790</td>\n",
       "      <td>0.2069</td>\n",
       "      <td>0.05999</td>\n",
       "      <td>0.7456</td>\n",
       "      <td>0.7869</td>\n",
       "      <td>4.585</td>\n",
       "      <td>94.03</td>\n",
       "      <td>0.006150</td>\n",
       "      <td>0.04006</td>\n",
       "      <td>0.03832</td>\n",
       "      <td>0.02058</td>\n",
       "      <td>0.02250</td>\n",
       "      <td>0.004571</td>\n",
       "      <td>23.570</td>\n",
       "      <td>25.53</td>\n",
       "      <td>152.50</td>\n",
       "      <td>1709.0</td>\n",
       "      <td>0.14440</td>\n",
       "      <td>0.42450</td>\n",
       "      <td>0.4504</td>\n",
       "      <td>0.2430</td>\n",
       "      <td>0.3613</td>\n",
       "      <td>0.08758</td>\n",
       "      <td>0</td>\n",
       "    </tr>\n",
       "    <tr>\n",
       "      <th>3</th>\n",
       "      <td>11.42</td>\n",
       "      <td>20.38</td>\n",
       "      <td>77.58</td>\n",
       "      <td>386.1</td>\n",
       "      <td>0.14250</td>\n",
       "      <td>0.28390</td>\n",
       "      <td>0.24140</td>\n",
       "      <td>0.10520</td>\n",
       "      <td>0.2597</td>\n",
       "      <td>0.09744</td>\n",
       "      <td>0.4956</td>\n",
       "      <td>1.1560</td>\n",
       "      <td>3.445</td>\n",
       "      <td>27.23</td>\n",
       "      <td>0.009110</td>\n",
       "      <td>0.07458</td>\n",
       "      <td>0.05661</td>\n",
       "      <td>0.01867</td>\n",
       "      <td>0.05963</td>\n",
       "      <td>0.009208</td>\n",
       "      <td>14.910</td>\n",
       "      <td>26.50</td>\n",
       "      <td>98.87</td>\n",
       "      <td>567.7</td>\n",
       "      <td>0.20980</td>\n",
       "      <td>0.86630</td>\n",
       "      <td>0.6869</td>\n",
       "      <td>0.2575</td>\n",
       "      <td>0.6638</td>\n",
       "      <td>0.17300</td>\n",
       "      <td>0</td>\n",
       "    </tr>\n",
       "    <tr>\n",
       "      <th>4</th>\n",
       "      <td>20.29</td>\n",
       "      <td>14.34</td>\n",
       "      <td>135.10</td>\n",
       "      <td>1297.0</td>\n",
       "      <td>0.10030</td>\n",
       "      <td>0.13280</td>\n",
       "      <td>0.19800</td>\n",
       "      <td>0.10430</td>\n",
       "      <td>0.1809</td>\n",
       "      <td>0.05883</td>\n",
       "      <td>0.7572</td>\n",
       "      <td>0.7813</td>\n",
       "      <td>5.438</td>\n",
       "      <td>94.44</td>\n",
       "      <td>0.011490</td>\n",
       "      <td>0.02461</td>\n",
       "      <td>0.05688</td>\n",
       "      <td>0.01885</td>\n",
       "      <td>0.01756</td>\n",
       "      <td>0.005115</td>\n",
       "      <td>22.540</td>\n",
       "      <td>16.67</td>\n",
       "      <td>152.20</td>\n",
       "      <td>1575.0</td>\n",
       "      <td>0.13740</td>\n",
       "      <td>0.20500</td>\n",
       "      <td>0.4000</td>\n",
       "      <td>0.1625</td>\n",
       "      <td>0.2364</td>\n",
       "      <td>0.07678</td>\n",
       "      <td>0</td>\n",
       "    </tr>\n",
       "    <tr>\n",
       "      <th>...</th>\n",
       "      <td>...</td>\n",
       "      <td>...</td>\n",
       "      <td>...</td>\n",
       "      <td>...</td>\n",
       "      <td>...</td>\n",
       "      <td>...</td>\n",
       "      <td>...</td>\n",
       "      <td>...</td>\n",
       "      <td>...</td>\n",
       "      <td>...</td>\n",
       "      <td>...</td>\n",
       "      <td>...</td>\n",
       "      <td>...</td>\n",
       "      <td>...</td>\n",
       "      <td>...</td>\n",
       "      <td>...</td>\n",
       "      <td>...</td>\n",
       "      <td>...</td>\n",
       "      <td>...</td>\n",
       "      <td>...</td>\n",
       "      <td>...</td>\n",
       "      <td>...</td>\n",
       "      <td>...</td>\n",
       "      <td>...</td>\n",
       "      <td>...</td>\n",
       "      <td>...</td>\n",
       "      <td>...</td>\n",
       "      <td>...</td>\n",
       "      <td>...</td>\n",
       "      <td>...</td>\n",
       "      <td>...</td>\n",
       "    </tr>\n",
       "    <tr>\n",
       "      <th>564</th>\n",
       "      <td>21.56</td>\n",
       "      <td>22.39</td>\n",
       "      <td>142.00</td>\n",
       "      <td>1479.0</td>\n",
       "      <td>0.11100</td>\n",
       "      <td>0.11590</td>\n",
       "      <td>0.24390</td>\n",
       "      <td>0.13890</td>\n",
       "      <td>0.1726</td>\n",
       "      <td>0.05623</td>\n",
       "      <td>1.1760</td>\n",
       "      <td>1.2560</td>\n",
       "      <td>7.673</td>\n",
       "      <td>158.70</td>\n",
       "      <td>0.010300</td>\n",
       "      <td>0.02891</td>\n",
       "      <td>0.05198</td>\n",
       "      <td>0.02454</td>\n",
       "      <td>0.01114</td>\n",
       "      <td>0.004239</td>\n",
       "      <td>25.450</td>\n",
       "      <td>26.40</td>\n",
       "      <td>166.10</td>\n",
       "      <td>2027.0</td>\n",
       "      <td>0.14100</td>\n",
       "      <td>0.21130</td>\n",
       "      <td>0.4107</td>\n",
       "      <td>0.2216</td>\n",
       "      <td>0.2060</td>\n",
       "      <td>0.07115</td>\n",
       "      <td>0</td>\n",
       "    </tr>\n",
       "    <tr>\n",
       "      <th>565</th>\n",
       "      <td>20.13</td>\n",
       "      <td>28.25</td>\n",
       "      <td>131.20</td>\n",
       "      <td>1261.0</td>\n",
       "      <td>0.09780</td>\n",
       "      <td>0.10340</td>\n",
       "      <td>0.14400</td>\n",
       "      <td>0.09791</td>\n",
       "      <td>0.1752</td>\n",
       "      <td>0.05533</td>\n",
       "      <td>0.7655</td>\n",
       "      <td>2.4630</td>\n",
       "      <td>5.203</td>\n",
       "      <td>99.04</td>\n",
       "      <td>0.005769</td>\n",
       "      <td>0.02423</td>\n",
       "      <td>0.03950</td>\n",
       "      <td>0.01678</td>\n",
       "      <td>0.01898</td>\n",
       "      <td>0.002498</td>\n",
       "      <td>23.690</td>\n",
       "      <td>38.25</td>\n",
       "      <td>155.00</td>\n",
       "      <td>1731.0</td>\n",
       "      <td>0.11660</td>\n",
       "      <td>0.19220</td>\n",
       "      <td>0.3215</td>\n",
       "      <td>0.1628</td>\n",
       "      <td>0.2572</td>\n",
       "      <td>0.06637</td>\n",
       "      <td>0</td>\n",
       "    </tr>\n",
       "    <tr>\n",
       "      <th>566</th>\n",
       "      <td>16.60</td>\n",
       "      <td>28.08</td>\n",
       "      <td>108.30</td>\n",
       "      <td>858.1</td>\n",
       "      <td>0.08455</td>\n",
       "      <td>0.10230</td>\n",
       "      <td>0.09251</td>\n",
       "      <td>0.05302</td>\n",
       "      <td>0.1590</td>\n",
       "      <td>0.05648</td>\n",
       "      <td>0.4564</td>\n",
       "      <td>1.0750</td>\n",
       "      <td>3.425</td>\n",
       "      <td>48.55</td>\n",
       "      <td>0.005903</td>\n",
       "      <td>0.03731</td>\n",
       "      <td>0.04730</td>\n",
       "      <td>0.01557</td>\n",
       "      <td>0.01318</td>\n",
       "      <td>0.003892</td>\n",
       "      <td>18.980</td>\n",
       "      <td>34.12</td>\n",
       "      <td>126.70</td>\n",
       "      <td>1124.0</td>\n",
       "      <td>0.11390</td>\n",
       "      <td>0.30940</td>\n",
       "      <td>0.3403</td>\n",
       "      <td>0.1418</td>\n",
       "      <td>0.2218</td>\n",
       "      <td>0.07820</td>\n",
       "      <td>0</td>\n",
       "    </tr>\n",
       "    <tr>\n",
       "      <th>567</th>\n",
       "      <td>20.60</td>\n",
       "      <td>29.33</td>\n",
       "      <td>140.10</td>\n",
       "      <td>1265.0</td>\n",
       "      <td>0.11780</td>\n",
       "      <td>0.27700</td>\n",
       "      <td>0.35140</td>\n",
       "      <td>0.15200</td>\n",
       "      <td>0.2397</td>\n",
       "      <td>0.07016</td>\n",
       "      <td>0.7260</td>\n",
       "      <td>1.5950</td>\n",
       "      <td>5.772</td>\n",
       "      <td>86.22</td>\n",
       "      <td>0.006522</td>\n",
       "      <td>0.06158</td>\n",
       "      <td>0.07117</td>\n",
       "      <td>0.01664</td>\n",
       "      <td>0.02324</td>\n",
       "      <td>0.006185</td>\n",
       "      <td>25.740</td>\n",
       "      <td>39.42</td>\n",
       "      <td>184.60</td>\n",
       "      <td>1821.0</td>\n",
       "      <td>0.16500</td>\n",
       "      <td>0.86810</td>\n",
       "      <td>0.9387</td>\n",
       "      <td>0.2650</td>\n",
       "      <td>0.4087</td>\n",
       "      <td>0.12400</td>\n",
       "      <td>0</td>\n",
       "    </tr>\n",
       "    <tr>\n",
       "      <th>568</th>\n",
       "      <td>7.76</td>\n",
       "      <td>24.54</td>\n",
       "      <td>47.92</td>\n",
       "      <td>181.0</td>\n",
       "      <td>0.05263</td>\n",
       "      <td>0.04362</td>\n",
       "      <td>0.00000</td>\n",
       "      <td>0.00000</td>\n",
       "      <td>0.1587</td>\n",
       "      <td>0.05884</td>\n",
       "      <td>0.3857</td>\n",
       "      <td>1.4280</td>\n",
       "      <td>2.548</td>\n",
       "      <td>19.15</td>\n",
       "      <td>0.007189</td>\n",
       "      <td>0.00466</td>\n",
       "      <td>0.00000</td>\n",
       "      <td>0.00000</td>\n",
       "      <td>0.02676</td>\n",
       "      <td>0.002783</td>\n",
       "      <td>9.456</td>\n",
       "      <td>30.37</td>\n",
       "      <td>59.16</td>\n",
       "      <td>268.6</td>\n",
       "      <td>0.08996</td>\n",
       "      <td>0.06444</td>\n",
       "      <td>0.0000</td>\n",
       "      <td>0.0000</td>\n",
       "      <td>0.2871</td>\n",
       "      <td>0.07039</td>\n",
       "      <td>1</td>\n",
       "    </tr>\n",
       "  </tbody>\n",
       "</table>\n",
       "<p>569 rows × 31 columns</p>\n",
       "</div>"
      ],
      "text/plain": [
       "         0      1       2       3  ...      27      28       29  target\n",
       "0    17.99  10.38  122.80  1001.0  ...  0.2654  0.4601  0.11890       0\n",
       "1    20.57  17.77  132.90  1326.0  ...  0.1860  0.2750  0.08902       0\n",
       "2    19.69  21.25  130.00  1203.0  ...  0.2430  0.3613  0.08758       0\n",
       "3    11.42  20.38   77.58   386.1  ...  0.2575  0.6638  0.17300       0\n",
       "4    20.29  14.34  135.10  1297.0  ...  0.1625  0.2364  0.07678       0\n",
       "..     ...    ...     ...     ...  ...     ...     ...      ...     ...\n",
       "564  21.56  22.39  142.00  1479.0  ...  0.2216  0.2060  0.07115       0\n",
       "565  20.13  28.25  131.20  1261.0  ...  0.1628  0.2572  0.06637       0\n",
       "566  16.60  28.08  108.30   858.1  ...  0.1418  0.2218  0.07820       0\n",
       "567  20.60  29.33  140.10  1265.0  ...  0.2650  0.4087  0.12400       0\n",
       "568   7.76  24.54   47.92   181.0  ...  0.0000  0.2871  0.07039       1\n",
       "\n",
       "[569 rows x 31 columns]"
      ]
     },
     "execution_count": 14,
     "metadata": {
      "tags": []
     },
     "output_type": "execute_result"
    }
   ],
   "source": [
    "df"
   ]
  },
  {
   "cell_type": "markdown",
   "metadata": {},
   "source": [
    "#### Splitting the data into training and testing"
   ]
  },
  {
   "cell_type": "code",
   "execution_count": null,
   "metadata": {
    "colab": {},
    "colab_type": "code",
    "id": "NE44FL8QCeT0"
   },
   "outputs": [],
   "source": [
    "from sklearn.model_selection import train_test_split\n",
    "x_train, x_test, y_train, y_test = train_test_split(df.drop(\"target\", axis = 1), df[\"target\"], test_size =0.33)"
   ]
  },
  {
   "cell_type": "code",
   "execution_count": 16,
   "metadata": {
    "colab": {
     "base_uri": "https://localhost:8080/",
     "height": 34
    },
    "colab_type": "code",
    "executionInfo": {
     "elapsed": 248,
     "status": "ok",
     "timestamp": 1591736330025,
     "user": {
      "displayName": "Adarsh Pachori",
      "photoUrl": "",
      "userId": "06453457984377806328"
     },
     "user_tz": 420
    },
    "id": "Q4ncwUeSCsuw",
    "outputId": "b9419e38-0925-4cbd-90a4-0881da3868b2"
   },
   "outputs": [
    {
     "data": {
      "text/plain": [
       "(381, 30)"
      ]
     },
     "execution_count": 16,
     "metadata": {
      "tags": []
     },
     "output_type": "execute_result"
    }
   ],
   "source": [
    "x_train.shape"
   ]
  },
  {
   "cell_type": "markdown",
   "metadata": {},
   "source": [
    "#### Scaling the data"
   ]
  },
  {
   "cell_type": "code",
   "execution_count": null,
   "metadata": {
    "colab": {},
    "colab_type": "code",
    "id": "t2-c1effC0Fw"
   },
   "outputs": [],
   "source": [
    "from sklearn.preprocessing import StandardScaler"
   ]
  },
  {
   "cell_type": "code",
   "execution_count": null,
   "metadata": {
    "colab": {},
    "colab_type": "code",
    "id": "zLHCzgCxD7CJ"
   },
   "outputs": [],
   "source": [
    "scaler = StandardScaler()"
   ]
  },
  {
   "cell_type": "code",
   "execution_count": null,
   "metadata": {
    "colab": {},
    "colab_type": "code",
    "id": "5RMsOPz3Hgqr"
   },
   "outputs": [],
   "source": [
    "x_train = scaler.fit_transform(x_train)\n",
    "x_test = scaler.transform(x_test)"
   ]
  },
  {
   "cell_type": "markdown",
   "metadata": {},
   "source": [
    "#### Building and training the model"
   ]
  },
  {
   "cell_type": "code",
   "execution_count": null,
   "metadata": {
    "colab": {},
    "colab_type": "code",
    "id": "uAPoUDSnHnhV"
   },
   "outputs": [],
   "source": [
    "model = tf.keras.models.Sequential([\n",
    "                                    tf.keras.layers.Input(shape=(30,)),\n",
    "                                    tf.keras.layers.Dense(1, activation = \"sigmoid\")\n",
    "])"
   ]
  },
  {
   "cell_type": "code",
   "execution_count": null,
   "metadata": {
    "colab": {},
    "colab_type": "code",
    "id": "knzOVhn7IxUi"
   },
   "outputs": [],
   "source": [
    "model.compile(optimizer=\"adam\", loss = \"binary_crossentropy\", metrics=['accuracy'])"
   ]
  },
  {
   "cell_type": "code",
   "execution_count": 23,
   "metadata": {
    "colab": {
     "base_uri": "https://localhost:8080/",
     "height": 1000
    },
    "colab_type": "code",
    "executionInfo": {
     "elapsed": 6832,
     "status": "ok",
     "timestamp": 1591736347236,
     "user": {
      "displayName": "Adarsh Pachori",
      "photoUrl": "",
      "userId": "06453457984377806328"
     },
     "user_tz": 420
    },
    "id": "NyJay9XlJT2g",
    "outputId": "7d76f225-541a-42f4-98ef-dfdb9cad2421"
   },
   "outputs": [
    {
     "name": "stdout",
     "output_type": "stream",
     "text": [
      "Epoch 1/100\n",
      "12/12 [==============================] - 0s 16ms/step - loss: 0.5450 - accuracy: 0.7034 - val_loss: 0.6003 - val_accuracy: 0.6968\n",
      "Epoch 2/100\n",
      "12/12 [==============================] - 0s 4ms/step - loss: 0.4919 - accuracy: 0.7480 - val_loss: 0.5430 - val_accuracy: 0.7553\n",
      "Epoch 3/100\n",
      "12/12 [==============================] - 0s 4ms/step - loss: 0.4458 - accuracy: 0.8005 - val_loss: 0.4952 - val_accuracy: 0.7926\n",
      "Epoch 4/100\n",
      "12/12 [==============================] - 0s 4ms/step - loss: 0.4080 - accuracy: 0.8268 - val_loss: 0.4545 - val_accuracy: 0.8245\n",
      "Epoch 5/100\n",
      "12/12 [==============================] - 0s 5ms/step - loss: 0.3756 - accuracy: 0.8635 - val_loss: 0.4202 - val_accuracy: 0.8511\n",
      "Epoch 6/100\n",
      "12/12 [==============================] - 0s 5ms/step - loss: 0.3492 - accuracy: 0.8871 - val_loss: 0.3901 - val_accuracy: 0.8617\n",
      "Epoch 7/100\n",
      "12/12 [==============================] - 0s 4ms/step - loss: 0.3258 - accuracy: 0.9055 - val_loss: 0.3652 - val_accuracy: 0.8617\n",
      "Epoch 8/100\n",
      "12/12 [==============================] - 0s 5ms/step - loss: 0.3064 - accuracy: 0.9186 - val_loss: 0.3431 - val_accuracy: 0.8617\n",
      "Epoch 9/100\n",
      "12/12 [==============================] - 0s 4ms/step - loss: 0.2893 - accuracy: 0.9186 - val_loss: 0.3243 - val_accuracy: 0.8777\n",
      "Epoch 10/100\n",
      "12/12 [==============================] - 0s 4ms/step - loss: 0.2743 - accuracy: 0.9318 - val_loss: 0.3078 - val_accuracy: 0.8936\n",
      "Epoch 11/100\n",
      "12/12 [==============================] - 0s 4ms/step - loss: 0.2612 - accuracy: 0.9318 - val_loss: 0.2931 - val_accuracy: 0.8989\n",
      "Epoch 12/100\n",
      "12/12 [==============================] - 0s 4ms/step - loss: 0.2499 - accuracy: 0.9344 - val_loss: 0.2797 - val_accuracy: 0.9043\n",
      "Epoch 13/100\n",
      "12/12 [==============================] - 0s 4ms/step - loss: 0.2394 - accuracy: 0.9344 - val_loss: 0.2682 - val_accuracy: 0.9149\n",
      "Epoch 14/100\n",
      "12/12 [==============================] - 0s 4ms/step - loss: 0.2302 - accuracy: 0.9396 - val_loss: 0.2575 - val_accuracy: 0.9149\n",
      "Epoch 15/100\n",
      "12/12 [==============================] - 0s 5ms/step - loss: 0.2219 - accuracy: 0.9475 - val_loss: 0.2479 - val_accuracy: 0.9149\n",
      "Epoch 16/100\n",
      "12/12 [==============================] - 0s 4ms/step - loss: 0.2142 - accuracy: 0.9501 - val_loss: 0.2393 - val_accuracy: 0.9149\n",
      "Epoch 17/100\n",
      "12/12 [==============================] - 0s 4ms/step - loss: 0.2074 - accuracy: 0.9501 - val_loss: 0.2313 - val_accuracy: 0.9149\n",
      "Epoch 18/100\n",
      "12/12 [==============================] - 0s 4ms/step - loss: 0.2009 - accuracy: 0.9501 - val_loss: 0.2242 - val_accuracy: 0.9149\n",
      "Epoch 19/100\n",
      "12/12 [==============================] - 0s 4ms/step - loss: 0.1954 - accuracy: 0.9501 - val_loss: 0.2172 - val_accuracy: 0.9149\n",
      "Epoch 20/100\n",
      "12/12 [==============================] - 0s 4ms/step - loss: 0.1899 - accuracy: 0.9501 - val_loss: 0.2110 - val_accuracy: 0.9149\n",
      "Epoch 21/100\n",
      "12/12 [==============================] - 0s 4ms/step - loss: 0.1849 - accuracy: 0.9501 - val_loss: 0.2052 - val_accuracy: 0.9149\n",
      "Epoch 22/100\n",
      "12/12 [==============================] - 0s 4ms/step - loss: 0.1803 - accuracy: 0.9501 - val_loss: 0.2001 - val_accuracy: 0.9149\n",
      "Epoch 23/100\n",
      "12/12 [==============================] - 0s 4ms/step - loss: 0.1761 - accuracy: 0.9501 - val_loss: 0.1950 - val_accuracy: 0.9149\n",
      "Epoch 24/100\n",
      "12/12 [==============================] - 0s 4ms/step - loss: 0.1720 - accuracy: 0.9501 - val_loss: 0.1904 - val_accuracy: 0.9149\n",
      "Epoch 25/100\n",
      "12/12 [==============================] - 0s 5ms/step - loss: 0.1683 - accuracy: 0.9501 - val_loss: 0.1861 - val_accuracy: 0.9202\n",
      "Epoch 26/100\n",
      "12/12 [==============================] - 0s 4ms/step - loss: 0.1648 - accuracy: 0.9528 - val_loss: 0.1820 - val_accuracy: 0.9202\n",
      "Epoch 27/100\n",
      "12/12 [==============================] - 0s 4ms/step - loss: 0.1614 - accuracy: 0.9528 - val_loss: 0.1783 - val_accuracy: 0.9255\n",
      "Epoch 28/100\n",
      "12/12 [==============================] - 0s 4ms/step - loss: 0.1583 - accuracy: 0.9528 - val_loss: 0.1748 - val_accuracy: 0.9309\n",
      "Epoch 29/100\n",
      "12/12 [==============================] - 0s 4ms/step - loss: 0.1554 - accuracy: 0.9528 - val_loss: 0.1714 - val_accuracy: 0.9362\n",
      "Epoch 30/100\n",
      "12/12 [==============================] - 0s 4ms/step - loss: 0.1526 - accuracy: 0.9528 - val_loss: 0.1682 - val_accuracy: 0.9415\n",
      "Epoch 31/100\n",
      "12/12 [==============================] - 0s 4ms/step - loss: 0.1499 - accuracy: 0.9528 - val_loss: 0.1652 - val_accuracy: 0.9415\n",
      "Epoch 32/100\n",
      "12/12 [==============================] - 0s 4ms/step - loss: 0.1474 - accuracy: 0.9554 - val_loss: 0.1624 - val_accuracy: 0.9415\n",
      "Epoch 33/100\n",
      "12/12 [==============================] - 0s 5ms/step - loss: 0.1450 - accuracy: 0.9554 - val_loss: 0.1598 - val_accuracy: 0.9468\n",
      "Epoch 34/100\n",
      "12/12 [==============================] - 0s 5ms/step - loss: 0.1428 - accuracy: 0.9606 - val_loss: 0.1572 - val_accuracy: 0.9521\n",
      "Epoch 35/100\n",
      "12/12 [==============================] - 0s 4ms/step - loss: 0.1406 - accuracy: 0.9633 - val_loss: 0.1548 - val_accuracy: 0.9521\n",
      "Epoch 36/100\n",
      "12/12 [==============================] - 0s 4ms/step - loss: 0.1385 - accuracy: 0.9633 - val_loss: 0.1526 - val_accuracy: 0.9521\n",
      "Epoch 37/100\n",
      "12/12 [==============================] - 0s 4ms/step - loss: 0.1365 - accuracy: 0.9633 - val_loss: 0.1504 - val_accuracy: 0.9521\n",
      "Epoch 38/100\n",
      "12/12 [==============================] - 0s 5ms/step - loss: 0.1347 - accuracy: 0.9633 - val_loss: 0.1482 - val_accuracy: 0.9521\n",
      "Epoch 39/100\n",
      "12/12 [==============================] - 0s 5ms/step - loss: 0.1328 - accuracy: 0.9633 - val_loss: 0.1463 - val_accuracy: 0.9521\n",
      "Epoch 40/100\n",
      "12/12 [==============================] - 0s 4ms/step - loss: 0.1311 - accuracy: 0.9633 - val_loss: 0.1445 - val_accuracy: 0.9468\n",
      "Epoch 41/100\n",
      "12/12 [==============================] - 0s 4ms/step - loss: 0.1294 - accuracy: 0.9633 - val_loss: 0.1428 - val_accuracy: 0.9468\n",
      "Epoch 42/100\n",
      "12/12 [==============================] - 0s 4ms/step - loss: 0.1279 - accuracy: 0.9633 - val_loss: 0.1410 - val_accuracy: 0.9468\n",
      "Epoch 43/100\n",
      "12/12 [==============================] - 0s 5ms/step - loss: 0.1263 - accuracy: 0.9633 - val_loss: 0.1395 - val_accuracy: 0.9468\n",
      "Epoch 44/100\n",
      "12/12 [==============================] - 0s 4ms/step - loss: 0.1248 - accuracy: 0.9633 - val_loss: 0.1379 - val_accuracy: 0.9468\n",
      "Epoch 45/100\n",
      "12/12 [==============================] - 0s 4ms/step - loss: 0.1234 - accuracy: 0.9659 - val_loss: 0.1364 - val_accuracy: 0.9468\n",
      "Epoch 46/100\n",
      "12/12 [==============================] - 0s 4ms/step - loss: 0.1220 - accuracy: 0.9659 - val_loss: 0.1350 - val_accuracy: 0.9468\n",
      "Epoch 47/100\n",
      "12/12 [==============================] - 0s 4ms/step - loss: 0.1207 - accuracy: 0.9659 - val_loss: 0.1337 - val_accuracy: 0.9468\n",
      "Epoch 48/100\n",
      "12/12 [==============================] - 0s 4ms/step - loss: 0.1194 - accuracy: 0.9659 - val_loss: 0.1323 - val_accuracy: 0.9468\n",
      "Epoch 49/100\n",
      "12/12 [==============================] - 0s 4ms/step - loss: 0.1182 - accuracy: 0.9659 - val_loss: 0.1311 - val_accuracy: 0.9468\n",
      "Epoch 50/100\n",
      "12/12 [==============================] - 0s 4ms/step - loss: 0.1170 - accuracy: 0.9659 - val_loss: 0.1297 - val_accuracy: 0.9468\n",
      "Epoch 51/100\n",
      "12/12 [==============================] - 0s 4ms/step - loss: 0.1158 - accuracy: 0.9659 - val_loss: 0.1285 - val_accuracy: 0.9468\n",
      "Epoch 52/100\n",
      "12/12 [==============================] - 0s 5ms/step - loss: 0.1147 - accuracy: 0.9659 - val_loss: 0.1274 - val_accuracy: 0.9521\n",
      "Epoch 53/100\n",
      "12/12 [==============================] - 0s 5ms/step - loss: 0.1136 - accuracy: 0.9659 - val_loss: 0.1263 - val_accuracy: 0.9574\n",
      "Epoch 54/100\n",
      "12/12 [==============================] - 0s 4ms/step - loss: 0.1125 - accuracy: 0.9659 - val_loss: 0.1253 - val_accuracy: 0.9574\n",
      "Epoch 55/100\n",
      "12/12 [==============================] - 0s 4ms/step - loss: 0.1115 - accuracy: 0.9685 - val_loss: 0.1243 - val_accuracy: 0.9574\n",
      "Epoch 56/100\n",
      "12/12 [==============================] - 0s 4ms/step - loss: 0.1105 - accuracy: 0.9685 - val_loss: 0.1233 - val_accuracy: 0.9574\n",
      "Epoch 57/100\n",
      "12/12 [==============================] - 0s 4ms/step - loss: 0.1096 - accuracy: 0.9685 - val_loss: 0.1224 - val_accuracy: 0.9574\n",
      "Epoch 58/100\n",
      "12/12 [==============================] - 0s 4ms/step - loss: 0.1086 - accuracy: 0.9685 - val_loss: 0.1214 - val_accuracy: 0.9574\n",
      "Epoch 59/100\n",
      "12/12 [==============================] - 0s 4ms/step - loss: 0.1077 - accuracy: 0.9685 - val_loss: 0.1205 - val_accuracy: 0.9574\n",
      "Epoch 60/100\n",
      "12/12 [==============================] - 0s 5ms/step - loss: 0.1068 - accuracy: 0.9711 - val_loss: 0.1197 - val_accuracy: 0.9574\n",
      "Epoch 61/100\n",
      "12/12 [==============================] - 0s 4ms/step - loss: 0.1060 - accuracy: 0.9711 - val_loss: 0.1188 - val_accuracy: 0.9628\n",
      "Epoch 62/100\n",
      "12/12 [==============================] - 0s 5ms/step - loss: 0.1051 - accuracy: 0.9711 - val_loss: 0.1179 - val_accuracy: 0.9628\n",
      "Epoch 63/100\n",
      "12/12 [==============================] - 0s 4ms/step - loss: 0.1043 - accuracy: 0.9711 - val_loss: 0.1171 - val_accuracy: 0.9628\n",
      "Epoch 64/100\n",
      "12/12 [==============================] - 0s 4ms/step - loss: 0.1035 - accuracy: 0.9711 - val_loss: 0.1163 - val_accuracy: 0.9628\n",
      "Epoch 65/100\n",
      "12/12 [==============================] - 0s 4ms/step - loss: 0.1027 - accuracy: 0.9711 - val_loss: 0.1156 - val_accuracy: 0.9628\n",
      "Epoch 66/100\n",
      "12/12 [==============================] - 0s 4ms/step - loss: 0.1020 - accuracy: 0.9711 - val_loss: 0.1149 - val_accuracy: 0.9628\n",
      "Epoch 67/100\n",
      "12/12 [==============================] - 0s 4ms/step - loss: 0.1012 - accuracy: 0.9738 - val_loss: 0.1141 - val_accuracy: 0.9628\n",
      "Epoch 68/100\n",
      "12/12 [==============================] - 0s 4ms/step - loss: 0.1005 - accuracy: 0.9738 - val_loss: 0.1135 - val_accuracy: 0.9628\n",
      "Epoch 69/100\n",
      "12/12 [==============================] - 0s 4ms/step - loss: 0.0998 - accuracy: 0.9764 - val_loss: 0.1129 - val_accuracy: 0.9628\n",
      "Epoch 70/100\n",
      "12/12 [==============================] - 0s 4ms/step - loss: 0.0991 - accuracy: 0.9764 - val_loss: 0.1122 - val_accuracy: 0.9681\n",
      "Epoch 71/100\n",
      "12/12 [==============================] - 0s 5ms/step - loss: 0.0984 - accuracy: 0.9764 - val_loss: 0.1116 - val_accuracy: 0.9681\n",
      "Epoch 72/100\n",
      "12/12 [==============================] - 0s 4ms/step - loss: 0.0978 - accuracy: 0.9764 - val_loss: 0.1110 - val_accuracy: 0.9681\n",
      "Epoch 73/100\n",
      "12/12 [==============================] - 0s 4ms/step - loss: 0.0971 - accuracy: 0.9764 - val_loss: 0.1104 - val_accuracy: 0.9681\n",
      "Epoch 74/100\n",
      "12/12 [==============================] - 0s 4ms/step - loss: 0.0965 - accuracy: 0.9764 - val_loss: 0.1098 - val_accuracy: 0.9681\n",
      "Epoch 75/100\n",
      "12/12 [==============================] - 0s 4ms/step - loss: 0.0959 - accuracy: 0.9764 - val_loss: 0.1092 - val_accuracy: 0.9681\n",
      "Epoch 76/100\n",
      "12/12 [==============================] - 0s 4ms/step - loss: 0.0953 - accuracy: 0.9764 - val_loss: 0.1086 - val_accuracy: 0.9681\n",
      "Epoch 77/100\n",
      "12/12 [==============================] - 0s 4ms/step - loss: 0.0947 - accuracy: 0.9764 - val_loss: 0.1082 - val_accuracy: 0.9681\n",
      "Epoch 78/100\n",
      "12/12 [==============================] - 0s 5ms/step - loss: 0.0941 - accuracy: 0.9764 - val_loss: 0.1076 - val_accuracy: 0.9681\n",
      "Epoch 79/100\n",
      "12/12 [==============================] - 0s 4ms/step - loss: 0.0936 - accuracy: 0.9764 - val_loss: 0.1072 - val_accuracy: 0.9734\n",
      "Epoch 80/100\n",
      "12/12 [==============================] - 0s 4ms/step - loss: 0.0930 - accuracy: 0.9764 - val_loss: 0.1067 - val_accuracy: 0.9734\n",
      "Epoch 81/100\n",
      "12/12 [==============================] - 0s 5ms/step - loss: 0.0925 - accuracy: 0.9764 - val_loss: 0.1062 - val_accuracy: 0.9734\n",
      "Epoch 82/100\n",
      "12/12 [==============================] - 0s 4ms/step - loss: 0.0919 - accuracy: 0.9816 - val_loss: 0.1057 - val_accuracy: 0.9734\n",
      "Epoch 83/100\n",
      "12/12 [==============================] - 0s 4ms/step - loss: 0.0914 - accuracy: 0.9816 - val_loss: 0.1052 - val_accuracy: 0.9734\n",
      "Epoch 84/100\n",
      "12/12 [==============================] - 0s 5ms/step - loss: 0.0909 - accuracy: 0.9816 - val_loss: 0.1047 - val_accuracy: 0.9734\n",
      "Epoch 85/100\n",
      "12/12 [==============================] - 0s 5ms/step - loss: 0.0904 - accuracy: 0.9816 - val_loss: 0.1042 - val_accuracy: 0.9734\n",
      "Epoch 86/100\n",
      "12/12 [==============================] - 0s 4ms/step - loss: 0.0899 - accuracy: 0.9816 - val_loss: 0.1038 - val_accuracy: 0.9734\n",
      "Epoch 87/100\n",
      "12/12 [==============================] - 0s 4ms/step - loss: 0.0894 - accuracy: 0.9816 - val_loss: 0.1034 - val_accuracy: 0.9734\n",
      "Epoch 88/100\n",
      "12/12 [==============================] - 0s 4ms/step - loss: 0.0890 - accuracy: 0.9816 - val_loss: 0.1031 - val_accuracy: 0.9734\n",
      "Epoch 89/100\n",
      "12/12 [==============================] - 0s 4ms/step - loss: 0.0885 - accuracy: 0.9816 - val_loss: 0.1027 - val_accuracy: 0.9734\n",
      "Epoch 90/100\n",
      "12/12 [==============================] - 0s 4ms/step - loss: 0.0881 - accuracy: 0.9816 - val_loss: 0.1022 - val_accuracy: 0.9734\n",
      "Epoch 91/100\n",
      "12/12 [==============================] - 0s 4ms/step - loss: 0.0876 - accuracy: 0.9816 - val_loss: 0.1018 - val_accuracy: 0.9734\n",
      "Epoch 92/100\n",
      "12/12 [==============================] - 0s 4ms/step - loss: 0.0872 - accuracy: 0.9816 - val_loss: 0.1015 - val_accuracy: 0.9734\n",
      "Epoch 93/100\n",
      "12/12 [==============================] - 0s 4ms/step - loss: 0.0867 - accuracy: 0.9816 - val_loss: 0.1011 - val_accuracy: 0.9734\n",
      "Epoch 94/100\n",
      "12/12 [==============================] - 0s 4ms/step - loss: 0.0864 - accuracy: 0.9816 - val_loss: 0.1007 - val_accuracy: 0.9734\n",
      "Epoch 95/100\n",
      "12/12 [==============================] - 0s 4ms/step - loss: 0.0859 - accuracy: 0.9816 - val_loss: 0.1003 - val_accuracy: 0.9734\n",
      "Epoch 96/100\n",
      "12/12 [==============================] - 0s 5ms/step - loss: 0.0855 - accuracy: 0.9816 - val_loss: 0.1000 - val_accuracy: 0.9734\n",
      "Epoch 97/100\n",
      "12/12 [==============================] - 0s 4ms/step - loss: 0.0851 - accuracy: 0.9816 - val_loss: 0.0997 - val_accuracy: 0.9734\n",
      "Epoch 98/100\n",
      "12/12 [==============================] - 0s 4ms/step - loss: 0.0847 - accuracy: 0.9816 - val_loss: 0.0994 - val_accuracy: 0.9734\n",
      "Epoch 99/100\n",
      "12/12 [==============================] - 0s 5ms/step - loss: 0.0843 - accuracy: 0.9816 - val_loss: 0.0989 - val_accuracy: 0.9734\n",
      "Epoch 100/100\n",
      "12/12 [==============================] - 0s 4ms/step - loss: 0.0839 - accuracy: 0.9816 - val_loss: 0.0986 - val_accuracy: 0.9734\n"
     ]
    }
   ],
   "source": [
    "r = model.fit(x_train, y_train, validation_data = (x_test, y_test), epochs=100)"
   ]
  },
  {
   "cell_type": "markdown",
   "metadata": {},
   "source": [
    "#### Evaluating the model"
   ]
  },
  {
   "cell_type": "code",
   "execution_count": null,
   "metadata": {
    "colab": {},
    "colab_type": "code",
    "id": "PQCZOs3cKBja"
   },
   "outputs": [],
   "source": [
    "import matplotlib.pyplot as plt"
   ]
  },
  {
   "cell_type": "code",
   "execution_count": 25,
   "metadata": {
    "colab": {
     "base_uri": "https://localhost:8080/",
     "height": 299
    },
    "colab_type": "code",
    "executionInfo": {
     "elapsed": 3377,
     "status": "ok",
     "timestamp": 1591736347549,
     "user": {
      "displayName": "Adarsh Pachori",
      "photoUrl": "",
      "userId": "06453457984377806328"
     },
     "user_tz": 420
    },
    "id": "ZhT3y6AkKZI7",
    "outputId": "4ad7432a-8cfd-433c-c46e-34d3c6966460"
   },
   "outputs": [
    {
     "name": "stdout",
     "output_type": "stream",
     "text": [
      "dict_keys(['loss', 'accuracy', 'val_loss', 'val_accuracy'])\n"
     ]
    },
    {
     "data": {
      "text/plain": [
       "<matplotlib.legend.Legend at 0x7fcf57f940b8>"
      ]
     },
     "execution_count": 25,
     "metadata": {
      "tags": []
     },
     "output_type": "execute_result"
    },
    {
     "data": {
      "image/png": "[encoded data removed]",
      "text/plain": [
       "<Figure size 432x288 with 1 Axes>"
      ]
     },
     "metadata": {
      "needs_background": "light",
      "tags": []
     },
     "output_type": "display_data"
    }
   ],
   "source": [
    "plt.plot(r.history['loss'],label = \"loss\")\n",
    "plt.plot(r.history['val_loss'], label = \"val_loss\")\n",
    "print(r.history.keys())\n",
    "plt.legend()"
   ]
  },
  {
   "cell_type": "code",
   "execution_count": null,
   "metadata": {
    "colab": {},
    "colab_type": "code",
    "id": "J4kCkxWxKn0W"
   },
   "outputs": [],
   "source": [
    "from sklearn.metrics import classification_report, confusion_matrix"
   ]
  },
  {
   "cell_type": "code",
   "execution_count": 29,
   "metadata": {
    "colab": {
     "base_uri": "https://localhost:8080/",
     "height": 170
    },
    "colab_type": "code",
    "executionInfo": {
     "elapsed": 384,
     "status": "ok",
     "timestamp": 1591736458842,
     "user": {
      "displayName": "Adarsh Pachori",
      "photoUrl": "",
      "userId": "06453457984377806328"
     },
     "user_tz": 420
    },
    "id": "yjER3Pwf4Gow",
    "outputId": "eaedab6b-5e0e-42e8-c9df-5def4f846cae"
   },
   "outputs": [
    {
     "name": "stdout",
     "output_type": "stream",
     "text": [
      "              precision    recall  f1-score   support\n",
      "\n",
      "           0       1.00      0.93      0.96        69\n",
      "           1       0.96      1.00      0.98       119\n",
      "\n",
      "    accuracy                           0.97       188\n",
      "   macro avg       0.98      0.96      0.97       188\n",
      "weighted avg       0.97      0.97      0.97       188\n",
      "\n"
     ]
    }
   ],
   "source": [
    "print(classification_report(y_test, model.predict_classes(x_test)))"
   ]
  },
  {
   "cell_type": "code",
   "execution_count": 30,
   "metadata": {
    "colab": {
     "base_uri": "https://localhost:8080/",
     "height": 51
    },
    "colab_type": "code",
    "executionInfo": {
     "elapsed": 396,
     "status": "ok",
     "timestamp": 1591736460782,
     "user": {
      "displayName": "Adarsh Pachori",
      "photoUrl": "",
      "userId": "06453457984377806328"
     },
     "user_tz": 420
    },
    "id": "XAHcJmg94ISr",
    "outputId": "fe59fe2a-159a-409b-b4b8-b6a9440e9917"
   },
   "outputs": [
    {
     "name": "stdout",
     "output_type": "stream",
     "text": [
      "[[ 64   5]\n",
      " [  0 119]]\n"
     ]
    }
   ],
   "source": [
    "print(confusion_matrix(y_test, model.predict_classes(x_test)))"
   ]
  }
 ],
 "metadata": {
  "colab": {
   "authorship_tag": "ABX9TyOXJzL1KkTHk0/ofwK71Ipu",
   "name": "LinearClassificationTF.ipynb",
   "provenance": []
  },
  "kernelspec": {
   "display_name": "Python 3",
   "language": "python",
   "name": "python3"
  },
  "language_info": {
   "codemirror_mode": {
    "name": "ipython",
    "version": 3
   },
   "file_extension": ".py",
   "mimetype": "text/x-python",
   "name": "python",
   "nbconvert_exporter": "python",
   "pygments_lexer": "ipython3",
   "version": "3.7.6"
  }
 },
 "nbformat": 4,
 "nbformat_minor": 4
}
