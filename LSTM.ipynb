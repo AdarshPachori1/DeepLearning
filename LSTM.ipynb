{
 "cells": [
  {
   "cell_type": "markdown",
   "metadata": {},
   "source": [
    "## LSTM\n",
    "#### Creating a recurrent neural network using the LSTM unit to forecast values of a sin curve"
   ]
  },
  {
   "cell_type": "code",
   "execution_count": null,
   "metadata": {
    "colab": {},
    "colab_type": "code",
    "id": "m-D3ZYQBbe6L"
   },
   "outputs": [],
   "source": [
    "import tensorflow as tf\n",
    "import numpy as np\n",
    "import matplotlib.pyplot as plt"
   ]
  },
  {
   "cell_type": "markdown",
   "metadata": {},
   "source": [
    "#### Creating the data"
   ]
  },
  {
   "cell_type": "code",
   "execution_count": null,
   "metadata": {
    "colab": {},
    "colab_type": "code",
    "id": "xq62Du9set98"
   },
   "outputs": [],
   "source": [
    "series = np.sin((0.1*np.arange(200))**2)"
   ]
  },
  {
   "cell_type": "code",
   "execution_count": null,
   "metadata": {
    "colab": {},
    "colab_type": "code",
    "id": "tSod9QY8e7oz"
   },
   "outputs": [],
   "source": [
    "T = 10\n",
    "X=[]\n",
    "Y=[]\n",
    "for i in range(len(series)-T):\n",
    "  X.append(series[i:i+T])\n",
    "  Y.append(series[i+T])\n"
   ]
  },
  {
   "cell_type": "code",
   "execution_count": null,
   "metadata": {
    "colab": {},
    "colab_type": "code",
    "id": "YF-kzH-1fEWb"
   },
   "outputs": [],
   "source": [
    "N = len(X)"
   ]
  },
  {
   "cell_type": "markdown",
   "metadata": {},
   "source": [
    "#### Splitting the data into training & testing, and reshaping it"
   ]
  },
  {
   "cell_type": "code",
   "execution_count": null,
   "metadata": {
    "colab": {},
    "colab_type": "code",
    "id": "x8SrMUUcv4W0"
   },
   "outputs": [],
   "source": [
    "x_train = np.array(X[:-N//2])\n",
    "x_test = np.array(X[-N//2:])\n",
    "y_train = np.array(Y[:-N//2])\n",
    "y_test = np.array(Y[-N//2:])\n"
   ]
  },
  {
   "cell_type": "code",
   "execution_count": null,
   "metadata": {
    "colab": {},
    "colab_type": "code",
    "id": "VmntMN5tzloL"
   },
   "outputs": [],
   "source": [
    "x_train = x_train.reshape((-1,T, 1))\n",
    "x_test = x_test.reshape((-1,T, 1))"
   ]
  },
  {
   "cell_type": "markdown",
   "metadata": {},
   "source": [
    "#### Building and training the model"
   ]
  },
  {
   "cell_type": "code",
   "execution_count": null,
   "metadata": {
    "colab": {},
    "colab_type": "code",
    "id": "4yfM5-8hwFam"
   },
   "outputs": [],
   "source": [
    "i = tf.keras.layers.Input(shape=(10,1))\n",
    "x = tf.keras.layers.LSTM(10)(i)\n",
    "x = tf.keras.layers.Dense(1)(x)\n",
    "model = tf.keras.models.Model(i, x)"
   ]
  },
  {
   "cell_type": "code",
   "execution_count": null,
   "metadata": {
    "colab": {},
    "colab_type": "code",
    "id": "zCZ1gu0wwH9h"
   },
   "outputs": [],
   "source": [
    "model.compile(optimizer = tf.keras.optimizers.Adam(0.1), loss = 'mse')"
   ]
  },
  {
   "cell_type": "code",
   "execution_count": 47,
   "metadata": {
    "colab": {
     "base_uri": "https://localhost:8080/",
     "height": 1000
    },
    "colab_type": "code",
    "executionInfo": {
     "elapsed": 15621,
     "status": "ok",
     "timestamp": 1592021225212,
     "user": {
      "displayName": "Adarsh Pachori",
      "photoUrl": "",
      "userId": "06453457984377806328"
     },
     "user_tz": 420
    },
    "id": "Ai-I9ba3ygJJ",
    "outputId": "6e801990-e58a-442e-9b77-1d2978b1fba3"
   },
   "outputs": [
    {
     "name": "stdout",
     "output_type": "stream",
     "text": [
      "Epoch 1/200\n",
      "3/3 [==============================] - 0s 136ms/step - loss: 0.6008 - val_loss: 0.6196\n",
      "Epoch 2/200\n",
      "3/3 [==============================] - 0s 18ms/step - loss: 0.4869 - val_loss: 0.7589\n",
      "Epoch 3/200\n",
      "3/3 [==============================] - 0s 17ms/step - loss: 0.4591 - val_loss: 0.9632\n",
      "Epoch 4/200\n",
      "3/3 [==============================] - 0s 18ms/step - loss: 0.3625 - val_loss: 1.3764\n",
      "Epoch 5/200\n",
      "3/3 [==============================] - 0s 17ms/step - loss: 0.2601 - val_loss: 2.1320\n",
      "Epoch 6/200\n",
      "3/3 [==============================] - 0s 16ms/step - loss: 0.2162 - val_loss: 2.3669\n",
      "Epoch 7/200\n",
      "3/3 [==============================] - 0s 16ms/step - loss: 0.1958 - val_loss: 2.2405\n",
      "Epoch 8/200\n",
      "3/3 [==============================] - 0s 16ms/step - loss: 0.1891 - val_loss: 2.0601\n",
      "Epoch 9/200\n",
      "3/3 [==============================] - 0s 16ms/step - loss: 0.1788 - val_loss: 2.0232\n",
      "Epoch 10/200\n",
      "3/3 [==============================] - 0s 16ms/step - loss: 0.1695 - val_loss: 2.0840\n",
      "Epoch 11/200\n",
      "3/3 [==============================] - 0s 16ms/step - loss: 0.1394 - val_loss: 2.4215\n",
      "Epoch 12/200\n",
      "3/3 [==============================] - 0s 18ms/step - loss: 0.1054 - val_loss: 2.7478\n",
      "Epoch 13/200\n",
      "3/3 [==============================] - 0s 17ms/step - loss: 0.1016 - val_loss: 3.0466\n",
      "Epoch 14/200\n",
      "3/3 [==============================] - 0s 21ms/step - loss: 0.0971 - val_loss: 3.2156\n",
      "Epoch 15/200\n",
      "3/3 [==============================] - 0s 17ms/step - loss: 0.1134 - val_loss: 3.0744\n",
      "Epoch 16/200\n",
      "3/3 [==============================] - 0s 17ms/step - loss: 0.1059 - val_loss: 2.8316\n",
      "Epoch 17/200\n",
      "3/3 [==============================] - 0s 16ms/step - loss: 0.0835 - val_loss: 2.8161\n",
      "Epoch 18/200\n",
      "3/3 [==============================] - 0s 16ms/step - loss: 0.0639 - val_loss: 2.8319\n",
      "Epoch 19/200\n",
      "3/3 [==============================] - 0s 17ms/step - loss: 0.0575 - val_loss: 2.7316\n",
      "Epoch 20/200\n",
      "3/3 [==============================] - 0s 17ms/step - loss: 0.0562 - val_loss: 2.5521\n",
      "Epoch 21/200\n",
      "3/3 [==============================] - 0s 17ms/step - loss: 0.0736 - val_loss: 2.0424\n",
      "Epoch 22/200\n",
      "3/3 [==============================] - 0s 17ms/step - loss: 0.0839 - val_loss: 1.9057\n",
      "Epoch 23/200\n",
      "3/3 [==============================] - 0s 21ms/step - loss: 0.0690 - val_loss: 1.9008\n",
      "Epoch 24/200\n",
      "3/3 [==============================] - 0s 18ms/step - loss: 0.0583 - val_loss: 2.0999\n",
      "Epoch 25/200\n",
      "3/3 [==============================] - 0s 19ms/step - loss: 0.0398 - val_loss: 2.2165\n",
      "Epoch 26/200\n",
      "3/3 [==============================] - 0s 21ms/step - loss: 0.0480 - val_loss: 2.2354\n",
      "Epoch 27/200\n",
      "3/3 [==============================] - 0s 19ms/step - loss: 0.0368 - val_loss: 2.1694\n",
      "Epoch 28/200\n",
      "3/3 [==============================] - 0s 20ms/step - loss: 0.0299 - val_loss: 2.0073\n",
      "Epoch 29/200\n",
      "3/3 [==============================] - 0s 19ms/step - loss: 0.0292 - val_loss: 2.0281\n",
      "Epoch 30/200\n",
      "3/3 [==============================] - 0s 18ms/step - loss: 0.0288 - val_loss: 2.1175\n",
      "Epoch 31/200\n",
      "3/3 [==============================] - 0s 17ms/step - loss: 0.0197 - val_loss: 2.1072\n",
      "Epoch 32/200\n",
      "3/3 [==============================] - 0s 17ms/step - loss: 0.0220 - val_loss: 2.1288\n",
      "Epoch 33/200\n",
      "3/3 [==============================] - 0s 20ms/step - loss: 0.0156 - val_loss: 2.0583\n",
      "Epoch 34/200\n",
      "3/3 [==============================] - 0s 18ms/step - loss: 0.0132 - val_loss: 1.9333\n",
      "Epoch 35/200\n",
      "3/3 [==============================] - 0s 17ms/step - loss: 0.0123 - val_loss: 1.9436\n",
      "Epoch 36/200\n",
      "3/3 [==============================] - 0s 17ms/step - loss: 0.0105 - val_loss: 1.8807\n",
      "Epoch 37/200\n",
      "3/3 [==============================] - 0s 17ms/step - loss: 0.0084 - val_loss: 1.8001\n",
      "Epoch 38/200\n",
      "3/3 [==============================] - 0s 17ms/step - loss: 0.0069 - val_loss: 1.7981\n",
      "Epoch 39/200\n",
      "3/3 [==============================] - 0s 18ms/step - loss: 0.0072 - val_loss: 1.8111\n",
      "Epoch 40/200\n",
      "3/3 [==============================] - 0s 18ms/step - loss: 0.0055 - val_loss: 1.8012\n",
      "Epoch 41/200\n",
      "3/3 [==============================] - 0s 19ms/step - loss: 0.0053 - val_loss: 1.7737\n",
      "Epoch 42/200\n",
      "3/3 [==============================] - 0s 28ms/step - loss: 0.0055 - val_loss: 1.7221\n",
      "Epoch 43/200\n",
      "3/3 [==============================] - 0s 18ms/step - loss: 0.0047 - val_loss: 1.7325\n",
      "Epoch 44/200\n",
      "3/3 [==============================] - 0s 18ms/step - loss: 0.0053 - val_loss: 1.7552\n",
      "Epoch 45/200\n",
      "3/3 [==============================] - 0s 17ms/step - loss: 0.0045 - val_loss: 1.7287\n",
      "Epoch 46/200\n",
      "3/3 [==============================] - 0s 18ms/step - loss: 0.0049 - val_loss: 1.7663\n",
      "Epoch 47/200\n",
      "3/3 [==============================] - 0s 17ms/step - loss: 0.0046 - val_loss: 1.7939\n",
      "Epoch 48/200\n",
      "3/3 [==============================] - 0s 19ms/step - loss: 0.0051 - val_loss: 1.8116\n",
      "Epoch 49/200\n",
      "3/3 [==============================] - 0s 17ms/step - loss: 0.0063 - val_loss: 1.8409\n",
      "Epoch 50/200\n",
      "3/3 [==============================] - 0s 17ms/step - loss: 0.0071 - val_loss: 1.8535\n",
      "Epoch 51/200\n",
      "3/3 [==============================] - 0s 17ms/step - loss: 0.0055 - val_loss: 1.8625\n",
      "Epoch 52/200\n",
      "3/3 [==============================] - 0s 21ms/step - loss: 0.0065 - val_loss: 1.8626\n",
      "Epoch 53/200\n",
      "3/3 [==============================] - 0s 17ms/step - loss: 0.0049 - val_loss: 1.8411\n",
      "Epoch 54/200\n",
      "3/3 [==============================] - 0s 18ms/step - loss: 0.0054 - val_loss: 1.8994\n",
      "Epoch 55/200\n",
      "3/3 [==============================] - 0s 18ms/step - loss: 0.0054 - val_loss: 1.8966\n",
      "Epoch 56/200\n",
      "3/3 [==============================] - 0s 17ms/step - loss: 0.0056 - val_loss: 1.9225\n",
      "Epoch 57/200\n",
      "3/3 [==============================] - 0s 17ms/step - loss: 0.0052 - val_loss: 1.8772\n",
      "Epoch 58/200\n",
      "3/3 [==============================] - 0s 18ms/step - loss: 0.0048 - val_loss: 1.9365\n",
      "Epoch 59/200\n",
      "3/3 [==============================] - 0s 19ms/step - loss: 0.0061 - val_loss: 1.9308\n",
      "Epoch 60/200\n",
      "3/3 [==============================] - 0s 17ms/step - loss: 0.0043 - val_loss: 1.9411\n",
      "Epoch 61/200\n",
      "3/3 [==============================] - 0s 22ms/step - loss: 0.0043 - val_loss: 1.9756\n",
      "Epoch 62/200\n",
      "3/3 [==============================] - 0s 18ms/step - loss: 0.0037 - val_loss: 1.9553\n",
      "Epoch 63/200\n",
      "3/3 [==============================] - 0s 18ms/step - loss: 0.0046 - val_loss: 1.9677\n",
      "Epoch 64/200\n",
      "3/3 [==============================] - 0s 20ms/step - loss: 0.0034 - val_loss: 1.9561\n",
      "Epoch 65/200\n",
      "3/3 [==============================] - 0s 19ms/step - loss: 0.0037 - val_loss: 1.9295\n",
      "Epoch 66/200\n",
      "3/3 [==============================] - 0s 18ms/step - loss: 0.0046 - val_loss: 1.9139\n",
      "Epoch 67/200\n",
      "3/3 [==============================] - 0s 17ms/step - loss: 0.0071 - val_loss: 1.9440\n",
      "Epoch 68/200\n",
      "3/3 [==============================] - 0s 16ms/step - loss: 0.0053 - val_loss: 2.0411\n",
      "Epoch 69/200\n",
      "3/3 [==============================] - 0s 16ms/step - loss: 0.0039 - val_loss: 1.9442\n",
      "Epoch 70/200\n",
      "3/3 [==============================] - 0s 20ms/step - loss: 0.0064 - val_loss: 2.0215\n",
      "Epoch 71/200\n",
      "3/3 [==============================] - 0s 16ms/step - loss: 0.0062 - val_loss: 2.0290\n",
      "Epoch 72/200\n",
      "3/3 [==============================] - 0s 17ms/step - loss: 0.0057 - val_loss: 1.9935\n",
      "Epoch 73/200\n",
      "3/3 [==============================] - 0s 18ms/step - loss: 0.0070 - val_loss: 2.0205\n",
      "Epoch 74/200\n",
      "3/3 [==============================] - 0s 19ms/step - loss: 0.0054 - val_loss: 2.0810\n",
      "Epoch 75/200\n",
      "3/3 [==============================] - 0s 20ms/step - loss: 0.0055 - val_loss: 2.0576\n",
      "Epoch 76/200\n",
      "3/3 [==============================] - 0s 18ms/step - loss: 0.0038 - val_loss: 2.0513\n",
      "Epoch 77/200\n",
      "3/3 [==============================] - 0s 17ms/step - loss: 0.0031 - val_loss: 2.0348\n",
      "Epoch 78/200\n",
      "3/3 [==============================] - 0s 16ms/step - loss: 0.0032 - val_loss: 2.0269\n",
      "Epoch 79/200\n",
      "3/3 [==============================] - 0s 17ms/step - loss: 0.0033 - val_loss: 2.0766\n",
      "Epoch 80/200\n",
      "3/3 [==============================] - 0s 22ms/step - loss: 0.0018 - val_loss: 2.0657\n",
      "Epoch 81/200\n",
      "3/3 [==============================] - 0s 17ms/step - loss: 0.0019 - val_loss: 2.0816\n",
      "Epoch 82/200\n",
      "3/3 [==============================] - 0s 17ms/step - loss: 0.0017 - val_loss: 2.0569\n",
      "Epoch 83/200\n",
      "3/3 [==============================] - 0s 16ms/step - loss: 0.0014 - val_loss: 2.0676\n",
      "Epoch 84/200\n",
      "3/3 [==============================] - 0s 17ms/step - loss: 0.0015 - val_loss: 2.0505\n",
      "Epoch 85/200\n",
      "3/3 [==============================] - 0s 17ms/step - loss: 0.0016 - val_loss: 2.0811\n",
      "Epoch 86/200\n",
      "3/3 [==============================] - 0s 17ms/step - loss: 0.0017 - val_loss: 2.0475\n",
      "Epoch 87/200\n",
      "3/3 [==============================] - 0s 18ms/step - loss: 0.0019 - val_loss: 2.0699\n",
      "Epoch 88/200\n",
      "3/3 [==============================] - 0s 18ms/step - loss: 0.0020 - val_loss: 2.0818\n",
      "Epoch 89/200\n",
      "3/3 [==============================] - 0s 20ms/step - loss: 0.0021 - val_loss: 2.1065\n",
      "Epoch 90/200\n",
      "3/3 [==============================] - 0s 18ms/step - loss: 0.0015 - val_loss: 2.0732\n",
      "Epoch 91/200\n",
      "3/3 [==============================] - 0s 19ms/step - loss: 0.0013 - val_loss: 2.0650\n",
      "Epoch 92/200\n",
      "3/3 [==============================] - 0s 17ms/step - loss: 0.0012 - val_loss: 2.0812\n",
      "Epoch 93/200\n",
      "3/3 [==============================] - 0s 18ms/step - loss: 0.0011 - val_loss: 2.0780\n",
      "Epoch 94/200\n",
      "3/3 [==============================] - 0s 17ms/step - loss: 0.0011 - val_loss: 2.0851\n",
      "Epoch 95/200\n",
      "3/3 [==============================] - 0s 18ms/step - loss: 9.1830e-04 - val_loss: 2.0994\n",
      "Epoch 96/200\n",
      "3/3 [==============================] - 0s 19ms/step - loss: 0.0011 - val_loss: 2.0585\n",
      "Epoch 97/200\n",
      "3/3 [==============================] - 0s 17ms/step - loss: 0.0011 - val_loss: 2.0870\n",
      "Epoch 98/200\n",
      "3/3 [==============================] - 0s 16ms/step - loss: 0.0014 - val_loss: 2.0811\n",
      "Epoch 99/200\n",
      "3/3 [==============================] - 0s 20ms/step - loss: 0.0015 - val_loss: 2.0806\n",
      "Epoch 100/200\n",
      "3/3 [==============================] - 0s 17ms/step - loss: 0.0015 - val_loss: 2.0770\n",
      "Epoch 101/200\n",
      "3/3 [==============================] - 0s 17ms/step - loss: 0.0013 - val_loss: 2.0786\n",
      "Epoch 102/200\n",
      "3/3 [==============================] - 0s 18ms/step - loss: 0.0019 - val_loss: 2.1219\n",
      "Epoch 103/200\n",
      "3/3 [==============================] - 0s 18ms/step - loss: 0.0022 - val_loss: 2.0771\n",
      "Epoch 104/200\n",
      "3/3 [==============================] - 0s 18ms/step - loss: 0.0015 - val_loss: 2.0813\n",
      "Epoch 105/200\n",
      "3/3 [==============================] - 0s 20ms/step - loss: 0.0013 - val_loss: 2.1238\n",
      "Epoch 106/200\n",
      "3/3 [==============================] - 0s 21ms/step - loss: 0.0018 - val_loss: 2.0839\n",
      "Epoch 107/200\n",
      "3/3 [==============================] - 0s 18ms/step - loss: 0.0014 - val_loss: 2.1034\n",
      "Epoch 108/200\n",
      "3/3 [==============================] - 0s 21ms/step - loss: 0.0013 - val_loss: 2.1017\n",
      "Epoch 109/200\n",
      "3/3 [==============================] - 0s 18ms/step - loss: 0.0012 - val_loss: 2.1011\n",
      "Epoch 110/200\n",
      "3/3 [==============================] - 0s 17ms/step - loss: 0.0015 - val_loss: 2.1189\n",
      "Epoch 111/200\n",
      "3/3 [==============================] - 0s 17ms/step - loss: 0.0024 - val_loss: 2.0923\n",
      "Epoch 112/200\n",
      "3/3 [==============================] - 0s 18ms/step - loss: 0.0019 - val_loss: 2.1310\n",
      "Epoch 113/200\n",
      "3/3 [==============================] - 0s 18ms/step - loss: 0.0022 - val_loss: 2.0911\n",
      "Epoch 114/200\n",
      "3/3 [==============================] - 0s 23ms/step - loss: 0.0019 - val_loss: 2.1159\n",
      "Epoch 115/200\n",
      "3/3 [==============================] - 0s 19ms/step - loss: 0.0013 - val_loss: 2.1385\n",
      "Epoch 116/200\n",
      "3/3 [==============================] - 0s 17ms/step - loss: 0.0014 - val_loss: 2.1165\n",
      "Epoch 117/200\n",
      "3/3 [==============================] - 0s 18ms/step - loss: 0.0017 - val_loss: 2.1037\n",
      "Epoch 118/200\n",
      "3/3 [==============================] - 0s 23ms/step - loss: 0.0014 - val_loss: 2.1182\n",
      "Epoch 119/200\n",
      "3/3 [==============================] - 0s 18ms/step - loss: 8.5504e-04 - val_loss: 2.1256\n",
      "Epoch 120/200\n",
      "3/3 [==============================] - 0s 17ms/step - loss: 9.4644e-04 - val_loss: 2.1181\n",
      "Epoch 121/200\n",
      "3/3 [==============================] - 0s 17ms/step - loss: 0.0011 - val_loss: 2.0832\n",
      "Epoch 122/200\n",
      "3/3 [==============================] - 0s 16ms/step - loss: 0.0012 - val_loss: 2.0822\n",
      "Epoch 123/200\n",
      "3/3 [==============================] - 0s 17ms/step - loss: 0.0011 - val_loss: 2.1269\n",
      "Epoch 124/200\n",
      "3/3 [==============================] - 0s 18ms/step - loss: 0.0015 - val_loss: 2.1196\n",
      "Epoch 125/200\n",
      "3/3 [==============================] - 0s 18ms/step - loss: 0.0016 - val_loss: 2.0880\n",
      "Epoch 126/200\n",
      "3/3 [==============================] - 0s 19ms/step - loss: 0.0022 - val_loss: 2.0971\n",
      "Epoch 127/200\n",
      "3/3 [==============================] - 0s 22ms/step - loss: 0.0024 - val_loss: 2.0678\n",
      "Epoch 128/200\n",
      "3/3 [==============================] - 0s 20ms/step - loss: 0.0019 - val_loss: 2.0951\n",
      "Epoch 129/200\n",
      "3/3 [==============================] - 0s 19ms/step - loss: 0.0013 - val_loss: 2.0958\n",
      "Epoch 130/200\n",
      "3/3 [==============================] - 0s 19ms/step - loss: 0.0010 - val_loss: 2.1118\n",
      "Epoch 131/200\n",
      "3/3 [==============================] - 0s 20ms/step - loss: 0.0012 - val_loss: 2.0853\n",
      "Epoch 132/200\n",
      "3/3 [==============================] - 0s 17ms/step - loss: 0.0012 - val_loss: 2.1275\n",
      "Epoch 133/200\n",
      "3/3 [==============================] - 0s 20ms/step - loss: 0.0012 - val_loss: 2.1055\n",
      "Epoch 134/200\n",
      "3/3 [==============================] - 0s 19ms/step - loss: 7.8167e-04 - val_loss: 2.1286\n",
      "Epoch 135/200\n",
      "3/3 [==============================] - 0s 19ms/step - loss: 8.7814e-04 - val_loss: 2.0856\n",
      "Epoch 136/200\n",
      "3/3 [==============================] - 0s 23ms/step - loss: 0.0014 - val_loss: 2.1058\n",
      "Epoch 137/200\n",
      "3/3 [==============================] - 0s 18ms/step - loss: 0.0013 - val_loss: 2.1049\n",
      "Epoch 138/200\n",
      "3/3 [==============================] - 0s 18ms/step - loss: 9.4411e-04 - val_loss: 2.1357\n",
      "Epoch 139/200\n",
      "3/3 [==============================] - 0s 18ms/step - loss: 0.0011 - val_loss: 2.0832\n",
      "Epoch 140/200\n",
      "3/3 [==============================] - 0s 18ms/step - loss: 0.0023 - val_loss: 2.1339\n",
      "Epoch 141/200\n",
      "3/3 [==============================] - 0s 19ms/step - loss: 0.0030 - val_loss: 2.0565\n",
      "Epoch 142/200\n",
      "3/3 [==============================] - 0s 17ms/step - loss: 0.0028 - val_loss: 2.0753\n",
      "Epoch 143/200\n",
      "3/3 [==============================] - 0s 17ms/step - loss: 0.0020 - val_loss: 2.1273\n",
      "Epoch 144/200\n",
      "3/3 [==============================] - 0s 17ms/step - loss: 0.0028 - val_loss: 2.1871\n",
      "Epoch 145/200\n",
      "3/3 [==============================] - 0s 17ms/step - loss: 0.0032 - val_loss: 2.0975\n",
      "Epoch 146/200\n",
      "3/3 [==============================] - 0s 23ms/step - loss: 0.0035 - val_loss: 2.1110\n",
      "Epoch 147/200\n",
      "3/3 [==============================] - 0s 18ms/step - loss: 0.0032 - val_loss: 2.0689\n",
      "Epoch 148/200\n",
      "3/3 [==============================] - 0s 22ms/step - loss: 0.0033 - val_loss: 2.1715\n",
      "Epoch 149/200\n",
      "3/3 [==============================] - 0s 19ms/step - loss: 0.0036 - val_loss: 2.1757\n",
      "Epoch 150/200\n",
      "3/3 [==============================] - 0s 18ms/step - loss: 0.0040 - val_loss: 2.1449\n",
      "Epoch 151/200\n",
      "3/3 [==============================] - 0s 20ms/step - loss: 0.0041 - val_loss: 2.1139\n",
      "Epoch 152/200\n",
      "3/3 [==============================] - 0s 18ms/step - loss: 0.0029 - val_loss: 2.1810\n",
      "Epoch 153/200\n",
      "3/3 [==============================] - 0s 17ms/step - loss: 0.0028 - val_loss: 2.1631\n",
      "Epoch 154/200\n",
      "3/3 [==============================] - 0s 18ms/step - loss: 0.0030 - val_loss: 2.1675\n",
      "Epoch 155/200\n",
      "3/3 [==============================] - 0s 20ms/step - loss: 0.0021 - val_loss: 2.1307\n",
      "Epoch 156/200\n",
      "3/3 [==============================] - 0s 16ms/step - loss: 0.0013 - val_loss: 2.1395\n",
      "Epoch 157/200\n",
      "3/3 [==============================] - 0s 18ms/step - loss: 0.0014 - val_loss: 2.1544\n",
      "Epoch 158/200\n",
      "3/3 [==============================] - 0s 18ms/step - loss: 0.0013 - val_loss: 2.1765\n",
      "Epoch 159/200\n",
      "3/3 [==============================] - 0s 17ms/step - loss: 0.0013 - val_loss: 2.1878\n",
      "Epoch 160/200\n",
      "3/3 [==============================] - 0s 17ms/step - loss: 0.0012 - val_loss: 2.1581\n",
      "Epoch 161/200\n",
      "3/3 [==============================] - 0s 20ms/step - loss: 0.0019 - val_loss: 2.1502\n",
      "Epoch 162/200\n",
      "3/3 [==============================] - 0s 19ms/step - loss: 0.0021 - val_loss: 2.1829\n",
      "Epoch 163/200\n",
      "3/3 [==============================] - 0s 20ms/step - loss: 0.0023 - val_loss: 2.2103\n",
      "Epoch 164/200\n",
      "3/3 [==============================] - 0s 19ms/step - loss: 0.0019 - val_loss: 2.1237\n",
      "Epoch 165/200\n",
      "3/3 [==============================] - 0s 22ms/step - loss: 0.0020 - val_loss: 2.1714\n",
      "Epoch 166/200\n",
      "3/3 [==============================] - 0s 20ms/step - loss: 0.0020 - val_loss: 2.2169\n",
      "Epoch 167/200\n",
      "3/3 [==============================] - 0s 19ms/step - loss: 0.0022 - val_loss: 2.1342\n",
      "Epoch 168/200\n",
      "3/3 [==============================] - 0s 18ms/step - loss: 0.0022 - val_loss: 2.2175\n",
      "Epoch 169/200\n",
      "3/3 [==============================] - 0s 18ms/step - loss: 0.0030 - val_loss: 2.1795\n",
      "Epoch 170/200\n",
      "3/3 [==============================] - 0s 17ms/step - loss: 0.0021 - val_loss: 2.1633\n",
      "Epoch 171/200\n",
      "3/3 [==============================] - 0s 19ms/step - loss: 0.0026 - val_loss: 2.1033\n",
      "Epoch 172/200\n",
      "3/3 [==============================] - 0s 18ms/step - loss: 0.0038 - val_loss: 2.1579\n",
      "Epoch 173/200\n",
      "3/3 [==============================] - 0s 18ms/step - loss: 0.0037 - val_loss: 2.1748\n",
      "Epoch 174/200\n",
      "3/3 [==============================] - 0s 21ms/step - loss: 0.0048 - val_loss: 2.2828\n",
      "Epoch 175/200\n",
      "3/3 [==============================] - 0s 19ms/step - loss: 0.0050 - val_loss: 2.1764\n",
      "Epoch 176/200\n",
      "3/3 [==============================] - 0s 18ms/step - loss: 0.0060 - val_loss: 2.1925\n",
      "Epoch 177/200\n",
      "3/3 [==============================] - 0s 18ms/step - loss: 0.0081 - val_loss: 2.1744\n",
      "Epoch 178/200\n",
      "3/3 [==============================] - 0s 19ms/step - loss: 0.0083 - val_loss: 2.1513\n",
      "Epoch 179/200\n",
      "3/3 [==============================] - 0s 18ms/step - loss: 0.0057 - val_loss: 2.2010\n",
      "Epoch 180/200\n",
      "3/3 [==============================] - 0s 18ms/step - loss: 0.0057 - val_loss: 2.2968\n",
      "Epoch 181/200\n",
      "3/3 [==============================] - 0s 18ms/step - loss: 0.0069 - val_loss: 2.3032\n",
      "Epoch 182/200\n",
      "3/3 [==============================] - 0s 20ms/step - loss: 0.0061 - val_loss: 2.2063\n",
      "Epoch 183/200\n",
      "3/3 [==============================] - 0s 17ms/step - loss: 0.0054 - val_loss: 2.2820\n",
      "Epoch 184/200\n",
      "3/3 [==============================] - 0s 22ms/step - loss: 0.0038 - val_loss: 2.3761\n",
      "Epoch 185/200\n",
      "3/3 [==============================] - 0s 19ms/step - loss: 0.0036 - val_loss: 2.2679\n",
      "Epoch 186/200\n",
      "3/3 [==============================] - 0s 17ms/step - loss: 0.0033 - val_loss: 2.2642\n",
      "Epoch 187/200\n",
      "3/3 [==============================] - 0s 16ms/step - loss: 0.0033 - val_loss: 2.2685\n",
      "Epoch 188/200\n",
      "3/3 [==============================] - 0s 23ms/step - loss: 0.0031 - val_loss: 2.3128\n",
      "Epoch 189/200\n",
      "3/3 [==============================] - 0s 18ms/step - loss: 0.0020 - val_loss: 2.2528\n",
      "Epoch 190/200\n",
      "3/3 [==============================] - 0s 18ms/step - loss: 0.0017 - val_loss: 2.3130\n",
      "Epoch 191/200\n",
      "3/3 [==============================] - 0s 18ms/step - loss: 0.0016 - val_loss: 2.2955\n",
      "Epoch 192/200\n",
      "3/3 [==============================] - 0s 17ms/step - loss: 0.0011 - val_loss: 2.2476\n",
      "Epoch 193/200\n",
      "3/3 [==============================] - 0s 22ms/step - loss: 0.0012 - val_loss: 2.2704\n",
      "Epoch 194/200\n",
      "3/3 [==============================] - 0s 18ms/step - loss: 0.0011 - val_loss: 2.2708\n",
      "Epoch 195/200\n",
      "3/3 [==============================] - 0s 23ms/step - loss: 0.0015 - val_loss: 2.2349\n",
      "Epoch 196/200\n",
      "3/3 [==============================] - 0s 17ms/step - loss: 0.0015 - val_loss: 2.2472\n",
      "Epoch 197/200\n",
      "3/3 [==============================] - 0s 20ms/step - loss: 0.0010 - val_loss: 2.2688\n",
      "Epoch 198/200\n",
      "3/3 [==============================] - 0s 17ms/step - loss: 0.0016 - val_loss: 2.2793\n",
      "Epoch 199/200\n",
      "3/3 [==============================] - 0s 18ms/step - loss: 0.0014 - val_loss: 2.2564\n",
      "Epoch 200/200\n",
      "3/3 [==============================] - 0s 16ms/step - loss: 0.0013 - val_loss: 2.2893\n"
     ]
    }
   ],
   "source": [
    "r = model.fit(x_train, y_train, epochs = 200, validation_data = (x_test, y_test))"
   ]
  },
  {
   "cell_type": "code",
   "execution_count": 48,
   "metadata": {
    "colab": {
     "base_uri": "https://localhost:8080/",
     "height": 282
    },
    "colab_type": "code",
    "executionInfo": {
     "elapsed": 779,
     "status": "ok",
     "timestamp": 1592021227564,
     "user": {
      "displayName": "Adarsh Pachori",
      "photoUrl": "",
      "userId": "06453457984377806328"
     },
     "user_tz": 420
    },
    "id": "P0piI8KQ2IQf",
    "outputId": "9eab9b0b-4f2b-4e07-aef2-d5099df2b89d"
   },
   "outputs": [
    {
     "data": {
      "text/plain": [
       "<matplotlib.legend.Legend at 0x7f35c41b9588>"
      ]
     },
     "execution_count": 48,
     "metadata": {
      "tags": []
     },
     "output_type": "execute_result"
    },
    {
     "data": {
      "image/png": "[encoded data removed]",
      "text/plain": [
       "<Figure size 432x288 with 1 Axes>"
      ]
     },
     "metadata": {
      "needs_background": "light",
      "tags": []
     },
     "output_type": "display_data"
    }
   ],
   "source": [
    "plt.plot(r.history['loss'], label = \"loss\")\n",
    "plt.plot(r.history['val_loss'], label = \"val_loss\")\n",
    "plt.legend()"
   ]
  },
  {
   "cell_type": "code",
   "execution_count": null,
   "metadata": {
    "colab": {},
    "colab_type": "code",
    "id": "FxlNBHKKyq3x"
   },
   "outputs": [],
   "source": [
    "#Multistep forecast\n",
    "\n",
    "predictions =[]\n",
    "current = x_test[0]\n",
    "while(len(y_test) > len(predictions)):\n",
    "  p = model.predict(current.reshape(1,T, 1))[0,0]\n",
    "  predictions.append(p)\n",
    "  current = np.roll(current, -1)\n",
    "  current[-1] = p"
   ]
  },
  {
   "cell_type": "markdown",
   "metadata": {},
   "source": [
    "#### Evaluating the model"
   ]
  },
  {
   "cell_type": "code",
   "execution_count": 52,
   "metadata": {
    "colab": {
     "base_uri": "https://localhost:8080/",
     "height": 282
    },
    "colab_type": "code",
    "executionInfo": {
     "elapsed": 700,
     "status": "ok",
     "timestamp": 1592021400860,
     "user": {
      "displayName": "Adarsh Pachori",
      "photoUrl": "",
      "userId": "06453457984377806328"
     },
     "user_tz": 420
    },
    "id": "Qq7o6uYK0kYC",
    "outputId": "c3462d85-4006-449c-d293-9fcde6ded445"
   },
   "outputs": [
    {
     "data": {
      "text/plain": [
       "<matplotlib.legend.Legend at 0x7f35c83440f0>"
      ]
     },
     "execution_count": 52,
     "metadata": {
      "tags": []
     },
     "output_type": "execute_result"
    },
    {
     "data": {
      "image/png": "[encoded data removed]",
      "text/plain": [
       "<Figure size 432x288 with 1 Axes>"
      ]
     },
     "metadata": {
      "needs_background": "light",
      "tags": []
     },
     "output_type": "display_data"
    }
   ],
   "source": [
    "plt.plot(y_test, label = \"Actual values\")\n",
    "plt.plot(predictions, label = \"Forecasted Values\")\n",
    "plt.legend()"
   ]
  },
  {
   "cell_type": "markdown",
   "metadata": {
    "colab_type": "text",
    "id": "zZgfY4lG4jcO"
   },
   "source": [
    "The LSTM did not perform very will with attempting to predict the generated time series."
   ]
  }
 ],
 "metadata": {
  "colab": {
   "authorship_tag": "ABX9TyPvyTjHnBfBWgz5v2wRH1UT",
   "collapsed_sections": [],
   "name": "LSTM.ipynb",
   "provenance": []
  },
  "kernelspec": {
   "display_name": "Python 3",
   "language": "python",
   "name": "python3"
  },
  "language_info": {
   "codemirror_mode": {
    "name": "ipython",
    "version": 3
   },
   "file_extension": ".py",
   "mimetype": "text/x-python",
   "name": "python",
   "nbconvert_exporter": "python",
   "pygments_lexer": "ipython3",
   "version": "3.7.6"
  }
 },
 "nbformat": 4,
 "nbformat_minor": 4
}
