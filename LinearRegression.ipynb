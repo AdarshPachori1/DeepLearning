{
 "cells": [
  {
   "cell_type": "markdown",
   "metadata": {},
   "source": [
    "## Linear Regression ANN\n",
    "#### Creating a model that will predict data that follows an exponential curve"
   ]
  },
  {
   "cell_type": "code",
   "execution_count": null,
   "metadata": {
    "colab": {},
    "colab_type": "code",
    "id": "h92Vqo7EGu2n"
   },
   "outputs": [],
   "source": [
    "import tensorflow as tf"
   ]
  },
  {
   "cell_type": "code",
   "execution_count": null,
   "metadata": {
    "colab": {},
    "colab_type": "code",
    "id": "7-IQH5OoGwW-"
   },
   "outputs": [],
   "source": [
    "import numpy as np\n",
    "import pandas as pd\n",
    "import matplotlib.pyplot as plt\n"
   ]
  },
  {
   "cell_type": "markdown",
   "metadata": {},
   "source": [
    "#### Loading the data"
   ]
  },
  {
   "cell_type": "code",
   "execution_count": 4,
   "metadata": {
    "colab": {
     "base_uri": "https://localhost:8080/",
     "height": 224
    },
    "colab_type": "code",
    "executionInfo": {
     "elapsed": 2489,
     "status": "ok",
     "timestamp": 1591740298197,
     "user": {
      "displayName": "Adarsh Pachori",
      "photoUrl": "",
      "userId": "06453457984377806328"
     },
     "user_tz": 420
    },
    "id": "N6eLvWeXG32l",
    "outputId": "b0e74184-e97f-4aa9-882a-a3f6d47381d4"
   },
   "outputs": [
    {
     "name": "stdout",
     "output_type": "stream",
     "text": [
      "--2020-06-09 22:04:57--  https://raw.githubusercontent.com/lazyprogrammer/machine_learning_examples/master/tf2.0/moore.csv\n",
      "Resolving raw.githubusercontent.com (raw.githubusercontent.com)... 151.101.0.133, 151.101.64.133, 151.101.128.133, ...\n",
      "Connecting to raw.githubusercontent.com (raw.githubusercontent.com)|151.101.0.133|:443... connected.\n",
      "HTTP request sent, awaiting response... 200 OK\n",
      "Length: 2302 (2.2K) [text/plain]\n",
      "Saving to: ‘moore.csv’\n",
      "\n",
      "moore.csv           100%[===================>]   2.25K  --.-KB/s    in 0s      \n",
      "\n",
      "2020-06-09 22:04:57 (49.1 MB/s) - ‘moore.csv’ saved [2302/2302]\n",
      "\n"
     ]
    }
   ],
   "source": [
    "!wget https://raw.githubusercontent.com/lazyprogrammer/machine_learning_examples/master/tf2.0/moore.csv"
   ]
  },
  {
   "cell_type": "code",
   "execution_count": 5,
   "metadata": {
    "colab": {
     "base_uri": "https://localhost:8080/",
     "height": 34
    },
    "colab_type": "code",
    "executionInfo": {
     "elapsed": 1462,
     "status": "ok",
     "timestamp": 1591740313818,
     "user": {
      "displayName": "Adarsh Pachori",
      "photoUrl": "",
      "userId": "06453457984377806328"
     },
     "user_tz": 420
    },
    "id": "Z70Gh3-sHMJO",
    "outputId": "af2fe626-8e11-4c9d-af37-7ac36c143970"
   },
   "outputs": [
    {
     "name": "stdout",
     "output_type": "stream",
     "text": [
      "moore.csv  sample_data\n"
     ]
    }
   ],
   "source": [
    "!ls"
   ]
  },
  {
   "cell_type": "code",
   "execution_count": 12,
   "metadata": {
    "colab": {
     "base_uri": "https://localhost:8080/",
     "height": 187
    },
    "colab_type": "code",
    "executionInfo": {
     "elapsed": 2809,
     "status": "ok",
     "timestamp": 1591740489177,
     "user": {
      "displayName": "Adarsh Pachori",
      "photoUrl": "",
      "userId": "06453457984377806328"
     },
     "user_tz": 420
    },
    "id": "_eZwyXFFHaqi",
    "outputId": "37dc4689-1805-4285-fec2-ae56c325156d"
   },
   "outputs": [
    {
     "name": "stdout",
     "output_type": "stream",
     "text": [
      "1971,2300\n",
      "1972,3500\n",
      "1973,2500\n",
      "1973,2500\n",
      "1974,4100\n",
      "1974,4500\n",
      "1974,8000\n",
      "1975,3510\n",
      "1976,5000\n",
      "1976,8500\n"
     ]
    }
   ],
   "source": [
    "!head moore.csv"
   ]
  },
  {
   "cell_type": "code",
   "execution_count": null,
   "metadata": {
    "colab": {},
    "colab_type": "code",
    "id": "e8xBwo8xH6Na"
   },
   "outputs": [],
   "source": [
    "df = pd.read_csv(\"moore.csv\", header = None)"
   ]
  },
  {
   "cell_type": "code",
   "execution_count": 14,
   "metadata": {
    "colab": {
     "base_uri": "https://localhost:8080/",
     "height": 419
    },
    "colab_type": "code",
    "executionInfo": {
     "elapsed": 921,
     "status": "ok",
     "timestamp": 1591740567512,
     "user": {
      "displayName": "Adarsh Pachori",
      "photoUrl": "",
      "userId": "06453457984377806328"
     },
     "user_tz": 420
    },
    "id": "UerHeHELIWHi",
    "outputId": "50b4a926-3faf-42d2-ccc9-0f262217825e"
   },
   "outputs": [
    {
     "data": {
      "text/html": [
       "<div>\n",
       "<style scoped>\n",
       "    .dataframe tbody tr th:only-of-type {\n",
       "        vertical-align: middle;\n",
       "    }\n",
       "\n",
       "    .dataframe tbody tr th {\n",
       "        vertical-align: top;\n",
       "    }\n",
       "\n",
       "    .dataframe thead th {\n",
       "        text-align: right;\n",
       "    }\n",
       "</style>\n",
       "<table border=\"1\" class=\"dataframe\">\n",
       "  <thead>\n",
       "    <tr style=\"text-align: right;\">\n",
       "      <th></th>\n",
       "      <th>0</th>\n",
       "      <th>1</th>\n",
       "    </tr>\n",
       "  </thead>\n",
       "  <tbody>\n",
       "    <tr>\n",
       "      <th>0</th>\n",
       "      <td>1971</td>\n",
       "      <td>2300</td>\n",
       "    </tr>\n",
       "    <tr>\n",
       "      <th>1</th>\n",
       "      <td>1972</td>\n",
       "      <td>3500</td>\n",
       "    </tr>\n",
       "    <tr>\n",
       "      <th>2</th>\n",
       "      <td>1973</td>\n",
       "      <td>2500</td>\n",
       "    </tr>\n",
       "    <tr>\n",
       "      <th>3</th>\n",
       "      <td>1973</td>\n",
       "      <td>2500</td>\n",
       "    </tr>\n",
       "    <tr>\n",
       "      <th>4</th>\n",
       "      <td>1974</td>\n",
       "      <td>4100</td>\n",
       "    </tr>\n",
       "    <tr>\n",
       "      <th>...</th>\n",
       "      <td>...</td>\n",
       "      <td>...</td>\n",
       "    </tr>\n",
       "    <tr>\n",
       "      <th>157</th>\n",
       "      <td>2017</td>\n",
       "      <td>18000000000</td>\n",
       "    </tr>\n",
       "    <tr>\n",
       "      <th>158</th>\n",
       "      <td>2017</td>\n",
       "      <td>19200000000</td>\n",
       "    </tr>\n",
       "    <tr>\n",
       "      <th>159</th>\n",
       "      <td>2018</td>\n",
       "      <td>8876000000</td>\n",
       "    </tr>\n",
       "    <tr>\n",
       "      <th>160</th>\n",
       "      <td>2018</td>\n",
       "      <td>23600000000</td>\n",
       "    </tr>\n",
       "    <tr>\n",
       "      <th>161</th>\n",
       "      <td>2018</td>\n",
       "      <td>9000000000</td>\n",
       "    </tr>\n",
       "  </tbody>\n",
       "</table>\n",
       "<p>162 rows × 2 columns</p>\n",
       "</div>"
      ],
      "text/plain": [
       "        0            1\n",
       "0    1971         2300\n",
       "1    1972         3500\n",
       "2    1973         2500\n",
       "3    1973         2500\n",
       "4    1974         4100\n",
       "..    ...          ...\n",
       "157  2017  18000000000\n",
       "158  2017  19200000000\n",
       "159  2018   8876000000\n",
       "160  2018  23600000000\n",
       "161  2018   9000000000\n",
       "\n",
       "[162 rows x 2 columns]"
      ]
     },
     "execution_count": 14,
     "metadata": {
      "tags": []
     },
     "output_type": "execute_result"
    }
   ],
   "source": [
    "df"
   ]
  },
  {
   "cell_type": "markdown",
   "metadata": {},
   "source": [
    "#### Reshaping the data for an ANN to evaluate"
   ]
  },
  {
   "cell_type": "code",
   "execution_count": 42,
   "metadata": {
    "colab": {
     "base_uri": "https://localhost:8080/",
     "height": 1000
    },
    "colab_type": "code",
    "executionInfo": {
     "elapsed": 901,
     "status": "ok",
     "timestamp": 1591741675254,
     "user": {
      "displayName": "Adarsh Pachori",
      "photoUrl": "",
      "userId": "06453457984377806328"
     },
     "user_tz": 420
    },
    "id": "zvaTM_y4IYm6",
    "outputId": "a4cd9a05-dc66-4f55-9d80-a7c8a1678cc6"
   },
   "outputs": [
    {
     "data": {
      "text/plain": [
       "array([[1971],\n",
       "       [1972],\n",
       "       [1973],\n",
       "       [1973],\n",
       "       [1974],\n",
       "       [1974],\n",
       "       [1974],\n",
       "       [1975],\n",
       "       [1976],\n",
       "       [1976],\n",
       "       [1976],\n",
       "       [1978],\n",
       "       [1978],\n",
       "       [1979],\n",
       "       [1979],\n",
       "       [1979],\n",
       "       [1981],\n",
       "       [1982],\n",
       "       [1982],\n",
       "       [1983],\n",
       "       [1984],\n",
       "       [1984],\n",
       "       [1985],\n",
       "       [1985],\n",
       "       [1985],\n",
       "       [1986],\n",
       "       [1986],\n",
       "       [1986],\n",
       "       [1987],\n",
       "       [1987],\n",
       "       [1987],\n",
       "       [1987],\n",
       "       [1988],\n",
       "       [1988],\n",
       "       [1989],\n",
       "       [1989],\n",
       "       [1989],\n",
       "       [1989],\n",
       "       [1990],\n",
       "       [1991],\n",
       "       [1991],\n",
       "       [1992],\n",
       "       [1992],\n",
       "       [1993],\n",
       "       [1993],\n",
       "       [1994],\n",
       "       [1994],\n",
       "       [1995],\n",
       "       [1999],\n",
       "       [1995],\n",
       "       [1996],\n",
       "       [1997],\n",
       "       [1997],\n",
       "       [1997],\n",
       "       [1998],\n",
       "       [1999],\n",
       "       [1999],\n",
       "       [2000],\n",
       "       [2000],\n",
       "       [1999],\n",
       "       [1999],\n",
       "       [1999],\n",
       "       [2000],\n",
       "       [2001],\n",
       "       [2001],\n",
       "       [2002],\n",
       "       [2004],\n",
       "       [2004],\n",
       "       [2005],\n",
       "       [2006],\n",
       "       [2005],\n",
       "       [2006],\n",
       "       [2007],\n",
       "       [2008],\n",
       "       [2003],\n",
       "       [2003],\n",
       "       [2002],\n",
       "       [2005],\n",
       "       [2005],\n",
       "       [2006],\n",
       "       [2007],\n",
       "       [2003],\n",
       "       [2008],\n",
       "       [2009],\n",
       "       [2011],\n",
       "       [2012],\n",
       "       [2007],\n",
       "       [2007],\n",
       "       [2008],\n",
       "       [2004],\n",
       "       [2007],\n",
       "       [2008],\n",
       "       [2008],\n",
       "       [2007],\n",
       "       [2009],\n",
       "       [2010],\n",
       "       [2012],\n",
       "       [2013],\n",
       "       [2011],\n",
       "       [2010],\n",
       "       [2010],\n",
       "       [2012],\n",
       "       [2012],\n",
       "       [2010],\n",
       "       [2012],\n",
       "       [2014],\n",
       "       [2006],\n",
       "       [2015],\n",
       "       [2013],\n",
       "       [2015],\n",
       "       [2008],\n",
       "       [2010],\n",
       "       [2014],\n",
       "       [2015],\n",
       "       [2015],\n",
       "       [2012],\n",
       "       [2011],\n",
       "       [2010],\n",
       "       [2014],\n",
       "       [2011],\n",
       "       [2012],\n",
       "       [2014],\n",
       "       [2016],\n",
       "       [2017],\n",
       "       [2017],\n",
       "       [2018],\n",
       "       [2012],\n",
       "       [2016],\n",
       "       [2016],\n",
       "       [2015],\n",
       "       [2013],\n",
       "       [2017],\n",
       "       [2014],\n",
       "       [2017],\n",
       "       [2017],\n",
       "       [2017],\n",
       "       [2012],\n",
       "       [2013],\n",
       "       [2014],\n",
       "       [2017],\n",
       "       [2018],\n",
       "       [2016],\n",
       "       [2018],\n",
       "       [2017],\n",
       "       [2018],\n",
       "       [2017],\n",
       "       [2015],\n",
       "       [2017],\n",
       "       [2016],\n",
       "       [2017],\n",
       "       [2016],\n",
       "       [2017],\n",
       "       [2017],\n",
       "       [2015],\n",
       "       [2017],\n",
       "       [2018],\n",
       "       [2017],\n",
       "       [2017],\n",
       "       [2017],\n",
       "       [2018],\n",
       "       [2018],\n",
       "       [2018]])"
      ]
     },
     "execution_count": 42,
     "metadata": {
      "tags": []
     },
     "output_type": "execute_result"
    }
   ],
   "source": [
    "x = df[0].values\n",
    "x= x.reshape(-1,1) #similarly can be done by x.reshape(162,1)"
   ]
  },
  {
   "cell_type": "code",
   "execution_count": 43,
   "metadata": {
    "colab": {
     "base_uri": "https://localhost:8080/",
     "height": 34
    },
    "colab_type": "code",
    "executionInfo": {
     "elapsed": 616,
     "status": "ok",
     "timestamp": 1591741724102,
     "user": {
      "displayName": "Adarsh Pachori",
      "photoUrl": "",
      "userId": "06453457984377806328"
     },
     "user_tz": 420
    },
    "id": "AX8yNjhsIoZW",
    "outputId": "22640cc9-1c15-4a3e-df52-4f9c2e9ce36c"
   },
   "outputs": [
    {
     "data": {
      "text/plain": [
       "(162,)"
      ]
     },
     "execution_count": 43,
     "metadata": {
      "tags": []
     },
     "output_type": "execute_result"
    }
   ],
   "source": [
    "y = df[1].values\n",
    "y.shape"
   ]
  },
  {
   "cell_type": "code",
   "execution_count": 63,
   "metadata": {
    "colab": {
     "base_uri": "https://localhost:8080/",
     "height": 293
    },
    "colab_type": "code",
    "executionInfo": {
     "elapsed": 2474,
     "status": "ok",
     "timestamp": 1591742473672,
     "user": {
      "displayName": "Adarsh Pachori",
      "photoUrl": "",
      "userId": "06453457984377806328"
     },
     "user_tz": 420
    },
    "id": "D-hrcmiiIrA-",
    "outputId": "cf18b38a-a440-41cc-e84d-f50873b025f7"
   },
   "outputs": [
    {
     "data": {
      "text/plain": [
       "<matplotlib.collections.PathCollection at 0x7f4edfb1e828>"
      ]
     },
     "execution_count": 63,
     "metadata": {
      "tags": []
     },
     "output_type": "execute_result"
    },
    {
     "data": {
      "image/png": "[encoded data removed]",
      "text/plain": [
       "<Figure size 432x288 with 1 Axes>"
      ]
     },
     "metadata": {
      "needs_background": "light",
      "tags": []
     },
     "output_type": "display_data"
    }
   ],
   "source": [
    "plt.scatter(x, y)\n",
    "#the graph is exponential, but we can make the relationship linear if we take the log of y"
   ]
  },
  {
   "cell_type": "code",
   "execution_count": null,
   "metadata": {
    "colab": {},
    "colab_type": "code",
    "id": "8X4BJ3KWPpvG"
   },
   "outputs": [],
   "source": [
    "y = np.log(y)"
   ]
  },
  {
   "cell_type": "markdown",
   "metadata": {},
   "source": [
    "#### Splitting the data and scaling it"
   ]
  },
  {
   "cell_type": "code",
   "execution_count": null,
   "metadata": {
    "colab": {},
    "colab_type": "code",
    "id": "v7VKQ0MtM5pN"
   },
   "outputs": [],
   "source": [
    "from sklearn.model_selection import train_test_split"
   ]
  },
  {
   "cell_type": "code",
   "execution_count": null,
   "metadata": {
    "colab": {},
    "colab_type": "code",
    "id": "oypyQlEpOJIP"
   },
   "outputs": [],
   "source": [
    "from sklearn.preprocessing import StandardScaler"
   ]
  },
  {
   "cell_type": "code",
   "execution_count": null,
   "metadata": {
    "colab": {},
    "colab_type": "code",
    "id": "5JmhIqInODAm"
   },
   "outputs": [],
   "source": [
    "x_train, x_test, y_train, y_test = train_test_split(x, y, test_size = 0.33)"
   ]
  },
  {
   "cell_type": "code",
   "execution_count": null,
   "metadata": {
    "colab": {},
    "colab_type": "code",
    "id": "cJXfHY_eOR3Y"
   },
   "outputs": [],
   "source": [
    "scale = StandardScaler()"
   ]
  },
  {
   "cell_type": "code",
   "execution_count": null,
   "metadata": {
    "colab": {},
    "colab_type": "code",
    "id": "h7cFhzOCOUJx"
   },
   "outputs": [],
   "source": [
    "x_train = scale.fit_transform(x_train)"
   ]
  },
  {
   "cell_type": "code",
   "execution_count": null,
   "metadata": {
    "colab": {},
    "colab_type": "code",
    "id": "dR8evQKKOXXg"
   },
   "outputs": [],
   "source": [
    "x_test = scale.transform(x_test)"
   ]
  },
  {
   "cell_type": "markdown",
   "metadata": {},
   "source": [
    "#### Building the model"
   ]
  },
  {
   "cell_type": "code",
   "execution_count": null,
   "metadata": {
    "colab": {},
    "colab_type": "code",
    "id": "prPo4MBHI3Lo"
   },
   "outputs": [],
   "source": [
    "model = tf.keras.models.Sequential([\n",
    "    tf.keras.layers.Input(shape = (1,)),\n",
    "    tf.keras.layers.Dense(1)\n",
    "])"
   ]
  },
  {
   "cell_type": "code",
   "execution_count": null,
   "metadata": {
    "colab": {},
    "colab_type": "code",
    "id": "j-UdXQliOZb4"
   },
   "outputs": [],
   "source": [
    "model.compile(optimizer = tf.keras.optimizers.SGD(0.0001, 0.9), loss =\"mse\")"
   ]
  },
  {
   "cell_type": "code",
   "execution_count": 69,
   "metadata": {
    "colab": {
     "base_uri": "https://localhost:8080/",
     "height": 1000
    },
    "colab_type": "code",
    "executionInfo": {
     "elapsed": 5143,
     "status": "ok",
     "timestamp": 1591742520328,
     "user": {
      "displayName": "Adarsh Pachori",
      "photoUrl": "",
      "userId": "06453457984377806328"
     },
     "user_tz": 420
    },
    "id": "zuujCdJdOv1j",
    "outputId": "1a0983ec-ebcb-4b9b-c2a9-1d84ef1a672e"
   },
   "outputs": [
    {
     "name": "stdout",
     "output_type": "stream",
     "text": [
      "Epoch 1/100\n",
      "4/4 [==============================] - 0s 19ms/step - loss: 2492382028813565952.0000 - val_loss: 2434320668041412608.0000\n",
      "Epoch 2/100\n",
      "4/4 [==============================] - 0s 9ms/step - loss: 2479774478733672448.0000 - val_loss: 2415408243409944576.0000\n",
      "Epoch 3/100\n",
      "4/4 [==============================] - 0s 10ms/step - loss: 2458186117678104576.0000 - val_loss: 2389155204273537024.0000\n",
      "Epoch 4/100\n",
      "4/4 [==============================] - 0s 10ms/step - loss: 2429711790175682560.0000 - val_loss: 2358486251562074112.0000\n",
      "Epoch 5/100\n",
      "4/4 [==============================] - 0s 10ms/step - loss: 2397943600714350592.0000 - val_loss: 2325288147228819456.0000\n",
      "Epoch 6/100\n",
      "4/4 [==============================] - 0s 10ms/step - loss: 2363675121811456000.0000 - val_loss: 2291064748302663680.0000\n",
      "Epoch 7/100\n",
      "4/4 [==============================] - 0s 10ms/step - loss: 2329226048123699200.0000 - val_loss: 2256247200780648448.0000\n",
      "Epoch 8/100\n",
      "4/4 [==============================] - 0s 9ms/step - loss: 2292667423939100672.0000 - val_loss: 2221959342985314304.0000\n",
      "Epoch 9/100\n",
      "4/4 [==============================] - 0s 10ms/step - loss: 2256437691170160640.0000 - val_loss: 2187374342172573696.0000\n",
      "Epoch 10/100\n",
      "4/4 [==============================] - 0s 10ms/step - loss: 2222380181060845568.0000 - val_loss: 2152318612944191488.0000\n",
      "Epoch 11/100\n",
      "4/4 [==============================] - 0s 9ms/step - loss: 2185586398826856448.0000 - val_loss: 2117983751026769920.0000\n",
      "Epoch 12/100\n",
      "4/4 [==============================] - 0s 10ms/step - loss: 2151949726793072640.0000 - val_loss: 2083603534254702592.0000\n",
      "Epoch 13/100\n",
      "4/4 [==============================] - 0s 11ms/step - loss: 2115605644814843904.0000 - val_loss: 2050351416412733440.0000\n",
      "Epoch 14/100\n",
      "4/4 [==============================] - 0s 9ms/step - loss: 2082004981786869760.0000 - val_loss: 2017159909149245440.0000\n",
      "Epoch 15/100\n",
      "4/4 [==============================] - 0s 11ms/step - loss: 2047368303927623680.0000 - val_loss: 1984254274908979200.0000\n",
      "Epoch 16/100\n",
      "4/4 [==============================] - 0s 10ms/step - loss: 2014627871309430784.0000 - val_loss: 1951082283976884224.0000\n",
      "Epoch 17/100\n",
      "4/4 [==============================] - 0s 10ms/step - loss: 1981562533005230080.0000 - val_loss: 1918866593283047424.0000\n",
      "Epoch 18/100\n",
      "4/4 [==============================] - 0s 9ms/step - loss: 1948393840608018432.0000 - val_loss: 1887510583243177984.0000\n",
      "Epoch 19/100\n",
      "4/4 [==============================] - 0s 10ms/step - loss: 1916359019576950784.0000 - val_loss: 1856690859999756288.0000\n",
      "Epoch 20/100\n",
      "4/4 [==============================] - 0s 10ms/step - loss: 1885311147670765568.0000 - val_loss: 1826059153244684288.0000\n",
      "Epoch 21/100\n",
      "4/4 [==============================] - 0s 10ms/step - loss: 1854823202061025280.0000 - val_loss: 1796245620579631104.0000\n",
      "Epoch 22/100\n",
      "4/4 [==============================] - 0s 11ms/step - loss: 1824271759654780928.0000 - val_loss: 1767315957824356352.0000\n",
      "Epoch 23/100\n",
      "4/4 [==============================] - 0s 10ms/step - loss: 1794744374890856448.0000 - val_loss: 1738604273249288192.0000\n",
      "Epoch 24/100\n",
      "4/4 [==============================] - 0s 10ms/step - loss: 1765814162379767808.0000 - val_loss: 1710506803357286400.0000\n",
      "Epoch 25/100\n",
      "4/4 [==============================] - 0s 9ms/step - loss: 1736858111345426432.0000 - val_loss: 1682929814782083072.0000\n",
      "Epoch 26/100\n",
      "4/4 [==============================] - 0s 10ms/step - loss: 1708878564075503616.0000 - val_loss: 1655435427017916416.0000\n",
      "Epoch 27/100\n",
      "4/4 [==============================] - 0s 11ms/step - loss: 1681448222863654912.0000 - val_loss: 1628532576509493248.0000\n",
      "Epoch 28/100\n",
      "4/4 [==============================] - 0s 10ms/step - loss: 1653527911782678528.0000 - val_loss: 1602718242512568320.0000\n",
      "Epoch 29/100\n",
      "4/4 [==============================] - 0s 10ms/step - loss: 1626901863326547968.0000 - val_loss: 1576916003143548928.0000\n",
      "Epoch 30/100\n",
      "4/4 [==============================] - 0s 10ms/step - loss: 1601675080855715840.0000 - val_loss: 1550872008655372288.0000\n",
      "Epoch 31/100\n",
      "4/4 [==============================] - 0s 9ms/step - loss: 1574994744012963840.0000 - val_loss: 1525458309207818240.0000\n",
      "Epoch 32/100\n",
      "4/4 [==============================] - 0s 12ms/step - loss: 1549386980763107328.0000 - val_loss: 1500527295364857856.0000\n",
      "Epoch 33/100\n",
      "4/4 [==============================] - 0s 10ms/step - loss: 1523947855109160960.0000 - val_loss: 1476401948667150336.0000\n",
      "Epoch 34/100\n",
      "4/4 [==============================] - 0s 10ms/step - loss: 1499300790144073728.0000 - val_loss: 1452921740417040384.0000\n",
      "Epoch 35/100\n",
      "4/4 [==============================] - 0s 10ms/step - loss: 1476562889681666048.0000 - val_loss: 1429897004858736640.0000\n",
      "Epoch 36/100\n",
      "4/4 [==============================] - 0s 9ms/step - loss: 1452292132571185152.0000 - val_loss: 1407940719724724224.0000\n",
      "Epoch 37/100\n",
      "4/4 [==============================] - 0s 9ms/step - loss: 1429954591780241408.0000 - val_loss: 1386044632852332544.0000\n",
      "Epoch 38/100\n",
      "4/4 [==============================] - 0s 9ms/step - loss: 1408033353579364352.0000 - val_loss: 1364131640988663808.0000\n",
      "Epoch 39/100\n",
      "4/4 [==============================] - 0s 10ms/step - loss: 1385513843614023680.0000 - val_loss: 1342617496967970816.0000\n",
      "Epoch 40/100\n",
      "4/4 [==============================] - 0s 10ms/step - loss: 1364039969206697984.0000 - val_loss: 1321279549685628928.0000\n",
      "Epoch 41/100\n",
      "4/4 [==============================] - 0s 9ms/step - loss: 1341151985407098880.0000 - val_loss: 1300891443010732032.0000\n",
      "Epoch 42/100\n",
      "4/4 [==============================] - 0s 11ms/step - loss: 1321025150182752256.0000 - val_loss: 1280046901571354624.0000\n",
      "Epoch 43/100\n",
      "4/4 [==============================] - 0s 10ms/step - loss: 1299653805234716672.0000 - val_loss: 1259499503149383680.0000\n",
      "Epoch 44/100\n",
      "4/4 [==============================] - 0s 10ms/step - loss: 1279059952446472192.0000 - val_loss: 1239037591756472320.0000\n",
      "Epoch 45/100\n",
      "4/4 [==============================] - 0s 9ms/step - loss: 1257795947321098240.0000 - val_loss: 1219040361465249792.0000\n",
      "Epoch 46/100\n",
      "4/4 [==============================] - 0s 11ms/step - loss: 1238193579143200768.0000 - val_loss: 1199176446958895104.0000\n",
      "Epoch 47/100\n",
      "4/4 [==============================] - 0s 9ms/step - loss: 1217821827703767040.0000 - val_loss: 1179842909373988864.0000\n",
      "Epoch 48/100\n",
      "4/4 [==============================] - 0s 9ms/step - loss: 1198559895813619712.0000 - val_loss: 1160817235044859904.0000\n",
      "Epoch 49/100\n",
      "4/4 [==============================] - 0s 10ms/step - loss: 1178615442080530432.0000 - val_loss: 1142501226751983616.0000\n",
      "Epoch 50/100\n",
      "4/4 [==============================] - 0s 10ms/step - loss: 1160110661385060352.0000 - val_loss: 1124351931909668864.0000\n",
      "Epoch 51/100\n",
      "4/4 [==============================] - 0s 11ms/step - loss: 1141704286980276224.0000 - val_loss: 1106393264895819776.0000\n",
      "Epoch 52/100\n",
      "4/4 [==============================] - 0s 9ms/step - loss: 1123418515257163776.0000 - val_loss: 1088679307938627584.0000\n",
      "Epoch 53/100\n",
      "4/4 [==============================] - 0s 10ms/step - loss: 1105192941795672064.0000 - val_loss: 1071133988577345536.0000\n",
      "Epoch 54/100\n",
      "4/4 [==============================] - 0s 10ms/step - loss: 1087084535042015232.0000 - val_loss: 1053559807035834368.0000\n",
      "Epoch 55/100\n",
      "4/4 [==============================] - 0s 11ms/step - loss: 1069657275741765632.0000 - val_loss: 1036074204899835904.0000\n",
      "Epoch 56/100\n",
      "4/4 [==============================] - 0s 10ms/step - loss: 1051874599307837440.0000 - val_loss: 1019106678898950144.0000\n",
      "Epoch 57/100\n",
      "4/4 [==============================] - 0s 10ms/step - loss: 1034798427814232064.0000 - val_loss: 1002495257226510336.0000\n",
      "Epoch 58/100\n",
      "4/4 [==============================] - 0s 10ms/step - loss: 1018302867179569152.0000 - val_loss: 986356075798200320.0000\n",
      "Epoch 59/100\n",
      "4/4 [==============================] - 0s 10ms/step - loss: 1001000952204886016.0000 - val_loss: 970827054603829248.0000\n",
      "Epoch 60/100\n",
      "4/4 [==============================] - 0s 10ms/step - loss: 985365072224190464.0000 - val_loss: 955029683852804096.0000\n",
      "Epoch 61/100\n",
      "4/4 [==============================] - 0s 13ms/step - loss: 969318043614183424.0000 - val_loss: 939467058834309120.0000\n",
      "Epoch 62/100\n",
      "4/4 [==============================] - 0s 11ms/step - loss: 953636877498318848.0000 - val_loss: 924178487089037312.0000\n",
      "Epoch 63/100\n",
      "4/4 [==============================] - 0s 11ms/step - loss: 938372632447811584.0000 - val_loss: 909175719647510528.0000\n",
      "Epoch 64/100\n",
      "4/4 [==============================] - 0s 10ms/step - loss: 922947034065928192.0000 - val_loss: 894599700156514304.0000\n",
      "Epoch 65/100\n",
      "4/4 [==============================] - 0s 9ms/step - loss: 908176675894722560.0000 - val_loss: 880275743706185728.0000\n",
      "Epoch 66/100\n",
      "4/4 [==============================] - 0s 10ms/step - loss: 893378623774392320.0000 - val_loss: 866075894630842368.0000\n",
      "Epoch 67/100\n",
      "4/4 [==============================] - 0s 10ms/step - loss: 879133282405449728.0000 - val_loss: 851942016253165568.0000\n",
      "Epoch 68/100\n",
      "4/4 [==============================] - 0s 11ms/step - loss: 864676010170253312.0000 - val_loss: 837942072135647232.0000\n",
      "Epoch 69/100\n",
      "4/4 [==============================] - 0s 10ms/step - loss: 850600543347802112.0000 - val_loss: 824191236121296896.0000\n",
      "Epoch 70/100\n",
      "4/4 [==============================] - 0s 12ms/step - loss: 836635508724465664.0000 - val_loss: 810834300147597312.0000\n",
      "Epoch 71/100\n",
      "4/4 [==============================] - 0s 10ms/step - loss: 823409345914994688.0000 - val_loss: 797613978493648896.0000\n",
      "Epoch 72/100\n",
      "4/4 [==============================] - 0s 10ms/step - loss: 809693694272733184.0000 - val_loss: 784730107397799936.0000\n",
      "Epoch 73/100\n",
      "4/4 [==============================] - 0s 10ms/step - loss: 796429667031580672.0000 - val_loss: 772020783772860416.0000\n",
      "Epoch 74/100\n",
      "4/4 [==============================] - 0s 9ms/step - loss: 783753053877567488.0000 - val_loss: 759387395169714176.0000\n",
      "Epoch 75/100\n",
      "4/4 [==============================] - 0s 11ms/step - loss: 770870763329683456.0000 - val_loss: 747072521341239296.0000\n",
      "Epoch 76/100\n",
      "4/4 [==============================] - 0s 10ms/step - loss: 758505174527377408.0000 - val_loss: 734795786822352896.0000\n",
      "Epoch 77/100\n",
      "4/4 [==============================] - 0s 10ms/step - loss: 745845191486734336.0000 - val_loss: 722852341765636096.0000\n",
      "Epoch 78/100\n",
      "4/4 [==============================] - 0s 10ms/step - loss: 733788290573926400.0000 - val_loss: 711097394233606144.0000\n",
      "Epoch 79/100\n",
      "4/4 [==============================] - 0s 10ms/step - loss: 721967922100043776.0000 - val_loss: 699439547322204160.0000\n",
      "Epoch 80/100\n",
      "4/4 [==============================] - 0s 12ms/step - loss: 710244035771498496.0000 - val_loss: 688120556150587392.0000\n",
      "Epoch 81/100\n",
      "4/4 [==============================] - 0s 10ms/step - loss: 699064132820795392.0000 - val_loss: 676993361038540800.0000\n",
      "Epoch 82/100\n",
      "4/4 [==============================] - 0s 9ms/step - loss: 687747478111387648.0000 - val_loss: 666362732865388544.0000\n",
      "Epoch 83/100\n",
      "4/4 [==============================] - 0s 11ms/step - loss: 676465458018254848.0000 - val_loss: 655994475654414336.0000\n",
      "Epoch 84/100\n",
      "4/4 [==============================] - 0s 10ms/step - loss: 666146197794193408.0000 - val_loss: 645507058870779904.0000\n",
      "Epoch 85/100\n",
      "4/4 [==============================] - 0s 10ms/step - loss: 655230383792586752.0000 - val_loss: 635165945853116416.0000\n",
      "Epoch 86/100\n",
      "4/4 [==============================] - 0s 10ms/step - loss: 644855392072892416.0000 - val_loss: 624770750607261696.0000\n",
      "Epoch 87/100\n",
      "4/4 [==============================] - 0s 10ms/step - loss: 634339525425889280.0000 - val_loss: 614505229014007808.0000\n",
      "Epoch 88/100\n",
      "4/4 [==============================] - 0s 10ms/step - loss: 623491400108867584.0000 - val_loss: 604509362647465984.0000\n",
      "Epoch 89/100\n",
      "4/4 [==============================] - 0s 10ms/step - loss: 613601705333882880.0000 - val_loss: 594418594683551744.0000\n",
      "Epoch 90/100\n",
      "4/4 [==============================] - 0s 12ms/step - loss: 603368619333648384.0000 - val_loss: 584609851452162048.0000\n",
      "Epoch 91/100\n",
      "4/4 [==============================] - 0s 9ms/step - loss: 593361689131352064.0000 - val_loss: 575098732274515968.0000\n",
      "Epoch 92/100\n",
      "4/4 [==============================] - 0s 11ms/step - loss: 583919770466779136.0000 - val_loss: 565748382312693760.0000\n",
      "Epoch 93/100\n",
      "4/4 [==============================] - 0s 10ms/step - loss: 574596152381407232.0000 - val_loss: 556646487619010560.0000\n",
      "Epoch 94/100\n",
      "4/4 [==============================] - 0s 10ms/step - loss: 565059744436322304.0000 - val_loss: 547799851421663232.0000\n",
      "Epoch 95/100\n",
      "4/4 [==============================] - 0s 10ms/step - loss: 556286088323268608.0000 - val_loss: 538992110448148480.0000\n",
      "Epoch 96/100\n",
      "4/4 [==============================] - 0s 10ms/step - loss: 547085615540207616.0000 - val_loss: 530429423128674304.0000\n",
      "Epoch 97/100\n",
      "4/4 [==============================] - 0s 9ms/step - loss: 538562098322472960.0000 - val_loss: 521894361038848000.0000\n",
      "Epoch 98/100\n",
      "4/4 [==============================] - 0s 10ms/step - loss: 529997143260266496.0000 - val_loss: 513566316372688896.0000\n",
      "Epoch 99/100\n",
      "4/4 [==============================] - 0s 12ms/step - loss: 521495203958226944.0000 - val_loss: 505338155465965568.0000\n",
      "Epoch 100/100\n",
      "4/4 [==============================] - 0s 10ms/step - loss: 512940556817530880.0000 - val_loss: 497284026634076160.0000\n"
     ]
    }
   ],
   "source": [
    "r = model.fit(x_train, y_train, validation_data= (x_test, y_test), epochs = 100)"
   ]
  },
  {
   "cell_type": "markdown",
   "metadata": {},
   "source": [
    "#### Evaluating our model"
   ]
  },
  {
   "cell_type": "code",
   "execution_count": 70,
   "metadata": {
    "colab": {
     "base_uri": "https://localhost:8080/",
     "height": 293
    },
    "colab_type": "code",
    "executionInfo": {
     "elapsed": 990,
     "status": "ok",
     "timestamp": 1591742524810,
     "user": {
      "displayName": "Adarsh Pachori",
      "photoUrl": "",
      "userId": "06453457984377806328"
     },
     "user_tz": 420
    },
    "id": "QkqiD1L_PJlj",
    "outputId": "5bc27e26-e376-428c-d3ea-873b91b26f79"
   },
   "outputs": [
    {
     "data": {
      "text/plain": [
       "[<matplotlib.lines.Line2D at 0x7f4edf011198>]"
      ]
     },
     "execution_count": 70,
     "metadata": {
      "tags": []
     },
     "output_type": "execute_result"
    },
    {
     "data": {
      "image/png": "[encoded data removed]",
      "text/plain": [
       "<Figure size 432x288 with 1 Axes>"
      ]
     },
     "metadata": {
      "needs_background": "light",
      "tags": []
     },
     "output_type": "display_data"
    }
   ],
   "source": [
    "plt.plot(r.history['loss'])\n",
    "plt.plot(r.history['val_loss'])"
   ]
  },
  {
   "cell_type": "markdown",
   "metadata": {},
   "source": [
    "#### Retraining model with Learning Rate callback"
   ]
  },
  {
   "cell_type": "code",
   "execution_count": 71,
   "metadata": {
    "colab": {
     "base_uri": "https://localhost:8080/",
     "height": 1000
    },
    "colab_type": "code",
    "executionInfo": {
     "elapsed": 5118,
     "status": "ok",
     "timestamp": 1591743237065,
     "user": {
      "displayName": "Adarsh Pachori",
      "photoUrl": "",
      "userId": "06453457984377806328"
     },
     "user_tz": 420
    },
    "id": "O_2PX0RUPUFw",
    "outputId": "5d254e41-bccb-40dc-f333-0990894e13ba"
   },
   "outputs": [
    {
     "name": "stdout",
     "output_type": "stream",
     "text": [
      "Epoch 1/100\n",
      "4/4 [==============================] - 0s 10ms/step - loss: 501580265240395776.0000 - val_loss: 473344394322247680.0000 - lr: 0.0010\n",
      "Epoch 2/100\n",
      "4/4 [==============================] - 0s 9ms/step - loss: 471022775520198656.0000 - val_loss: 432011725009584128.0000 - lr: 0.0010\n",
      "Epoch 3/100\n",
      "4/4 [==============================] - 0s 9ms/step - loss: 426205719499374592.0000 - val_loss: 382687667747291136.0000 - lr: 0.0010\n",
      "Epoch 4/100\n",
      "4/4 [==============================] - 0s 10ms/step - loss: 374464179764985856.0000 - val_loss: 332886388078804992.0000 - lr: 0.0010\n",
      "Epoch 5/100\n",
      "4/4 [==============================] - 0s 11ms/step - loss: 324597891471507456.0000 - val_loss: 284517531543142400.0000 - lr: 0.0010\n",
      "Epoch 6/100\n",
      "4/4 [==============================] - 0s 11ms/step - loss: 276293631243976704.0000 - val_loss: 240105233240293376.0000 - lr: 0.0010\n",
      "Epoch 7/100\n",
      "4/4 [==============================] - 0s 9ms/step - loss: 232157499338260480.0000 - val_loss: 200651405961199616.0000 - lr: 0.0010\n",
      "Epoch 8/100\n",
      "4/4 [==============================] - 0s 11ms/step - loss: 192087361432059904.0000 - val_loss: 166357535211651072.0000 - lr: 0.0010\n",
      "Epoch 9/100\n",
      "4/4 [==============================] - 0s 9ms/step - loss: 159192773847678976.0000 - val_loss: 136621423627075584.0000 - lr: 0.0010\n",
      "Epoch 10/100\n",
      "4/4 [==============================] - 0s 10ms/step - loss: 131414557464723456.0000 - val_loss: 111381687534878720.0000 - lr: 0.0010\n",
      "Epoch 11/100\n",
      "4/4 [==============================] - 0s 10ms/step - loss: 106390883997319168.0000 - val_loss: 91058357556740096.0000 - lr: 0.0010\n",
      "Epoch 12/100\n",
      "4/4 [==============================] - 0s 11ms/step - loss: 87377690843152384.0000 - val_loss: 74126789022056448.0000 - lr: 0.0010\n",
      "Epoch 13/100\n",
      "4/4 [==============================] - 0s 10ms/step - loss: 71040270904328192.0000 - val_loss: 60336465078386688.0000 - lr: 0.0010\n",
      "Epoch 14/100\n",
      "4/4 [==============================] - 0s 12ms/step - loss: 57373762277867520.0000 - val_loss: 49226136302911488.0000 - lr: 0.0010\n",
      "Epoch 15/100\n",
      "4/4 [==============================] - 0s 10ms/step - loss: 47376276708655104.0000 - val_loss: 39987111893401600.0000 - lr: 0.0010\n",
      "Epoch 16/100\n",
      "4/4 [==============================] - 0s 10ms/step - loss: 38257073296769024.0000 - val_loss: 32508317553131520.0000 - lr: 0.0010\n",
      "Epoch 17/100\n",
      "4/4 [==============================] - 0s 10ms/step - loss: 31192509224845312.0000 - val_loss: 26331669250179072.0000 - lr: 0.0010\n",
      "Epoch 18/100\n",
      "4/4 [==============================] - 0s 10ms/step - loss: 25190498587115520.0000 - val_loss: 21360300439633920.0000 - lr: 0.0010\n",
      "Epoch 19/100\n",
      "4/4 [==============================] - 0s 10ms/step - loss: 20481412691918848.0000 - val_loss: 17306562129297408.0000 - lr: 0.0010\n",
      "Epoch 20/100\n",
      "4/4 [==============================] - 0s 10ms/step - loss: 16571537532387328.0000 - val_loss: 14005347186376704.0000 - lr: 0.0010\n",
      "Epoch 21/100\n",
      "4/4 [==============================] - 0s 10ms/step - loss: 13397714540691456.0000 - val_loss: 11347157567143936.0000 - lr: 0.0010\n",
      "Epoch 22/100\n",
      "4/4 [==============================] - 0s 9ms/step - loss: 10824651173265408.0000 - val_loss: 9186286506082304.0000 - lr: 0.0010\n",
      "Epoch 23/100\n",
      "4/4 [==============================] - 0s 10ms/step - loss: 8840375208771584.0000 - val_loss: 7417257122594816.0000 - lr: 0.0010\n",
      "Epoch 24/100\n",
      "4/4 [==============================] - 0s 11ms/step - loss: 7123299360309248.0000 - val_loss: 6008282363723776.0000 - lr: 0.0010\n",
      "Epoch 25/100\n",
      "4/4 [==============================] - 0s 10ms/step - loss: 5735697969315840.0000 - val_loss: 4880840026750976.0000 - lr: 0.0010\n",
      "Epoch 26/100\n",
      "4/4 [==============================] - 0s 10ms/step - loss: 4668103854129152.0000 - val_loss: 3950660437409792.0000 - lr: 0.0010\n",
      "Epoch 27/100\n",
      "4/4 [==============================] - 0s 10ms/step - loss: 3774280357642240.0000 - val_loss: 3195678738087936.0000 - lr: 0.0010\n",
      "Epoch 28/100\n",
      "4/4 [==============================] - 0s 10ms/step - loss: 3048602683310080.0000 - val_loss: 2589290022305792.0000 - lr: 0.0010\n",
      "Epoch 29/100\n",
      "4/4 [==============================] - 0s 11ms/step - loss: 2477400755535872.0000 - val_loss: 2097970996576256.0000 - lr: 0.0010\n",
      "Epoch 30/100\n",
      "4/4 [==============================] - 0s 10ms/step - loss: 2009624995692544.0000 - val_loss: 1702783405260800.0000 - lr: 0.0010\n",
      "Epoch 31/100\n",
      "4/4 [==============================] - 0s 10ms/step - loss: 1631545869729792.0000 - val_loss: 1382072425906176.0000 - lr: 0.0010\n",
      "Epoch 32/100\n",
      "4/4 [==============================] - 0s 9ms/step - loss: 1325833318825984.0000 - val_loss: 1122711698931712.0000 - lr: 0.0010\n",
      "Epoch 33/100\n",
      "4/4 [==============================] - 0s 11ms/step - loss: 1072341664661504.0000 - val_loss: 913252921901056.0000 - lr: 0.0010\n",
      "Epoch 34/100\n",
      "4/4 [==============================] - 0s 10ms/step - loss: 870163461177344.0000 - val_loss: 740952322867200.0000 - lr: 0.0010\n",
      "Epoch 35/100\n",
      "4/4 [==============================] - 0s 10ms/step - loss: 707054696136704.0000 - val_loss: 600925114728448.0000 - lr: 0.0010\n",
      "Epoch 36/100\n",
      "4/4 [==============================] - 0s 10ms/step - loss: 573310219845632.0000 - val_loss: 487614314446848.0000 - lr: 0.0010\n",
      "Epoch 37/100\n",
      "4/4 [==============================] - 0s 10ms/step - loss: 466365936828416.0000 - val_loss: 395043709911040.0000 - lr: 0.0010\n",
      "Epoch 38/100\n",
      "4/4 [==============================] - 0s 10ms/step - loss: 377482494607360.0000 - val_loss: 320321848606720.0000 - lr: 0.0010\n",
      "Epoch 39/100\n",
      "4/4 [==============================] - 0s 10ms/step - loss: 306039874387968.0000 - val_loss: 259673689161728.0000 - lr: 0.0010\n",
      "Epoch 40/100\n",
      "4/4 [==============================] - 0s 10ms/step - loss: 247436186484736.0000 - val_loss: 210273025654784.0000 - lr: 0.0010\n",
      "Epoch 41/100\n",
      "4/4 [==============================] - 0s 11ms/step - loss: 199922422906880.0000 - val_loss: 170097599578112.0000 - lr: 0.0010\n",
      "Epoch 42/100\n",
      "4/4 [==============================] - 0s 10ms/step - loss: 161635037609984.0000 - val_loss: 137575822000128.0000 - lr: 0.0010\n",
      "Epoch 43/100\n",
      "4/4 [==============================] - 0s 12ms/step - loss: 131443766329344.0000 - val_loss: 110950430539776.0000 - lr: 0.0010\n",
      "Epoch 44/100\n",
      "4/4 [==============================] - 0s 10ms/step - loss: 105551329492992.0000 - val_loss: 89622780575744.0000 - lr: 0.0010\n",
      "Epoch 45/100\n",
      "4/4 [==============================] - 0s 10ms/step - loss: 85386088939520.0000 - val_loss: 72428071944192.0000 - lr: 0.0010\n",
      "Epoch 46/100\n",
      "4/4 [==============================] - 0s 9ms/step - loss: 68965980176384.0000 - val_loss: 58525740957696.0000 - lr: 0.0010\n",
      "Epoch 47/100\n",
      "4/4 [==============================] - 0s 10ms/step - loss: 56183293476864.0000 - val_loss: 47319831543808.0000 - lr: 0.0010\n",
      "Epoch 48/100\n",
      "4/4 [==============================] - 0s 10ms/step - loss: 45165792198656.0000 - val_loss: 38370914861056.0000 - lr: 0.0010\n",
      "Epoch 49/100\n",
      "4/4 [==============================] - 0s 10ms/step - loss: 36557616578560.0000 - val_loss: 31147828445184.0000 - lr: 0.0010\n",
      "Epoch 50/100\n",
      "4/4 [==============================] - 0s 10ms/step - loss: 29703272398848.0000 - val_loss: 25281538555904.0000 - lr: 0.0010\n",
      "Epoch 51/100\n",
      "4/4 [==============================] - 0s 11ms/step - loss: 23940103667712.0000 - val_loss: 20475208007680.0000 - lr: 0.0010\n",
      "Epoch 52/100\n",
      "4/4 [==============================] - 0s 10ms/step - loss: 19567594176512.0000 - val_loss: 17084005220352.0000 - lr: 1.0000e-04\n",
      "Epoch 53/100\n",
      "4/4 [==============================] - 0s 12ms/step - loss: 16645642780672.0000 - val_loss: 14934306979840.0000 - lr: 1.0000e-04\n",
      "Epoch 54/100\n",
      "4/4 [==============================] - 0s 10ms/step - loss: 14697962143744.0000 - val_loss: 13524901298176.0000 - lr: 1.0000e-04\n",
      "Epoch 55/100\n",
      "4/4 [==============================] - 0s 9ms/step - loss: 13446812794880.0000 - val_loss: 12567098425344.0000 - lr: 1.0000e-04\n",
      "Epoch 56/100\n",
      "4/4 [==============================] - 0s 11ms/step - loss: 12543321964544.0000 - val_loss: 11894509273088.0000 - lr: 1.0000e-04\n",
      "Epoch 57/100\n",
      "4/4 [==============================] - 0s 11ms/step - loss: 11926385983488.0000 - val_loss: 11394575499264.0000 - lr: 1.0000e-04\n",
      "Epoch 58/100\n",
      "4/4 [==============================] - 0s 10ms/step - loss: 11478542319616.0000 - val_loss: 11007926730752.0000 - lr: 1.0000e-04\n",
      "Epoch 59/100\n",
      "4/4 [==============================] - 0s 10ms/step - loss: 11104624312320.0000 - val_loss: 10700103614464.0000 - lr: 1.0000e-04\n",
      "Epoch 60/100\n",
      "4/4 [==============================] - 0s 10ms/step - loss: 10804728430592.0000 - val_loss: 10443901894656.0000 - lr: 1.0000e-04\n",
      "Epoch 61/100\n",
      "4/4 [==============================] - 0s 9ms/step - loss: 10561115914240.0000 - val_loss: 10219199397888.0000 - lr: 1.0000e-04\n",
      "Epoch 62/100\n",
      "4/4 [==============================] - 0s 13ms/step - loss: 10330611646464.0000 - val_loss: 10018160115712.0000 - lr: 1.0000e-04\n",
      "Epoch 63/100\n",
      "4/4 [==============================] - 0s 10ms/step - loss: 10134530031616.0000 - val_loss: 9830063407104.0000 - lr: 1.0000e-04\n",
      "Epoch 64/100\n",
      "4/4 [==============================] - 0s 10ms/step - loss: 9953658011648.0000 - val_loss: 9651390251008.0000 - lr: 1.0000e-04\n",
      "Epoch 65/100\n",
      "4/4 [==============================] - 0s 10ms/step - loss: 9773330202624.0000 - val_loss: 9485306298368.0000 - lr: 1.0000e-04\n",
      "Epoch 66/100\n",
      "4/4 [==============================] - 0s 10ms/step - loss: 9602730033152.0000 - val_loss: 9326282407936.0000 - lr: 1.0000e-04\n",
      "Epoch 67/100\n",
      "4/4 [==============================] - 0s 11ms/step - loss: 9444043784192.0000 - val_loss: 9171772637184.0000 - lr: 1.0000e-04\n",
      "Epoch 68/100\n",
      "4/4 [==============================] - 0s 10ms/step - loss: 9282764406784.0000 - val_loss: 9022470094848.0000 - lr: 1.0000e-04\n",
      "Epoch 69/100\n",
      "4/4 [==============================] - 0s 10ms/step - loss: 9138902925312.0000 - val_loss: 8874253877248.0000 - lr: 1.0000e-04\n",
      "Epoch 70/100\n",
      "4/4 [==============================] - 0s 10ms/step - loss: 8986884571136.0000 - val_loss: 8732705030144.0000 - lr: 1.0000e-04\n",
      "Epoch 71/100\n",
      "4/4 [==============================] - 0s 10ms/step - loss: 8846038794240.0000 - val_loss: 8591851913216.0000 - lr: 1.0000e-04\n",
      "Epoch 72/100\n",
      "4/4 [==============================] - 0s 11ms/step - loss: 8700460269568.0000 - val_loss: 8453203427328.0000 - lr: 1.0000e-04\n",
      "Epoch 73/100\n",
      "4/4 [==============================] - 0s 11ms/step - loss: 8558417018880.0000 - val_loss: 8316348006400.0000 - lr: 1.0000e-04\n",
      "Epoch 74/100\n",
      "4/4 [==============================] - 0s 10ms/step - loss: 8426014900224.0000 - val_loss: 8181574533120.0000 - lr: 1.0000e-04\n",
      "Epoch 75/100\n",
      "4/4 [==============================] - 0s 10ms/step - loss: 8286952226816.0000 - val_loss: 8051463553024.0000 - lr: 1.0000e-04\n",
      "Epoch 76/100\n",
      "4/4 [==============================] - 0s 10ms/step - loss: 8152347049984.0000 - val_loss: 7924663451648.0000 - lr: 1.0000e-04\n",
      "Epoch 77/100\n",
      "4/4 [==============================] - 0s 10ms/step - loss: 8020553629696.0000 - val_loss: 7799217061888.0000 - lr: 1.0000e-04\n",
      "Epoch 78/100\n",
      "4/4 [==============================] - 0s 10ms/step - loss: 7898512490496.0000 - val_loss: 7671696588800.0000 - lr: 1.0000e-04\n",
      "Epoch 79/100\n",
      "4/4 [==============================] - 0s 10ms/step - loss: 7768670994432.0000 - val_loss: 7548985409536.0000 - lr: 1.0000e-04\n",
      "Epoch 80/100\n",
      "4/4 [==============================] - 0s 10ms/step - loss: 7644665872384.0000 - val_loss: 7428458938368.0000 - lr: 1.0000e-04\n",
      "Epoch 81/100\n",
      "4/4 [==============================] - 0s 12ms/step - loss: 7521883914240.0000 - val_loss: 7309974568960.0000 - lr: 1.0000e-04\n",
      "Epoch 82/100\n",
      "4/4 [==============================] - 0s 10ms/step - loss: 7405306380288.0000 - val_loss: 7192180162560.0000 - lr: 1.0000e-04\n",
      "Epoch 83/100\n",
      "4/4 [==============================] - 0s 10ms/step - loss: 7285003780096.0000 - val_loss: 7078199427072.0000 - lr: 1.0000e-04\n",
      "Epoch 84/100\n",
      "4/4 [==============================] - 0s 10ms/step - loss: 7167715835904.0000 - val_loss: 6965544091648.0000 - lr: 1.0000e-04\n",
      "Epoch 85/100\n",
      "4/4 [==============================] - 0s 10ms/step - loss: 7052671844352.0000 - val_loss: 6853491687424.0000 - lr: 1.0000e-04\n",
      "Epoch 86/100\n",
      "4/4 [==============================] - 0s 10ms/step - loss: 6939946254336.0000 - val_loss: 6742218375168.0000 - lr: 1.0000e-04\n",
      "Epoch 87/100\n",
      "4/4 [==============================] - 0s 10ms/step - loss: 6827287248896.0000 - val_loss: 6632959901696.0000 - lr: 1.0000e-04\n",
      "Epoch 88/100\n",
      "4/4 [==============================] - 0s 10ms/step - loss: 6715930574848.0000 - val_loss: 6525445734400.0000 - lr: 1.0000e-04\n",
      "Epoch 89/100\n",
      "4/4 [==============================] - 0s 11ms/step - loss: 6606296186880.0000 - val_loss: 6419989921792.0000 - lr: 1.0000e-04\n",
      "Epoch 90/100\n",
      "4/4 [==============================] - 0s 10ms/step - loss: 6501832327168.0000 - val_loss: 6314857070592.0000 - lr: 1.0000e-04\n",
      "Epoch 91/100\n",
      "4/4 [==============================] - 0s 12ms/step - loss: 6396687417344.0000 - val_loss: 6211344269312.0000 - lr: 1.0000e-04\n",
      "Epoch 92/100\n",
      "4/4 [==============================] - 0s 10ms/step - loss: 6294795714560.0000 - val_loss: 6110177656832.0000 - lr: 1.0000e-04\n",
      "Epoch 93/100\n",
      "4/4 [==============================] - 0s 10ms/step - loss: 6191257747456.0000 - val_loss: 6013191192576.0000 - lr: 1.0000e-04\n",
      "Epoch 94/100\n",
      "4/4 [==============================] - 0s 9ms/step - loss: 6092358156288.0000 - val_loss: 5917731454976.0000 - lr: 1.0000e-04\n",
      "Epoch 95/100\n",
      "4/4 [==============================] - 0s 11ms/step - loss: 5992747106304.0000 - val_loss: 5823807356928.0000 - lr: 1.0000e-04\n",
      "Epoch 96/100\n",
      "4/4 [==============================] - 0s 10ms/step - loss: 5900174622720.0000 - val_loss: 5729875918848.0000 - lr: 1.0000e-04\n",
      "Epoch 97/100\n",
      "4/4 [==============================] - 0s 10ms/step - loss: 5806464958464.0000 - val_loss: 5638593183744.0000 - lr: 1.0000e-04\n",
      "Epoch 98/100\n",
      "4/4 [==============================] - 0s 10ms/step - loss: 5711775399936.0000 - val_loss: 5550635483136.0000 - lr: 1.0000e-04\n",
      "Epoch 99/100\n",
      "4/4 [==============================] - 0s 10ms/step - loss: 5621292204032.0000 - val_loss: 5463564353536.0000 - lr: 1.0000e-04\n",
      "Epoch 100/100\n",
      "4/4 [==============================] - 0s 10ms/step - loss: 5532986900480.0000 - val_loss: 5376613285888.0000 - lr: 1.0000e-04\n"
     ]
    },
    {
     "data": {
      "text/plain": [
       "<tensorflow.python.keras.callbacks.History at 0x7f4edf8a16d8>"
      ]
     },
     "execution_count": 71,
     "metadata": {
      "tags": []
     },
     "output_type": "execute_result"
    }
   ],
   "source": [
    "def calendar(epoch):\n",
    "  if epoch >50:\n",
    "    return 0.0001\n",
    "  return 0.001\n",
    "calendar = tf.keras.callbacks.LearningRateScheduler(calendar)\n",
    "model.fit(x_train, y_train, validation_data = (x_test, y_test), epochs = 100, callbacks=[calendar])"
   ]
  },
  {
   "cell_type": "markdown",
   "metadata": {},
   "source": [
    "#### Additional Info"
   ]
  },
  {
   "cell_type": "code",
   "execution_count": 74,
   "metadata": {
    "colab": {
     "base_uri": "https://localhost:8080/",
     "height": 51
    },
    "colab_type": "code",
    "executionInfo": {
     "elapsed": 545,
     "status": "ok",
     "timestamp": 1591743752942,
     "user": {
      "displayName": "Adarsh Pachori",
      "photoUrl": "",
      "userId": "06453457984377806328"
     },
     "user_tz": 420
    },
    "id": "LgmE7OZaSjdh",
    "outputId": "8bb43795-ac02-47f5-d978-43f300ce643d"
   },
   "outputs": [
    {
     "name": "stdout",
     "output_type": "stream",
     "text": [
      "[array([[1676515.2]], dtype=float32), array([1631688.6], dtype=float32)]\n"
     ]
    },
    {
     "data": {
      "text/plain": [
       "1"
      ]
     },
     "execution_count": 74,
     "metadata": {
      "tags": []
     },
     "output_type": "execute_result"
    }
   ],
   "source": [
    "print(model.layers[0].get_weights())\n",
    "layer = model.layers[0]"
   ]
  }
 ],
 "metadata": {
  "colab": {
   "authorship_tag": "ABX9TyMqSUCjTfuX1ZPbWGLa8uAW",
   "name": "LinearRegression.ipynb",
   "provenance": []
  },
  "kernelspec": {
   "display_name": "Python 3",
   "language": "python",
   "name": "python3"
  },
  "language_info": {
   "codemirror_mode": {
    "name": "ipython",
    "version": 3
   },
   "file_extension": ".py",
   "mimetype": "text/x-python",
   "name": "python",
   "nbconvert_exporter": "python",
   "pygments_lexer": "ipython3",
   "version": "3.7.6"
  }
 },
 "nbformat": 4,
 "nbformat_minor": 4
}
