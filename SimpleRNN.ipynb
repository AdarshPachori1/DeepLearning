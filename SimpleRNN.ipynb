{
 "cells": [
  {
   "cell_type": "markdown",
   "metadata": {
    "colab_type": "text",
    "id": "-Y_8C6XZMs8z"
   },
   "source": [
    "## SimpleRNN\n",
    "#### Forecasting points of a noisy sin wave using a simple recurrent neural network"
   ]
  },
  {
   "cell_type": "code",
   "execution_count": null,
   "metadata": {
    "colab": {},
    "colab_type": "code",
    "id": "O4m8cXBj_hnB"
   },
   "outputs": [],
   "source": [
    "import tensorflow as tf\n",
    "import numpy as np\n",
    "import pandas as pd\n",
    "import matplotlib.pyplot as plt"
   ]
  },
  {
   "cell_type": "markdown",
   "metadata": {},
   "source": [
    "#### Creating and reshaping the data"
   ]
  },
  {
   "cell_type": "code",
   "execution_count": null,
   "metadata": {
    "colab": {},
    "colab_type": "code",
    "id": "KaS576Q8_nKo"
   },
   "outputs": [],
   "source": [
    "X = np.sin(0.1*np.arange(200)) + 0.01*np.random.randn(200)"
   ]
  },
  {
   "cell_type": "code",
   "execution_count": null,
   "metadata": {
    "colab": {},
    "colab_type": "code",
    "id": "-58ddvrB_vXe"
   },
   "outputs": [],
   "source": [
    "D = 10\n",
    "x = []\n",
    "y = []\n",
    "for i in range(len(X)-D):\n",
    "  x.append(X[i:i+D])\n",
    "  y.append(X[i+D])"
   ]
  },
  {
   "cell_type": "code",
   "execution_count": 86,
   "metadata": {
    "colab": {
     "base_uri": "https://localhost:8080/",
     "height": 51
    },
    "colab_type": "code",
    "executionInfo": {
     "elapsed": 1409,
     "status": "ok",
     "timestamp": 1591993683659,
     "user": {
      "displayName": "Adarsh Pachori",
      "photoUrl": "",
      "userId": "06453457984377806328"
     },
     "user_tz": 420
    },
    "id": "a8HeQ14qARy2",
    "outputId": "23bba75b-2c5c-4753-b342-b1a61fcafe6c"
   },
   "outputs": [
    {
     "name": "stdout",
     "output_type": "stream",
     "text": [
      "(190, 10)\n",
      "(190,)\n"
     ]
    }
   ],
   "source": [
    "x = np.array(x)\n",
    "y = np.array(y)\n",
    "print(x.shape)\n",
    "print(y.shape)"
   ]
  },
  {
   "cell_type": "code",
   "execution_count": null,
   "metadata": {
    "colab": {},
    "colab_type": "code",
    "id": "PLgV4hQ9BbhB"
   },
   "outputs": [],
   "source": [
    "x = x.reshape(-1,D,1)"
   ]
  },
  {
   "cell_type": "code",
   "execution_count": null,
   "metadata": {
    "colab": {},
    "colab_type": "code",
    "id": "5d8gihiaAS4g"
   },
   "outputs": [],
   "source": [
    "N = len(x)\n",
    "x_train = x[:-N//2]\n",
    "x_test = x[-N//2:]\n",
    "y_train = y[:-N//2]\n",
    "y_test = y[-N//2:]\n"
   ]
  },
  {
   "cell_type": "code",
   "execution_count": 89,
   "metadata": {
    "colab": {
     "base_uri": "https://localhost:8080/",
     "height": 34
    },
    "colab_type": "code",
    "executionInfo": {
     "elapsed": 1263,
     "status": "ok",
     "timestamp": 1591993684017,
     "user": {
      "displayName": "Adarsh Pachori",
      "photoUrl": "",
      "userId": "06453457984377806328"
     },
     "user_tz": 420
    },
    "id": "bNCgo3loDJpr",
    "outputId": "eb7bd663-a3a7-4ac7-845b-3025c6929b5e"
   },
   "outputs": [
    {
     "name": "stdout",
     "output_type": "stream",
     "text": [
      "(95, 10, 1)\n"
     ]
    }
   ],
   "source": [
    "print(x_train.shape)"
   ]
  },
  {
   "cell_type": "markdown",
   "metadata": {},
   "source": [
    "#### Building and training the model"
   ]
  },
  {
   "cell_type": "code",
   "execution_count": null,
   "metadata": {
    "colab": {},
    "colab_type": "code",
    "id": "otCyMJwYAZcY"
   },
   "outputs": [],
   "source": [
    "i = tf.keras.layers.Input(shape=(D,1))\n",
    "x = tf.keras.layers.SimpleRNN(5, activation = None)(i)\n",
    "x = tf.keras.layers.Dense(1)(x)\n",
    "model = tf.keras.models.Model(i, x)"
   ]
  },
  {
   "cell_type": "code",
   "execution_count": null,
   "metadata": {
    "colab": {},
    "colab_type": "code",
    "id": "YbLZC63ACLNW"
   },
   "outputs": [],
   "source": [
    "model.compile(optimizer = tf.keras.optimizers.Adam(0.1), loss = \"mse\")"
   ]
  },
  {
   "cell_type": "code",
   "execution_count": 92,
   "metadata": {
    "colab": {
     "base_uri": "https://localhost:8080/",
     "height": 1000
    },
    "colab_type": "code",
    "executionInfo": {
     "elapsed": 6325,
     "status": "ok",
     "timestamp": 1591993689462,
     "user": {
      "displayName": "Adarsh Pachori",
      "photoUrl": "",
      "userId": "06453457984377806328"
     },
     "user_tz": 420
    },
    "id": "RCrhIDURCZzc",
    "outputId": "2ed80b4d-97d9-430f-8226-9acf1f8a590e"
   },
   "outputs": [
    {
     "name": "stdout",
     "output_type": "stream",
     "text": [
      "Epoch 1/80\n",
      "3/3 [==============================] - 0s 53ms/step - loss: 4.8988 - val_loss: 0.3707\n",
      "Epoch 2/80\n",
      "3/3 [==============================] - 0s 13ms/step - loss: 0.3725 - val_loss: 0.2233\n",
      "Epoch 3/80\n",
      "3/3 [==============================] - 0s 13ms/step - loss: 0.2416 - val_loss: 0.1591\n",
      "Epoch 4/80\n",
      "3/3 [==============================] - 0s 14ms/step - loss: 0.1461 - val_loss: 0.1924\n",
      "Epoch 5/80\n",
      "3/3 [==============================] - 0s 13ms/step - loss: 0.1513 - val_loss: 0.1891\n",
      "Epoch 6/80\n",
      "3/3 [==============================] - 0s 15ms/step - loss: 0.1184 - val_loss: 0.1028\n",
      "Epoch 7/80\n",
      "3/3 [==============================] - 0s 15ms/step - loss: 0.0497 - val_loss: 0.0141\n",
      "Epoch 8/80\n",
      "3/3 [==============================] - 0s 14ms/step - loss: 0.0059 - val_loss: 0.0143\n",
      "Epoch 9/80\n",
      "3/3 [==============================] - 0s 13ms/step - loss: 0.0264 - val_loss: 0.0328\n",
      "Epoch 10/80\n",
      "3/3 [==============================] - 0s 13ms/step - loss: 0.0288 - val_loss: 0.0156\n",
      "Epoch 11/80\n",
      "3/3 [==============================] - 0s 17ms/step - loss: 0.0139 - val_loss: 0.0127\n",
      "Epoch 12/80\n",
      "3/3 [==============================] - 0s 13ms/step - loss: 0.0141 - val_loss: 0.0054\n",
      "Epoch 13/80\n",
      "3/3 [==============================] - 0s 13ms/step - loss: 0.0037 - val_loss: 0.0049\n",
      "Epoch 14/80\n",
      "3/3 [==============================] - 0s 16ms/step - loss: 0.0045 - val_loss: 0.0052\n",
      "Epoch 15/80\n",
      "3/3 [==============================] - 0s 13ms/step - loss: 0.0056 - val_loss: 0.0044\n",
      "Epoch 16/80\n",
      "3/3 [==============================] - 0s 13ms/step - loss: 0.0040 - val_loss: 0.0056\n",
      "Epoch 17/80\n",
      "3/3 [==============================] - 0s 13ms/step - loss: 0.0034 - val_loss: 0.0031\n",
      "Epoch 18/80\n",
      "3/3 [==============================] - 0s 13ms/step - loss: 0.0027 - val_loss: 0.0035\n",
      "Epoch 19/80\n",
      "3/3 [==============================] - 0s 13ms/step - loss: 0.0019 - val_loss: 0.0018\n",
      "Epoch 20/80\n",
      "3/3 [==============================] - 0s 15ms/step - loss: 0.0013 - val_loss: 0.0021\n",
      "Epoch 21/80\n",
      "3/3 [==============================] - 0s 13ms/step - loss: 0.0016 - val_loss: 0.0024\n",
      "Epoch 22/80\n",
      "3/3 [==============================] - 0s 14ms/step - loss: 0.0016 - val_loss: 0.0018\n",
      "Epoch 23/80\n",
      "3/3 [==============================] - 0s 15ms/step - loss: 0.0013 - val_loss: 0.0017\n",
      "Epoch 24/80\n",
      "3/3 [==============================] - 0s 15ms/step - loss: 0.0012 - val_loss: 0.0017\n",
      "Epoch 25/80\n",
      "3/3 [==============================] - 0s 13ms/step - loss: 0.0011 - val_loss: 0.0015\n",
      "Epoch 26/80\n",
      "3/3 [==============================] - 0s 14ms/step - loss: 0.0010 - val_loss: 0.0014\n",
      "Epoch 27/80\n",
      "3/3 [==============================] - 0s 13ms/step - loss: 9.5325e-04 - val_loss: 0.0014\n",
      "Epoch 28/80\n",
      "3/3 [==============================] - 0s 13ms/step - loss: 9.6754e-04 - val_loss: 0.0014\n",
      "Epoch 29/80\n",
      "3/3 [==============================] - 0s 14ms/step - loss: 9.6150e-04 - val_loss: 0.0014\n",
      "Epoch 30/80\n",
      "3/3 [==============================] - 0s 17ms/step - loss: 9.0598e-04 - val_loss: 0.0013\n",
      "Epoch 31/80\n",
      "3/3 [==============================] - 0s 15ms/step - loss: 8.9308e-04 - val_loss: 0.0013\n",
      "Epoch 32/80\n",
      "3/3 [==============================] - 0s 13ms/step - loss: 8.7614e-04 - val_loss: 0.0013\n",
      "Epoch 33/80\n",
      "3/3 [==============================] - 0s 13ms/step - loss: 8.4206e-04 - val_loss: 0.0013\n",
      "Epoch 34/80\n",
      "3/3 [==============================] - 0s 13ms/step - loss: 8.3443e-04 - val_loss: 0.0013\n",
      "Epoch 35/80\n",
      "3/3 [==============================] - 0s 16ms/step - loss: 8.2923e-04 - val_loss: 0.0013\n",
      "Epoch 36/80\n",
      "3/3 [==============================] - 0s 15ms/step - loss: 8.0857e-04 - val_loss: 0.0012\n",
      "Epoch 37/80\n",
      "3/3 [==============================] - 0s 13ms/step - loss: 7.9042e-04 - val_loss: 0.0012\n",
      "Epoch 38/80\n",
      "3/3 [==============================] - 0s 17ms/step - loss: 7.7863e-04 - val_loss: 0.0012\n",
      "Epoch 39/80\n",
      "3/3 [==============================] - 0s 16ms/step - loss: 7.6964e-04 - val_loss: 0.0012\n",
      "Epoch 40/80\n",
      "3/3 [==============================] - 0s 86ms/step - loss: 7.5175e-04 - val_loss: 0.0012\n",
      "Epoch 41/80\n",
      "3/3 [==============================] - 0s 14ms/step - loss: 7.4657e-04 - val_loss: 0.0012\n",
      "Epoch 42/80\n",
      "3/3 [==============================] - 0s 13ms/step - loss: 7.3554e-04 - val_loss: 0.0012\n",
      "Epoch 43/80\n",
      "3/3 [==============================] - 0s 14ms/step - loss: 7.1413e-04 - val_loss: 0.0011\n",
      "Epoch 44/80\n",
      "3/3 [==============================] - 0s 13ms/step - loss: 7.1605e-04 - val_loss: 0.0011\n",
      "Epoch 45/80\n",
      "3/3 [==============================] - 0s 13ms/step - loss: 7.0181e-04 - val_loss: 0.0011\n",
      "Epoch 46/80\n",
      "3/3 [==============================] - 0s 13ms/step - loss: 6.8689e-04 - val_loss: 0.0011\n",
      "Epoch 47/80\n",
      "3/3 [==============================] - 0s 14ms/step - loss: 6.8897e-04 - val_loss: 0.0011\n",
      "Epoch 48/80\n",
      "3/3 [==============================] - 0s 13ms/step - loss: 6.6916e-04 - val_loss: 0.0011\n",
      "Epoch 49/80\n",
      "3/3 [==============================] - 0s 15ms/step - loss: 6.6357e-04 - val_loss: 0.0011\n",
      "Epoch 50/80\n",
      "3/3 [==============================] - 0s 15ms/step - loss: 6.5655e-04 - val_loss: 0.0011\n",
      "Epoch 51/80\n",
      "3/3 [==============================] - 0s 13ms/step - loss: 6.5236e-04 - val_loss: 0.0011\n",
      "Epoch 52/80\n",
      "3/3 [==============================] - 0s 14ms/step - loss: 6.3815e-04 - val_loss: 0.0010\n",
      "Epoch 53/80\n",
      "3/3 [==============================] - 0s 14ms/step - loss: 6.3135e-04 - val_loss: 0.0010\n",
      "Epoch 54/80\n",
      "3/3 [==============================] - 0s 15ms/step - loss: 6.3443e-04 - val_loss: 0.0010\n",
      "Epoch 55/80\n",
      "3/3 [==============================] - 0s 18ms/step - loss: 6.2006e-04 - val_loss: 0.0010\n",
      "Epoch 56/80\n",
      "3/3 [==============================] - 0s 15ms/step - loss: 6.2996e-04 - val_loss: 0.0010\n",
      "Epoch 57/80\n",
      "3/3 [==============================] - 0s 13ms/step - loss: 6.1040e-04 - val_loss: 9.9581e-04\n",
      "Epoch 58/80\n",
      "3/3 [==============================] - 0s 15ms/step - loss: 6.0011e-04 - val_loss: 9.8840e-04\n",
      "Epoch 59/80\n",
      "3/3 [==============================] - 0s 13ms/step - loss: 6.0004e-04 - val_loss: 9.8080e-04\n",
      "Epoch 60/80\n",
      "3/3 [==============================] - 0s 13ms/step - loss: 5.9955e-04 - val_loss: 9.7071e-04\n",
      "Epoch 61/80\n",
      "3/3 [==============================] - 0s 15ms/step - loss: 5.8650e-04 - val_loss: 9.6562e-04\n",
      "Epoch 62/80\n",
      "3/3 [==============================] - 0s 16ms/step - loss: 5.8586e-04 - val_loss: 9.5870e-04\n",
      "Epoch 63/80\n",
      "3/3 [==============================] - 0s 15ms/step - loss: 5.7545e-04 - val_loss: 9.5050e-04\n",
      "Epoch 64/80\n",
      "3/3 [==============================] - 0s 15ms/step - loss: 5.8246e-04 - val_loss: 9.3844e-04\n",
      "Epoch 65/80\n",
      "3/3 [==============================] - 0s 15ms/step - loss: 5.6264e-04 - val_loss: 9.3164e-04\n",
      "Epoch 66/80\n",
      "3/3 [==============================] - 0s 15ms/step - loss: 5.5491e-04 - val_loss: 9.3577e-04\n",
      "Epoch 67/80\n",
      "3/3 [==============================] - 0s 20ms/step - loss: 5.5327e-04 - val_loss: 9.1364e-04\n",
      "Epoch 68/80\n",
      "3/3 [==============================] - 0s 18ms/step - loss: 5.6624e-04 - val_loss: 9.0878e-04\n",
      "Epoch 69/80\n",
      "3/3 [==============================] - 0s 16ms/step - loss: 5.5373e-04 - val_loss: 9.0371e-04\n",
      "Epoch 70/80\n",
      "3/3 [==============================] - 0s 15ms/step - loss: 5.5313e-04 - val_loss: 9.0620e-04\n",
      "Epoch 71/80\n",
      "3/3 [==============================] - 0s 15ms/step - loss: 5.4345e-04 - val_loss: 8.8409e-04\n",
      "Epoch 72/80\n",
      "3/3 [==============================] - 0s 14ms/step - loss: 5.3564e-04 - val_loss: 8.9142e-04\n",
      "Epoch 73/80\n",
      "3/3 [==============================] - 0s 17ms/step - loss: 5.2827e-04 - val_loss: 8.7090e-04\n",
      "Epoch 74/80\n",
      "3/3 [==============================] - 0s 16ms/step - loss: 5.2280e-04 - val_loss: 8.7454e-04\n",
      "Epoch 75/80\n",
      "3/3 [==============================] - 0s 16ms/step - loss: 5.1813e-04 - val_loss: 8.6160e-04\n",
      "Epoch 76/80\n",
      "3/3 [==============================] - 0s 14ms/step - loss: 5.1423e-04 - val_loss: 8.5457e-04\n",
      "Epoch 77/80\n",
      "3/3 [==============================] - 0s 16ms/step - loss: 5.0564e-04 - val_loss: 8.4369e-04\n",
      "Epoch 78/80\n",
      "3/3 [==============================] - 0s 14ms/step - loss: 5.0685e-04 - val_loss: 8.3808e-04\n",
      "Epoch 79/80\n",
      "3/3 [==============================] - 0s 15ms/step - loss: 4.9704e-04 - val_loss: 8.3463e-04\n",
      "Epoch 80/80\n",
      "3/3 [==============================] - 0s 15ms/step - loss: 4.9440e-04 - val_loss: 8.2716e-04\n"
     ]
    }
   ],
   "source": [
    "r = model.fit(x_train, y_train, epochs = 80, validation_data = (x_test, y_test), batch_size = 32)"
   ]
  },
  {
   "cell_type": "markdown",
   "metadata": {},
   "source": [
    "#### Evaluating the model"
   ]
  },
  {
   "cell_type": "code",
   "execution_count": 93,
   "metadata": {
    "colab": {
     "base_uri": "https://localhost:8080/",
     "height": 282
    },
    "colab_type": "code",
    "executionInfo": {
     "elapsed": 6202,
     "status": "ok",
     "timestamp": 1591993689464,
     "user": {
      "displayName": "Adarsh Pachori",
      "photoUrl": "",
      "userId": "06453457984377806328"
     },
     "user_tz": 420
    },
    "id": "rETY-v8nCtTy",
    "outputId": "14ab83cf-72e9-4361-9dfa-ae18ecd5bbc4"
   },
   "outputs": [
    {
     "data": {
      "text/plain": [
       "<matplotlib.legend.Legend at 0x7f13251c2f60>"
      ]
     },
     "execution_count": 93,
     "metadata": {
      "tags": []
     },
     "output_type": "execute_result"
    },
    {
     "data": {
      "image/png": "[encoded data removed]",
      "text/plain": [
       "<Figure size 432x288 with 1 Axes>"
      ]
     },
     "metadata": {
      "needs_background": "light",
      "tags": []
     },
     "output_type": "display_data"
    }
   ],
   "source": [
    "plt.plot(r.history['loss'], label = \"loss\")\n",
    "plt.plot(r.history['val_loss'], label = \"val_loss\")\n",
    "plt.legend()"
   ]
  },
  {
   "cell_type": "code",
   "execution_count": null,
   "metadata": {
    "colab": {},
    "colab_type": "code",
    "id": "szmWJeynEYwa"
   },
   "outputs": [],
   "source": [
    "predictions = []\n",
    "last_x = x_test[0]\n",
    "for i in range(len(y_test)):\n",
    "  p = model.predict(last_x.reshape(1, D, 1))[0,0]\n",
    "  predictions.append(p)\n",
    "  last_x = np.roll(last_x, -1)\n",
    "  last_x[-1] = p\n"
   ]
  },
  {
   "cell_type": "code",
   "execution_count": 95,
   "metadata": {
    "colab": {
     "base_uri": "https://localhost:8080/",
     "height": 282
    },
    "colab_type": "code",
    "executionInfo": {
     "elapsed": 9080,
     "status": "ok",
     "timestamp": 1591993692529,
     "user": {
      "displayName": "Adarsh Pachori",
      "photoUrl": "",
      "userId": "06453457984377806328"
     },
     "user_tz": 420
    },
    "id": "fBUbDPqiD6-j",
    "outputId": "82c553cc-494f-41ee-fe92-5009b5b3a6a8"
   },
   "outputs": [
    {
     "data": {
      "text/plain": [
       "<matplotlib.legend.Legend at 0x7f1329b18828>"
      ]
     },
     "execution_count": 95,
     "metadata": {
      "tags": []
     },
     "output_type": "execute_result"
    },
    {
     "data": {
      "image/png": "[encoded data removed]",
      "text/plain": [
       "<Figure size 432x288 with 1 Axes>"
      ]
     },
     "metadata": {
      "needs_background": "light",
      "tags": []
     },
     "output_type": "display_data"
    }
   ],
   "source": [
    "plt.plot(y_test, label = \"Actual Values\")\n",
    "plt.plot(predictions, label = \"Forecasted Predictions\")\n",
    "plt.legend()"
   ]
  },
  {
   "cell_type": "markdown",
   "metadata": {
    "colab_type": "text",
    "id": "-mt8KcFsMjEl"
   },
   "source": [
    "The SimpleRNN is performing well in forecasting values!"
   ]
  }
 ],
 "metadata": {
  "colab": {
   "authorship_tag": "ABX9TyO2uz3YEHnQdUb2TvxaGYrd",
   "collapsed_sections": [],
   "name": "SimpleRNN.ipynb",
   "provenance": []
  },
  "kernelspec": {
   "display_name": "Python 3",
   "language": "python",
   "name": "python3"
  },
  "language_info": {
   "codemirror_mode": {
    "name": "ipython",
    "version": 3
   },
   "file_extension": ".py",
   "mimetype": "text/x-python",
   "name": "python",
   "nbconvert_exporter": "python",
   "pygments_lexer": "ipython3",
   "version": "3.7.6"
  }
 },
 "nbformat": 4,
 "nbformat_minor": 4
}
