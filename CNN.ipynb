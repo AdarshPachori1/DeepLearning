{
 "cells": [
  {
   "cell_type": "markdown",
   "metadata": {},
   "source": [
    "## Convolutional Neural Networks\n",
    "#### Training a convolutional neural network to classify images to the particular article of clothing type"
   ]
  },
  {
   "cell_type": "code",
   "execution_count": 4,
   "metadata": {
    "colab": {},
    "colab_type": "code",
    "id": "RS41iG7QNeeI"
   },
   "outputs": [],
   "source": [
    "import tensorflow as tf"
   ]
  },
  {
   "cell_type": "code",
   "execution_count": 6,
   "metadata": {
    "colab": {},
    "colab_type": "code",
    "id": "1N27QSXMNgvr"
   },
   "outputs": [],
   "source": [
    "import numpy as np"
   ]
  },
  {
   "cell_type": "code",
   "execution_count": 5,
   "metadata": {
    "colab": {
     "base_uri": "https://localhost:8080/",
     "height": 153
    },
    "colab_type": "code",
    "executionInfo": {
     "elapsed": 1510,
     "status": "ok",
     "timestamp": 1591842620916,
     "user": {
      "displayName": "Adarsh Pachori",
      "photoUrl": "",
      "userId": "06453457984377806328"
     },
     "user_tz": 420
    },
    "id": "gak7kUhjNh8C",
    "outputId": "1861622d-f7d1-4f93-ead2-6a9ae3ede798"
   },
   "outputs": [],
   "source": [
    "(x_train, y_train), (x_test, y_test) = tf.keras.datasets.fashion_mnist.load_data()"
   ]
  },
  {
   "cell_type": "code",
   "execution_count": 7,
   "metadata": {
    "colab": {
     "base_uri": "https://localhost:8080/",
     "height": 34
    },
    "colab_type": "code",
    "executionInfo": {
     "elapsed": 665,
     "status": "ok",
     "timestamp": 1591842964762,
     "user": {
      "displayName": "Adarsh Pachori",
      "photoUrl": "",
      "userId": "06453457984377806328"
     },
     "user_tz": 420
    },
    "id": "IzT3oMsHNr-i",
    "outputId": "5fb2ef5f-64b2-4363-b3d2-f19292a0211a"
   },
   "outputs": [
    {
     "data": {
      "text/plain": [
       "(60000, 28, 28)"
      ]
     },
     "execution_count": 7,
     "metadata": {},
     "output_type": "execute_result"
    }
   ],
   "source": [
    "x_train.shape"
   ]
  },
  {
   "cell_type": "code",
   "execution_count": 8,
   "metadata": {
    "colab": {
     "base_uri": "https://localhost:8080/",
     "height": 34
    },
    "colab_type": "code",
    "executionInfo": {
     "elapsed": 660,
     "status": "ok",
     "timestamp": 1591843103146,
     "user": {
      "displayName": "Adarsh Pachori",
      "photoUrl": "",
      "userId": "06453457984377806328"
     },
     "user_tz": 420
    },
    "id": "4DQcWjyVPAIU",
    "outputId": "f06f1022-7ac7-493c-c0a7-4b0470b6a50d"
   },
   "outputs": [
    {
     "data": {
      "text/plain": [
       "{0, 1, 2, 3, 4, 5, 6, 7, 8, 9}"
      ]
     },
     "execution_count": 8,
     "metadata": {},
     "output_type": "execute_result"
    }
   ],
   "source": [
    "set(y_train)"
   ]
  },
  {
   "cell_type": "markdown",
   "metadata": {},
   "source": [
    "#### Categories:\n",
    "##### 0-T-shirt/top\n",
    "##### 1-Trouser\n",
    "##### 2-Pullover\n",
    "##### 3-Dress\n",
    "##### 4-Coat\n",
    "##### 5-Sandal\n",
    "##### 6-Shirt\n",
    "##### 7-Sneaker\n",
    "##### 8-Bag\n",
    "##### 9-Ankle boot\n",
    "\n",
    "#### Shaping the data to the appropriate shape for a CNN"
   ]
  },
  {
   "cell_type": "code",
   "execution_count": 9,
   "metadata": {
    "colab": {},
    "colab_type": "code",
    "id": "jZgiub9INul-"
   },
   "outputs": [],
   "source": [
    "x_train = x_train.reshape(60000,28,28,1)"
   ]
  },
  {
   "cell_type": "code",
   "execution_count": 10,
   "metadata": {
    "colab": {},
    "colab_type": "code",
    "id": "QCt8ECJ3N20j"
   },
   "outputs": [],
   "source": [
    "x_test = x_test.reshape(10000,28,28,1)"
   ]
  },
  {
   "cell_type": "markdown",
   "metadata": {},
   "source": [
    "#### Building and training the model"
   ]
  },
  {
   "cell_type": "code",
   "execution_count": 12,
   "metadata": {
    "colab": {},
    "colab_type": "code",
    "id": "n42I5lxzN7XQ"
   },
   "outputs": [],
   "source": [
    "i = tf.keras.layers.Input(shape = x_train[0].shape)\n",
    "x = tf.keras.layers.Conv2D(32,  kernel_size = (3, 3), strides = 2, activation = \"relu\", padding = \"same\")(i)\n",
    "x = tf.keras.layers.Conv2D(64,  kernel_size = (3, 3), strides = 2, activation = \"relu\", padding = \"same\")(x)\n",
    "x = tf.keras.layers.Conv2D(128,  kernel_size = (3, 3), strides = 2, activation = \"relu\", padding = \"same\")(x)\n",
    "x = tf.keras.layers.Flatten()(x)\n",
    "x = tf.keras.layers.Dense(128, activation = \"relu\")(x)\n",
    "x = tf.keras.layers.Dense(10, activation = \"softmax\")(x)\n",
    "model = tf.keras.models.Model(i, x)\n"
   ]
  },
  {
   "cell_type": "code",
   "execution_count": 13,
   "metadata": {
    "colab": {},
    "colab_type": "code",
    "id": "4jQRa--eOY3K"
   },
   "outputs": [],
   "source": [
    "model.compile(optimizer = \"adam\",loss = \"sparse_categorical_crossentropy\", metrics = ['accuracy'])"
   ]
  },
  {
   "cell_type": "code",
   "execution_count": 14,
   "metadata": {
    "colab": {
     "base_uri": "https://localhost:8080/",
     "height": 85
    },
    "colab_type": "code",
    "executionInfo": {
     "elapsed": 69563,
     "status": "ok",
     "timestamp": 1591843849690,
     "user": {
      "displayName": "Adarsh Pachori",
      "photoUrl": "",
      "userId": "06453457984377806328"
     },
     "user_tz": 420
    },
    "id": "7wOzKeZ6QSAK",
    "outputId": "5d18e457-3cce-4685-e84d-5787093147f4"
   },
   "outputs": [
    {
     "name": "stdout",
     "output_type": "stream",
     "text": [
      "Train on 60000 samples, validate on 10000 samples\n",
      "Epoch 1/2\n",
      "60000/60000 [==============================] - 26s 435us/sample - loss: 0.4464 - acc: 0.8510 - val_loss: 0.3610 - val_acc: 0.8711\n",
      "Epoch 2/2\n",
      "60000/60000 [==============================] - 24s 402us/sample - loss: 0.2921 - acc: 0.8940 - val_loss: 0.3276 - val_acc: 0.8829\n"
     ]
    }
   ],
   "source": [
    "r = model.fit(x_train, y_train, validation_data=(x_test, y_test), epochs = 2)"
   ]
  },
  {
   "cell_type": "markdown",
   "metadata": {},
   "source": [
    "#### Evaluating the model"
   ]
  },
  {
   "cell_type": "code",
   "execution_count": 15,
   "metadata": {
    "colab": {
     "base_uri": "https://localhost:8080/",
     "height": 741
    },
    "colab_type": "code",
    "executionInfo": {
     "elapsed": 3556,
     "status": "ok",
     "timestamp": 1591844040689,
     "user": {
      "displayName": "Adarsh Pachori",
      "photoUrl": "",
      "userId": "06453457984377806328"
     },
     "user_tz": 420
    },
    "id": "B686rzizQ8em",
    "outputId": "8041cdea-20aa-44c1-cf0c-7a25633ad98d"
   },
   "outputs": [
    {
     "name": "stdout",
     "output_type": "stream",
     "text": [
      "[[910   1  14  11   2   2  55   0   5   0]\n",
      " [  1 977   0  13   3   0   6   0   0   0]\n",
      " [ 29   2 832   4  86   0  47   0   0   0]\n",
      " [ 55   1   7 843  68   0  24   0   2   0]\n",
      " [  1   2 120   6 825   0  45   0   1   0]\n",
      " [  0   0   0   0   0 977   0  16   0   7]\n",
      " [214   2  91  21  71   0 593   0   8   0]\n",
      " [  0   0   0   0   0  13   0 980   0   7]\n",
      " [  4   1   2   2   5   8   6   2 970   0]\n",
      " [  0   0   0   0   0  10   0  67   1 922]]\n",
      "              precision    recall  f1-score   support\n",
      "\n",
      "           0       0.75      0.91      0.82      1000\n",
      "           1       0.99      0.98      0.98      1000\n",
      "           2       0.78      0.83      0.81      1000\n",
      "           3       0.94      0.84      0.89      1000\n",
      "           4       0.78      0.82      0.80      1000\n",
      "           5       0.97      0.98      0.97      1000\n",
      "           6       0.76      0.59      0.67      1000\n",
      "           7       0.92      0.98      0.95      1000\n",
      "           8       0.98      0.97      0.98      1000\n",
      "           9       0.99      0.92      0.95      1000\n",
      "\n",
      "    accuracy                           0.88     10000\n",
      "   macro avg       0.89      0.88      0.88     10000\n",
      "weighted avg       0.89      0.88      0.88     10000\n",
      "\n"
     ]
    },
    {
     "data": {
      "text/plain": [
       "<matplotlib.legend.Legend at 0x12c8a11d0>"
      ]
     },
     "execution_count": 15,
     "metadata": {},
     "output_type": "execute_result"
    },
    {
     "data": {
      "image/png": "[encoded data removed]",
      "text/plain": [
       "<Figure size 432x288 with 1 Axes>"
      ]
     },
     "metadata": {
      "needs_background": "light"
     },
     "output_type": "display_data"
    }
   ],
   "source": [
    "from sklearn.metrics import classification_report, confusion_matrix\n",
    "print(confusion_matrix(y_test, np.argmax(model.predict(x_test),axis=-1)))\n",
    "print(classification_report(y_test, np.argmax(model.predict(x_test),axis=-1)))\n",
    "\n",
    "import matplotlib.pyplot as plt\n",
    "plt.plot(r.history['loss'], label = \"loss\")\n",
    "plt.plot(r.history['val_loss'], label = \"val_loss\")\n",
    "plt.legend()"
   ]
  },
  {
   "cell_type": "markdown",
   "metadata": {
    "colab_type": "text",
    "id": "wqR5MnLeSqRK"
   },
   "source": [
    "##### Model history is a straight line because the model ran for 2 epochs\n",
    "\n",
    "#### Displaying a random misclassified image from our model\n"
   ]
  },
  {
   "cell_type": "code",
   "execution_count": 16,
   "metadata": {
    "colab": {
     "base_uri": "https://localhost:8080/",
     "height": 34
    },
    "colab_type": "code",
    "executionInfo": {
     "elapsed": 2065,
     "status": "ok",
     "timestamp": 1591845087196,
     "user": {
      "displayName": "Adarsh Pachori",
      "photoUrl": "",
      "userId": "06453457984377806328"
     },
     "user_tz": 420
    },
    "id": "I94EOcM7TUIG",
    "outputId": "767876b8-c80b-4d46-e422-747fe061a64e"
   },
   "outputs": [
    {
     "data": {
      "text/plain": [
       "(1171,)"
      ]
     },
     "execution_count": 16,
     "metadata": {},
     "output_type": "execute_result"
    }
   ],
   "source": [
    "misclassified_images = np.where(y_test!= np.argmax(model.predict(x_test),axis=-1))[0]\n",
    "misclassified_images.shape"
   ]
  },
  {
   "cell_type": "code",
   "execution_count": 17,
   "metadata": {
    "colab": {
     "base_uri": "https://localhost:8080/",
     "height": 51
    },
    "colab_type": "code",
    "executionInfo": {
     "elapsed": 656,
     "status": "ok",
     "timestamp": 1591845724100,
     "user": {
      "displayName": "Adarsh Pachori",
      "photoUrl": "",
      "userId": "06453457984377806328"
     },
     "user_tz": 420
    },
    "id": "-M4u-I6jVnl5",
    "outputId": "13adb952-15da-4f49-a578-da061df02191"
   },
   "outputs": [
    {
     "name": "stdout",
     "output_type": "stream",
     "text": [
      "5740\n"
     ]
    },
    {
     "data": {
      "text/plain": [
       "10000"
      ]
     },
     "execution_count": 17,
     "metadata": {},
     "output_type": "execute_result"
    }
   ],
   "source": [
    "randi= np.random.choice(misclassified_images)\n",
    "print(randi)\n",
    "len(y_test)"
   ]
  },
  {
   "cell_type": "code",
   "execution_count": 22,
   "metadata": {
    "colab": {
     "base_uri": "https://localhost:8080/",
     "height": 298
    },
    "colab_type": "code",
    "executionInfo": {
     "elapsed": 2061,
     "status": "ok",
     "timestamp": 1591845726524,
     "user": {
      "displayName": "Adarsh Pachori",
      "photoUrl": "",
      "userId": "06453457984377806328"
     },
     "user_tz": 420
    },
    "id": "L4NcfK4MWB1-",
    "outputId": "640fcd77-797a-4d47-ce11-8f5292ab96f7"
   },
   "outputs": [
    {
     "data": {
      "text/plain": [
       "Text(0.5, 1.0, 'True label: Dress, Predicted Label: Coat')"
      ]
     },
     "execution_count": 22,
     "metadata": {},
     "output_type": "execute_result"
    },
    {
     "data": {
      "image/png": "[encoded data removed]",
      "text/plain": [
       "<Figure size 432x288 with 1 Axes>"
      ]
     },
     "metadata": {
      "needs_background": "light"
     },
     "output_type": "display_data"
    }
   ],
   "source": [
    "plt.imshow(x_test[randi].reshape(28,28), cmap = 'gray')\n",
    "index_label = {0: \"T-shirt/top\", 1: \"Trouser\", 2: \"Pullover\", 3:\"Dress\", 4: \"Coat\", 5: \"Sandal\", 6: \"Shirt\", 7: \"Sneaker\", 8: \"Bag\", 9: \"Ankle boot\"}\n",
    "plt.title(f\"True label: {index_label[y_test[randi]]}, Predicted Label: {index_label[np.argmax(model.predict(x_test), axis=-1)[randi]]}\")"
   ]
  }
 ],
 "metadata": {
  "colab": {
   "authorship_tag": "ABX9TyODOxEB6AjbXkyhvjgfNyCH",
   "name": "CNN.ipynb",
   "provenance": []
  },
  "kernelspec": {
   "display_name": "Python 3",
   "language": "python",
   "name": "python3"
  },
  "language_info": {
   "codemirror_mode": {
    "name": "ipython",
    "version": 3
   },
   "file_extension": ".py",
   "mimetype": "text/x-python",
   "name": "python",
   "nbconvert_exporter": "python",
   "pygments_lexer": "ipython3",
   "version": "3.7.6"
  }
 },
 "nbformat": 4,
 "nbformat_minor": 4
}
